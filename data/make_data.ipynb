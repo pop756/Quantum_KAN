{
 "cells": [
  {
   "cell_type": "code",
   "execution_count": 1,
   "metadata": {},
   "outputs": [],
   "source": [
    "from sklearn.datasets import make_classification\n",
    "from sklearn.model_selection import train_test_split\n",
    "from sklearn.datasets import load_breast_cancer\n",
    "import pickle\n",
    "\n",
    "X, y = make_classification(n_samples=1000, n_features=8, n_informative=6, n_redundant=2, n_classes=2, random_state=42)\n",
    "\n",
    "data = {}\n",
    "\n",
    "data['X'] = X\n",
    "data['Y'] = y\n",
    "\n",
    "\n",
    "with open('./data.pkl','wb') as file:\n",
    "    pickle.dump(data,file)\n"
   ]
  },
  {
   "cell_type": "code",
   "execution_count": null,
   "metadata": {},
   "outputs": [],
   "source": []
  }
 ],
 "metadata": {
  "kernelspec": {
   "display_name": "Lee",
   "language": "python",
   "name": "python3"
  },
  "language_info": {
   "codemirror_mode": {
    "name": "ipython",
    "version": 3
   },
   "file_extension": ".py",
   "mimetype": "text/x-python",
   "name": "python",
   "nbconvert_exporter": "python",
   "pygments_lexer": "ipython3",
   "version": "3.11.4"
  }
 },
 "nbformat": 4,
 "nbformat_minor": 2
}
