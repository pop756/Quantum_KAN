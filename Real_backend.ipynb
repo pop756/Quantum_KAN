{
  "cells": [
    {
      "cell_type": "code",
      "execution_count": 24,
      "metadata": {
        "colab": {
          "base_uri": "https://localhost:8080/"
        },
        "id": "7Sm7jWIZ8dlJ",
        "outputId": "ab1a9f44-50a1-4386-c951-076d105a1a1f"
      },
      "outputs": [
        {
          "output_type": "stream",
          "name": "stdout",
          "text": [
            "Cloning into 'Quantum_KAN'...\n",
            "remote: Enumerating objects: 885, done.\u001b[K\n",
            "remote: Counting objects: 100% (48/48), done.\u001b[K\n",
            "remote: Compressing objects: 100% (47/47), done.\u001b[K\n",
            "remote: Total 885 (delta 9), reused 23 (delta 1), pack-reused 837\u001b[K\n",
            "Receiving objects: 100% (885/885), 21.57 MiB | 13.49 MiB/s, done.\n",
            "Resolving deltas: 100% (127/127), done.\n",
            "/content/Quantum_KAN/Quantum_KAN\n",
            "Requirement already satisfied: pennylane in /usr/local/lib/python3.10/dist-packages (from -r requirements.txt (line 1)) (0.36.0)\n",
            "Requirement already satisfied: pykan in /usr/local/lib/python3.10/dist-packages (from -r requirements.txt (line 2)) (0.0.5)\n",
            "Requirement already satisfied: scikit-learn in /usr/local/lib/python3.10/dist-packages (from -r requirements.txt (line 3)) (1.2.2)\n",
            "Requirement already satisfied: qiskit-ibm-runtime in /usr/local/lib/python3.10/dist-packages (from -r requirements.txt (line 4)) (0.24.0)\n",
            "Requirement already satisfied: qiskit in /usr/local/lib/python3.10/dist-packages (from -r requirements.txt (line 5)) (1.1.0)\n",
            "Requirement already satisfied: qiskit-aer in /usr/local/lib/python3.10/dist-packages (from -r requirements.txt (line 6)) (0.14.2)\n",
            "Requirement already satisfied: pylatexenc in /usr/local/lib/python3.10/dist-packages (from -r requirements.txt (line 7)) (2.10)\n",
            "Requirement already satisfied: qiskit_ibm_provider in /usr/local/lib/python3.10/dist-packages (from -r requirements.txt (line 8)) (0.11.0)\n",
            "Requirement already satisfied: qiskit_dynamics in /usr/local/lib/python3.10/dist-packages (from -r requirements.txt (line 9)) (0.5.1)\n",
            "Requirement already satisfied: numpy<2.0 in /usr/local/lib/python3.10/dist-packages (from pennylane->-r requirements.txt (line 1)) (1.25.2)\n",
            "Requirement already satisfied: scipy in /usr/local/lib/python3.10/dist-packages (from pennylane->-r requirements.txt (line 1)) (1.11.4)\n",
            "Requirement already satisfied: networkx in /usr/local/lib/python3.10/dist-packages (from pennylane->-r requirements.txt (line 1)) (3.3)\n",
            "Requirement already satisfied: rustworkx in /usr/local/lib/python3.10/dist-packages (from pennylane->-r requirements.txt (line 1)) (0.14.2)\n",
            "Requirement already satisfied: autograd in /usr/local/lib/python3.10/dist-packages (from pennylane->-r requirements.txt (line 1)) (1.6.2)\n",
            "Requirement already satisfied: toml in /usr/local/lib/python3.10/dist-packages (from pennylane->-r requirements.txt (line 1)) (0.10.2)\n",
            "Requirement already satisfied: appdirs in /usr/local/lib/python3.10/dist-packages (from pennylane->-r requirements.txt (line 1)) (1.4.4)\n",
            "Requirement already satisfied: semantic-version>=2.7 in /usr/local/lib/python3.10/dist-packages (from pennylane->-r requirements.txt (line 1)) (2.10.0)\n",
            "Requirement already satisfied: autoray>=0.6.1 in /usr/local/lib/python3.10/dist-packages (from pennylane->-r requirements.txt (line 1)) (0.6.12)\n",
            "Requirement already satisfied: cachetools in /usr/local/lib/python3.10/dist-packages (from pennylane->-r requirements.txt (line 1)) (5.3.3)\n",
            "Requirement already satisfied: pennylane-lightning>=0.36 in /usr/local/lib/python3.10/dist-packages (from pennylane->-r requirements.txt (line 1)) (0.36.0)\n",
            "Requirement already satisfied: requests in /usr/local/lib/python3.10/dist-packages (from pennylane->-r requirements.txt (line 1)) (2.31.0)\n",
            "Requirement already satisfied: typing-extensions in /usr/local/lib/python3.10/dist-packages (from pennylane->-r requirements.txt (line 1)) (4.12.2)\n",
            "Requirement already satisfied: joblib>=1.1.1 in /usr/local/lib/python3.10/dist-packages (from scikit-learn->-r requirements.txt (line 3)) (1.4.2)\n",
            "Requirement already satisfied: threadpoolctl>=2.0.0 in /usr/local/lib/python3.10/dist-packages (from scikit-learn->-r requirements.txt (line 3)) (3.5.0)\n",
            "Requirement already satisfied: requests-ntlm>=1.1.0 in /usr/local/lib/python3.10/dist-packages (from qiskit-ibm-runtime->-r requirements.txt (line 4)) (1.3.0)\n",
            "Requirement already satisfied: urllib3>=1.21.1 in /usr/local/lib/python3.10/dist-packages (from qiskit-ibm-runtime->-r requirements.txt (line 4)) (2.2.2)\n",
            "Requirement already satisfied: python-dateutil>=2.8.0 in /usr/local/lib/python3.10/dist-packages (from qiskit-ibm-runtime->-r requirements.txt (line 4)) (2.8.2)\n",
            "Requirement already satisfied: websocket-client>=1.5.1 in /usr/local/lib/python3.10/dist-packages (from qiskit-ibm-runtime->-r requirements.txt (line 4)) (1.8.0)\n",
            "Requirement already satisfied: ibm-platform-services>=0.22.6 in /usr/local/lib/python3.10/dist-packages (from qiskit-ibm-runtime->-r requirements.txt (line 4)) (0.53.7)\n",
            "Requirement already satisfied: pydantic in /usr/local/lib/python3.10/dist-packages (from qiskit-ibm-runtime->-r requirements.txt (line 4)) (2.7.3)\n",
            "Requirement already satisfied: sympy>=1.3 in /usr/local/lib/python3.10/dist-packages (from qiskit->-r requirements.txt (line 5)) (1.12.1)\n",
            "Requirement already satisfied: dill>=0.3 in /usr/local/lib/python3.10/dist-packages (from qiskit->-r requirements.txt (line 5)) (0.3.8)\n",
            "Requirement already satisfied: stevedore>=3.0.0 in /usr/local/lib/python3.10/dist-packages (from qiskit->-r requirements.txt (line 5)) (5.2.0)\n",
            "Requirement already satisfied: symengine>=0.11 in /usr/local/lib/python3.10/dist-packages (from qiskit->-r requirements.txt (line 5)) (0.11.0)\n",
            "Requirement already satisfied: psutil>=5 in /usr/local/lib/python3.10/dist-packages (from qiskit-aer->-r requirements.txt (line 6)) (5.9.5)\n",
            "Requirement already satisfied: websockets>=10.0 in /usr/local/lib/python3.10/dist-packages (from qiskit_ibm_provider->-r requirements.txt (line 8)) (12.0)\n",
            "Requirement already satisfied: matplotlib>=3.0 in /usr/local/lib/python3.10/dist-packages (from qiskit_dynamics->-r requirements.txt (line 9)) (3.7.1)\n",
            "Requirement already satisfied: multiset>=3.0.1 in /usr/local/lib/python3.10/dist-packages (from qiskit_dynamics->-r requirements.txt (line 9)) (3.1.0)\n",
            "Requirement already satisfied: arraylias in /usr/local/lib/python3.10/dist-packages (from qiskit_dynamics->-r requirements.txt (line 9)) (0.1.1)\n",
            "Requirement already satisfied: ibm-cloud-sdk-core<4.0.0,>=3.19.2 in /usr/local/lib/python3.10/dist-packages (from ibm-platform-services>=0.22.6->qiskit-ibm-runtime->-r requirements.txt (line 4)) (3.20.1)\n",
            "Requirement already satisfied: contourpy>=1.0.1 in /usr/local/lib/python3.10/dist-packages (from matplotlib>=3.0->qiskit_dynamics->-r requirements.txt (line 9)) (1.2.1)\n",
            "Requirement already satisfied: cycler>=0.10 in /usr/local/lib/python3.10/dist-packages (from matplotlib>=3.0->qiskit_dynamics->-r requirements.txt (line 9)) (0.12.1)\n",
            "Requirement already satisfied: fonttools>=4.22.0 in /usr/local/lib/python3.10/dist-packages (from matplotlib>=3.0->qiskit_dynamics->-r requirements.txt (line 9)) (4.53.0)\n",
            "Requirement already satisfied: kiwisolver>=1.0.1 in /usr/local/lib/python3.10/dist-packages (from matplotlib>=3.0->qiskit_dynamics->-r requirements.txt (line 9)) (1.4.5)\n",
            "Requirement already satisfied: packaging>=20.0 in /usr/local/lib/python3.10/dist-packages (from matplotlib>=3.0->qiskit_dynamics->-r requirements.txt (line 9)) (24.1)\n",
            "Requirement already satisfied: pillow>=6.2.0 in /usr/local/lib/python3.10/dist-packages (from matplotlib>=3.0->qiskit_dynamics->-r requirements.txt (line 9)) (9.4.0)\n",
            "Requirement already satisfied: pyparsing>=2.3.1 in /usr/local/lib/python3.10/dist-packages (from matplotlib>=3.0->qiskit_dynamics->-r requirements.txt (line 9)) (3.1.2)\n",
            "Requirement already satisfied: six>=1.5 in /usr/local/lib/python3.10/dist-packages (from python-dateutil>=2.8.0->qiskit-ibm-runtime->-r requirements.txt (line 4)) (1.16.0)\n",
            "Requirement already satisfied: charset-normalizer<4,>=2 in /usr/local/lib/python3.10/dist-packages (from requests->pennylane->-r requirements.txt (line 1)) (3.3.2)\n",
            "Requirement already satisfied: idna<4,>=2.5 in /usr/local/lib/python3.10/dist-packages (from requests->pennylane->-r requirements.txt (line 1)) (3.7)\n",
            "Requirement already satisfied: certifi>=2017.4.17 in /usr/local/lib/python3.10/dist-packages (from requests->pennylane->-r requirements.txt (line 1)) (2024.6.2)\n",
            "Requirement already satisfied: cryptography>=1.3 in /usr/local/lib/python3.10/dist-packages (from requests-ntlm>=1.1.0->qiskit-ibm-runtime->-r requirements.txt (line 4)) (42.0.8)\n",
            "Requirement already satisfied: pyspnego>=0.4.0 in /usr/local/lib/python3.10/dist-packages (from requests-ntlm>=1.1.0->qiskit-ibm-runtime->-r requirements.txt (line 4)) (0.11.0)\n",
            "Requirement already satisfied: pbr!=2.1.0,>=2.0.0 in /usr/local/lib/python3.10/dist-packages (from stevedore>=3.0.0->qiskit->-r requirements.txt (line 5)) (6.0.0)\n",
            "Requirement already satisfied: mpmath<1.4.0,>=1.1.0 in /usr/local/lib/python3.10/dist-packages (from sympy>=1.3->qiskit->-r requirements.txt (line 5)) (1.3.0)\n",
            "Requirement already satisfied: future>=0.15.2 in /usr/local/lib/python3.10/dist-packages (from autograd->pennylane->-r requirements.txt (line 1)) (0.18.3)\n",
            "Requirement already satisfied: annotated-types>=0.4.0 in /usr/local/lib/python3.10/dist-packages (from pydantic->qiskit-ibm-runtime->-r requirements.txt (line 4)) (0.7.0)\n",
            "Requirement already satisfied: pydantic-core==2.18.4 in /usr/local/lib/python3.10/dist-packages (from pydantic->qiskit-ibm-runtime->-r requirements.txt (line 4)) (2.18.4)\n",
            "Requirement already satisfied: cffi>=1.12 in /usr/local/lib/python3.10/dist-packages (from cryptography>=1.3->requests-ntlm>=1.1.0->qiskit-ibm-runtime->-r requirements.txt (line 4)) (1.16.0)\n",
            "Requirement already satisfied: PyJWT<3.0.0,>=2.8.0 in /usr/local/lib/python3.10/dist-packages (from ibm-cloud-sdk-core<4.0.0,>=3.19.2->ibm-platform-services>=0.22.6->qiskit-ibm-runtime->-r requirements.txt (line 4)) (2.8.0)\n",
            "Requirement already satisfied: pycparser in /usr/local/lib/python3.10/dist-packages (from cffi>=1.12->cryptography>=1.3->requests-ntlm>=1.1.0->qiskit-ibm-runtime->-r requirements.txt (line 4)) (2.22)\n"
          ]
        }
      ],
      "source": [
        "\n",
        "!git clone -b EMT https://github.com/pop756/Quantum_KAN.git\n",
        "%cd Quantum_KAN\n",
        "!pip install -r requirements.txt"
      ]
    },
    {
      "cell_type": "code",
      "execution_count": 27,
      "metadata": {
        "id": "Vgay4kcFsmVM"
      },
      "outputs": [],
      "source": [
        "import qiskit\n",
        "from qiskit import QuantumCircuit\n",
        "from qiskit.circuit import Parameter\n",
        "import numpy as np\n",
        "from qiskit.compiler import transpile\n",
        "from qiskit_ibm_runtime.options import TwirlingOptions\n",
        "from qiskit.quantum_info import SparsePauliOp\n",
        "import uuid\n",
        "\n",
        "def create_trotterized_ising_model_circuit(num_qubits, trotter_steps, time):\n",
        "    \"\"\"\n",
        "    Trotterization을 사용하여 Ising 모델의 양자 서킷을 생성합니다.\n",
        "    각 Rz 게이트의 파라미터는 Qiskit Parameter로 동적으로 설정됩니다.\n",
        "\n",
        "    Parameters:\n",
        "    - num_qubits: 큐비트의 수\n",
        "    - trotter_steps: Trotterization 단계 수\n",
        "    - time: 진화 시간\n",
        "\n",
        "    Returns:\n",
        "    - QuantumCircuit: 생성된 양자 서킷\n",
        "    - dict: 서킷 파라미터 사전\n",
        "    \"\"\"\n",
        "    qc = QuantumCircuit(num_qubits)\n",
        "    delta_t = 1\n",
        "\n",
        "    # 파라미터 설정\n",
        "    h_params = [Parameter(f'h_{i}') for i in range(num_qubits)]\n",
        "    J_params = [[Parameter(f'J_{i}_{j}') for j in range(num_qubits)] for i in range(num_qubits)]\n",
        "\n",
        "    for _ in range(trotter_steps):\n",
        "        # 자기 상호작용 항목 추가\n",
        "        for i in range(num_qubits):\n",
        "            qc.rx(2 * h_params[i] * delta_t, i)\n",
        "\n",
        "        # 스핀 간 상호작용 항목 추가\n",
        "        for i in range(num_qubits-1):\n",
        "            if J_params[i][i+1] != 0:\n",
        "                qc.cx(i, i+1)\n",
        "                qc.rz(2 * J_params[i][i+1] * delta_t, i+1)\n",
        "                qc.cx(i, i+1)\n",
        "\n",
        "    return qc, h_params, J_params\n",
        "\n",
        "\n",
        "# ECR 게이트를 제거하는 함수\n",
        "def remove_ecr_gates(circuit):\n",
        "    new_circuit = QuantumCircuit(circuit.num_qubits)\n",
        "    for instr, qargs, cargs in circuit.data:\n",
        "        if instr.name != 'ecr':\n",
        "            new_circuit.append(instr, qargs, cargs)\n",
        "    return new_circuit\n",
        "\n",
        "# 파라미터 설정\n",
        "trotter_steps = 3  # Trotterization 단계 수\n",
        "time = 1.0  # 진화 시간\n",
        "num_qubits = 8\n",
        "init_p  =['I' for i in range(num_qubits)]\n",
        "p_list = []\n",
        "for i in range(num_qubits):\n",
        "  temp = init_p.copy()\n",
        "  temp[i] = 'Z'\n",
        "  p_list.append(''.join(temp))\n",
        "\n",
        "\n",
        "hamiltonian = SparsePauliOp.from_list([(p_list[i],1) for i in range(num_qubits)])\n"
      ]
    },
    {
      "cell_type": "code",
      "execution_count": 28,
      "metadata": {
        "id": "d9zS4Z5-JzC0",
        "notebookRunGroups": {
          "groupValue": "1"
        }
      },
      "outputs": [],
      "source": [
        "\n",
        "\n",
        "# Initialize your account\n",
        "from qiskit_ibm_runtime import QiskitRuntimeService\n",
        "import qiskit_ibm_provider\n",
        "from qiskit_aer import AerSimulator\n",
        "from qiskit.circuit.library import RealAmplitudes,EfficientSU2\n",
        "\n",
        "service = QiskitRuntimeService(channel='ibm_quantum',\n",
        "    instance='ibm-q-skku/skku/skku-students',\n",
        "    token = '06f802eeac992c43c4106753d7c5fc31414a13eb7d91c99d67fb49cc50569e5b4b011f20c71b9607a07cb43ecc7044557c699022db91d1685ba4c886d5886854')\n",
        "\n",
        "qubit_use = [117,118,119,120,121,122,123,124]\n",
        "\n",
        "\n",
        "\n",
        "\n",
        "trotterized_ising_circuit, h_params, J_params = create_trotterized_ising_model_circuit(8, trotter_steps, time)\n",
        "ansatz = EfficientSU2(8, reps=4)"
      ]
    },
    {
      "cell_type": "code",
      "source": [
        "backend = service.backend('ibm_kyoto')"
      ],
      "metadata": {
        "id": "LU5KVFqeVXQe"
      },
      "execution_count": 30,
      "outputs": []
    },
    {
      "cell_type": "code",
      "source": [],
      "metadata": {
        "id": "8rIWUFEhVeYC"
      },
      "execution_count": null,
      "outputs": []
    },
    {
      "cell_type": "code",
      "source": [
        "backend.service.jobs"
      ],
      "metadata": {
        "colab": {
          "base_uri": "https://localhost:8080/",
          "height": 239
        },
        "id": "DArHadiQVbCD",
        "outputId": "180db564-43fa-49c6-8ddf-6a4b939be498"
      },
      "execution_count": 34,
      "outputs": [
        {
          "output_type": "execute_result",
          "data": {
            "text/plain": [
              "<bound method QiskitRuntimeService.jobs of <QiskitRuntimeService>>"
            ],
            "text/html": [
              "<div style=\"max-width:800px; border: 1px solid var(--colab-border-color);\"><style>\n",
              "      pre.function-repr-contents {\n",
              "        overflow-x: auto;\n",
              "        padding: 8px 12px;\n",
              "        max-height: 500px;\n",
              "      }\n",
              "\n",
              "      pre.function-repr-contents.function-repr-contents-collapsed {\n",
              "        cursor: pointer;\n",
              "        max-height: 100px;\n",
              "      }\n",
              "    </style>\n",
              "    <pre style=\"white-space: initial; background:\n",
              "         var(--colab-secondary-surface-color); padding: 8px 12px;\n",
              "         border-bottom: 1px solid var(--colab-border-color);\"><b>qiskit_ibm_runtime.qiskit_runtime_service.QiskitRuntimeService.jobs</b><br/>def jobs(limit: Optional[int]=10, skip: int=0, backend_name: Optional[str]=None, pending: bool=None, program_id: str=None, instance: Optional[str]=None, job_tags: Optional[List[str]]=None, session_id: Optional[str]=None, created_after: Optional[datetime]=None, created_before: Optional[datetime]=None, descending: bool=True) -&gt; List[Union[RuntimeJob, RuntimeJobV2]]</pre><pre class=\"function-repr-contents function-repr-contents-collapsed\" style=\"\"><a class=\"filepath\" style=\"display:none\" href=\"#\">/usr/local/lib/python3.10/dist-packages/qiskit_ibm_runtime/qiskit_runtime_service.py</a>Retrieve all runtime jobs, subject to optional filtering.\n",
              "\n",
              "Args:\n",
              "    limit: Number of jobs to retrieve. ``None`` means no limit.\n",
              "    skip: Starting index for the job retrieval.\n",
              "    backend_name: Name of the backend to retrieve jobs from.\n",
              "    pending: Filter by job pending state. If ``True``, &#x27;QUEUED&#x27; and &#x27;RUNNING&#x27;\n",
              "        jobs are included. If ``False``, &#x27;DONE&#x27;, &#x27;CANCELLED&#x27; and &#x27;ERROR&#x27; jobs\n",
              "        are included.\n",
              "    program_id: Filter by Program ID.\n",
              "    instance: This is only supported for ``ibm_quantum`` runtime and is in the\n",
              "        hub/group/project format.\n",
              "    job_tags: Filter by tags assigned to jobs. Matched jobs are associated with all tags.\n",
              "    session_id: Job ID of the first job in a runtime session.\n",
              "    created_after: Filter by the given start date, in local time. This is used to\n",
              "        find jobs whose creation dates are after (greater than or equal to) this\n",
              "        local date/time.\n",
              "    created_before: Filter by the given end date, in local time. This is used to\n",
              "        find jobs whose creation dates are before (less than or equal to) this\n",
              "        local date/time.\n",
              "    descending: If ``True``, return the jobs in descending order of the job\n",
              "        creation date (i.e. newest first) until the limit is reached.\n",
              "\n",
              "Returns:\n",
              "    A list of runtime jobs.\n",
              "\n",
              "Raises:\n",
              "    IBMInputValueError: If an input value is invalid.</pre>\n",
              "      <script>\n",
              "      if (google.colab.kernel.accessAllowed && google.colab.files && google.colab.files.view) {\n",
              "        for (const element of document.querySelectorAll('.filepath')) {\n",
              "          element.style.display = 'block'\n",
              "          element.onclick = (event) => {\n",
              "            event.preventDefault();\n",
              "            event.stopPropagation();\n",
              "            google.colab.files.view(element.textContent, 951);\n",
              "          };\n",
              "        }\n",
              "      }\n",
              "      for (const element of document.querySelectorAll('.function-repr-contents')) {\n",
              "        element.onclick = (event) => {\n",
              "          event.preventDefault();\n",
              "          event.stopPropagation();\n",
              "          element.classList.toggle('function-repr-contents-collapsed');\n",
              "        };\n",
              "      }\n",
              "      </script>\n",
              "      </div>"
            ]
          },
          "metadata": {},
          "execution_count": 34
        }
      ]
    },
    {
      "cell_type": "code",
      "execution_count": 29,
      "metadata": {
        "id": "Jy4h6IuQsruv"
      },
      "outputs": [],
      "source": [
        "#setting\n",
        "optimization_level = 0\n",
        "resilience_level = 1\n",
        "l = 0\n",
        "stretch = 3\n",
        "T_options = TwirlingOptions(enable_gates=True)"
      ]
    },
    {
      "cell_type": "code",
      "execution_count": 43,
      "metadata": {
        "id": "g_CR9Czh6VIk"
      },
      "outputs": [],
      "source": [
        "from qiskit.compiler import transpile\n",
        "import copy\n",
        "from qiskit_ibm_runtime.fake_provider import FakePerth\n",
        "from qiskit.circuit import QuantumCircuit, Gate\n",
        "from qiskit.pulse import builder, DriveChannel,Schedule,GaussianSquare,Drag,Play,ScheduleBlock,Delay\n",
        "from qiskit.transpiler import InstructionProperties\n",
        "from qiskit_ibm_runtime import QiskitRuntimeService, EstimatorV2 ,SamplerV2\n",
        "from qiskit_ibm_runtime import Session\n",
        "import numpy as np\n",
        "from qiskit.primitives import StatevectorEstimator\n",
        "import torch\n",
        "from qiskit.quantum_info import SparsePauliOp\n",
        "import pickle\n",
        "import pandas as pd\n",
        "from qiskit.transpiler.preset_passmanagers import generate_preset_pass_manager\n",
        "from qiskit_ibm_runtime import Batch\n",
        "def remove_ecr_gates(circuit):\n",
        "    new_circuit = QuantumCircuit(circuit.num_qubits)\n",
        "    for instr, qargs, cargs in circuit.data:\n",
        "        if instr.name != 'ecr':\n",
        "            new_circuit.append(instr, qargs, cargs)\n",
        "    return new_circuit\n",
        "\n",
        "def check_connect(backend,init_list):\n",
        "    min = np.min(np.array(init_list))\n",
        "    connection_temp = []\n",
        "    connection = []\n",
        "    for item in backend.target['ecr']:\n",
        "        if (item[0] in init_list) and (item[1] in init_list):\n",
        "            connection.append(item)\n",
        "\n",
        "    connection_temp = []\n",
        "    for item in backend.target['ecr']:\n",
        "        if (item[0] in init_list) and (item[1] in init_list):\n",
        "            connection_temp.append((int(item[0]-min),int(item[1]-min)))\n",
        "\n",
        "    return connection,connection_temp\n",
        "\n",
        "\n",
        "def ecr_to_error(pulse_schedule,l):\n",
        "    pulse_copy = copy.deepcopy(pulse_schedule)\n",
        "    duration_width_diff = int(pulse_copy.instructions[0][1].pulse.duration-pulse_copy.instructions[0][1].pulse._params['width'])\n",
        "    duration = round(pulse_copy.instructions[0][1].pulse.duration/32*l)*16\n",
        "    width = duration-duration_width_diff\n",
        "    x_duration = pulse_copy.instructions[2][1].pulse.duration\n",
        "    sigma = round(pulse_copy.instructions[0][1].pulse._params['sigma']/32*l)*16\n",
        "    amp = pulse_copy.instructions[0][1].pulse._params['amp']/(2*l)\n",
        "    if sigma == 0:\n",
        "        sigma = 1\n",
        "    my_schedule = ScheduleBlock()\n",
        "    signal_params = {'width':width,'amp':amp}\n",
        "    for j in range(2):\n",
        "        pulse_copy = copy.deepcopy(pulse_schedule)\n",
        "        pulse_input_x_1 = pulse_copy.instructions[0][1]\n",
        "        pulse_input_x_2 = pulse_copy.instructions[3][1]\n",
        "        pulse_input_c_1 = pulse_copy.instructions[1][1]\n",
        "        #pulse_input_c_1.pulse._params['angle'] = 0\n",
        "        pulse_input_c_1.pulse._params.update(signal_params)\n",
        "        pulse_input_c_1.pulse.duration = duration\n",
        "        pulse_input_x_1.pulse._params.update(signal_params)\n",
        "        pulse_input_x_1.pulse.duration = duration\n",
        "        pulse_input_drag = pulse_copy.instructions[2][1]\n",
        "        if j == 1:\n",
        "            pulse_input_drag.pulse._params['angle'] += 3.14\n",
        "        pulse_input_c_2 = pulse_copy.instructions[4][1]\n",
        "        pulse_input_c_2.pulse.duration = duration\n",
        "        pulse_input_c_2.pulse._params.update(signal_params)\n",
        "        pulse_input_x_2.pulse._params.update(signal_params)\n",
        "        pulse_input_x_2.pulse.duration = duration\n",
        "        real_pulse = ScheduleBlock()\n",
        "        real_pulse += pulse_input_c_1\n",
        "        real_pulse += pulse_input_x_1\n",
        "        real_pulse += Delay(x_duration,pulse_input_c_1.channel)\n",
        "        real_pulse += Delay(x_duration,pulse_input_x_1.channel)\n",
        "        real_pulse +=  pulse_input_c_2\n",
        "        real_pulse += pulse_input_x_2\n",
        "        real_pulse += Delay(duration,pulse_input_drag.channel)\n",
        "        real_pulse += pulse_input_drag\n",
        "        my_schedule += real_pulse\n",
        "    return my_schedule\n",
        "\n",
        "\n",
        "def ecr_to_schedule(pulse_schedule,stretch):\n",
        "    pulse_copy = copy.deepcopy(pulse_schedule)\n",
        "    my_schedule = ScheduleBlock()\n",
        "\n",
        "    #변수들 값 정의\n",
        "    duration_width_diff = int(pulse_copy.instructions[0][1].pulse.duration-pulse_copy.instructions[0][1].pulse._params['width'])\n",
        "    duration = round(pulse_copy.instructions[0][1].pulse.duration/16*stretch)*16\n",
        "    width = duration - duration_width_diff\n",
        "    x_duration = pulse_copy.instructions[2][1].pulse.duration\n",
        "    amp = pulse_copy.instructions[0][1].pulse._params['amp']/stretch\n",
        "\n",
        "\n",
        "    pulse_input_x_1 = pulse_copy.instructions[0][1]\n",
        "    pulse_input_x_2 = pulse_copy.instructions[3][1]\n",
        "    pulse_input_c_1 = pulse_copy.instructions[1][1]\n",
        "    pulse_input_drag = pulse_copy.instructions[2][1]\n",
        "    pulse_input_c_2 = pulse_copy.instructions[4][1]\n",
        "    signal_params = {'width':width,'amp':amp}\n",
        "    pulse_input_c_1.pulse._params.update(signal_params)\n",
        "    pulse_input_c_1.pulse.duration = duration\n",
        "    pulse_input_x_1.pulse._params.update(signal_params)\n",
        "    pulse_input_x_1.pulse.duration = duration\n",
        "    pulse_input_c_2.pulse.duration = duration\n",
        "    pulse_input_c_2.pulse._params.update(signal_params)\n",
        "    pulse_input_x_2.pulse._params.update(signal_params)\n",
        "    pulse_input_x_2.pulse.duration = duration\n",
        "    real_pulse = ScheduleBlock()\n",
        "    real_pulse += pulse_input_c_1\n",
        "    real_pulse += pulse_input_x_1\n",
        "    real_pulse += Delay(x_duration,pulse_input_c_1.channel)\n",
        "    real_pulse += Delay(x_duration,pulse_input_x_1.channel)\n",
        "    real_pulse +=  pulse_input_c_2\n",
        "    real_pulse += pulse_input_x_2\n",
        "    real_pulse += Delay(duration,pulse_input_drag.channel)\n",
        "    real_pulse += pulse_input_drag\n",
        "    my_schedule += real_pulse\n",
        "    return my_schedule\n",
        "\n",
        "\n",
        "def update_ecr(l,init_list,backend,stretch=1):\n",
        "    backend_copy = copy.deepcopy(backend)\n",
        "    for initial_layout in init_list:\n",
        "        pulse_schedule = backend_copy.target['ecr'][initial_layout].calibration\n",
        "        pulse_real = ecr_to_error(pulse_schedule,stretch)\n",
        "\n",
        "\n",
        "        if l == 0:\n",
        "            backend_copy.target.update_instruction_properties(f'ecr',initial_layout,properties = InstructionProperties(calibration=(pulse_real)))\n",
        "        else:\n",
        "            my_schedule = ecr_to_error(pulse_schedule,l)\n",
        "            backend_copy.target.update_instruction_properties(f'ecr',initial_layout,properties = InstructionProperties(calibration=(pulse_real+my_schedule)))\n",
        "\n",
        "\n",
        "\n",
        "    return backend_copy\n",
        "\n",
        "def update_ecr_real(l,init_list,backend,stretch=1):\n",
        "    backend_copy = copy.deepcopy(backend)\n",
        "    layouts = {}\n",
        "    for initial_layout in init_list:\n",
        "        pulse_schedule = backend_copy.target['ecr'][initial_layout].calibration\n",
        "        pulse_real = ecr_to_schedule(pulse_schedule,stretch)\n",
        "\n",
        "        if l == 0:\n",
        "            backend_copy.target.update_instruction_properties(f'ecr',initial_layout,properties = InstructionProperties(calibration=(pulse_real)))\n",
        "        else:\n",
        "            my_schedule = ecr_to_error(pulse_schedule,l)\n",
        "            backend_copy.target.update_instruction_properties(f'ecr',initial_layout,properties = InstructionProperties(calibration=(pulse_real+my_schedule)))\n",
        "\n",
        "\n",
        "\n",
        "    return backend_copy\n",
        "\n",
        "class ZNE():\n",
        "    def __init__(self,circ,H,backend,init_list,validation_size=100,train_size=100,stretch=1.5,ZNE_factor=[1,1.8,2.2,2.6]):\n",
        "        \"\"\"_summary_\n",
        "\n",
        "        Args:\n",
        "            circ (_type_): _input_circuit_\n",
        "            H (_type_): _expectation_measure_basis_\n",
        "            backend (_type_): _backend_\n",
        "            init_list (_type_): _qubit_use_\n",
        "            validation_size (int, optional): _size of validation_. Defaults to 100.\n",
        "            train_size (int, optional): _size of train_. Defaults to 100.\n",
        "            stretch (int, optional): _length of pulse at 1_. Defaults to 1.\n",
        "            ZNE_factor (list, optional): _ZNE factor_. Defaults to [1,1.8,2.2,2.6].\n",
        "        \"\"\"\n",
        "        self.H = H\n",
        "        self.backend = backend\n",
        "        self.validation_size = validation_size\n",
        "        self.train_size = train_size\n",
        "        self.stretch = stretch\n",
        "        self.ZNE_factor = ZNE_factor\n",
        "        self.id_train = str(uuid.uuid4())\n",
        "        self.id_valid = str(uuid.uuid4())\n",
        "        connection,connection_temp = check_connect(backend,init_list)\n",
        "        circ = transpile(circ,basis_gates=['rz','sx','x','ecr'],coupling_map=[list(i) for i in connection_temp],optimization_level=2,seed_transpiler=30)\n",
        "        train_circ = remove_ecr_gates(circ)\n",
        "        self.circ = circ\n",
        "        self.train_circ = train_circ\n",
        "        self.init_list = init_list\n",
        "        self.connection = connection\n",
        "        np.random.seed(30)\n",
        "        self.train_parameters = np.random.uniform(-3.14, 3.14, [train_size,len(circ.parameters)])\n",
        "        np.random.seed(60)\n",
        "        self.valid_parameters = np.random.uniform(-3.14, 3.14, [validation_size,len(circ.parameters)])\n",
        "    def ZNE_pulse(self,factor):\n",
        "        backend_error = update_ecr(factor*self.stretch,self.connection,self.backend,stretch=self.stretch)\n",
        "        backend_ecr = update_ecr_real(factor*self.stretch,self.connection,self.backend,stretch=self.stretch)\n",
        "        return backend_error,backend_ecr\n",
        "\n",
        "    def make_data(self):\n",
        "        self.train_jobs = []\n",
        "        self.valid_jobs = []\n",
        "        for factor in self.ZNE_factor:\n",
        "            backend_error,backend_ecr = self.ZNE_pulse(factor-1)\n",
        "            #Train set 만들기\n",
        "            passmanager = generate_preset_pass_manager(optimization_level=0, backend=backend_error, initial_layout=self.init_list)\n",
        "            qc_input = passmanager.run(self.circ)\n",
        "            isa_observables = self.H.apply_layout(qc_input.layout)\n",
        "            with Batch(backend = backend_error):\n",
        "                estimator = EstimatorV2()\n",
        "                job = estimator.run([(qc_input, isa_observables, self.train_parameters[i]) for i in range(self.train_size)])\n",
        "                job.update_tags([self.id_train,'ecr_train',f\"l={factor}\",f\"stretch={self.stretch}\"])\n",
        "                self.train_jobs.append(job)\n",
        "\n",
        "            #Validation set 만들기\n",
        "            passmanager = generate_preset_pass_manager(optimization_level=0, backend=backend_ecr, initial_layout=self.init_list)\n",
        "            qc_input = passmanager.run(self.circ)\n",
        "            isa_observables = self.H.apply_layout(qc_input.layout)\n",
        "            with Batch(backend = backend_ecr):\n",
        "                estimator = EstimatorV2()\n",
        "                job = estimator.run([(qc_input, isa_observables, self.valid_parameters[i]) for i in range(self.validation_size)])\n",
        "                #job = sampler.run(qc_list,shots=8000)\n",
        "                job.update_tags([self.id_valid,'ecr',f\"l={factor}\",\"x\"])\n",
        "                self.valid_jobs.append(job)\n",
        "\n",
        "    def make_label(self):\n",
        "        estimator = StatevectorEstimator()\n",
        "        job_train = estimator.run([(self.train_circ, self.H, self.train_parameters[i]) for i in range(self.train_size)])\n",
        "        job_valid = estimator.run([(self.circ, self.H, self.valid_parameters[i]) for i in range(self.validation_size)])\n",
        "        train_label = torch.tensor(np.array([result.data.evs for result in job_train.result()]),dtype=torch.float32)\n",
        "        validation_label = torch.tensor(np.array([result.data.evs for result in job_valid.result()]),dtype=torch.float32)\n",
        "        train_label = torch.reshape(train_label,[-1,1])\n",
        "        validation_label = torch.reshape(validation_label,[-1,1])\n",
        "        self.train_label = train_label\n",
        "        self.validation_label = validation_label\n",
        "\n",
        "    def get_data(self,train_uuid,valid_uuid):\n",
        "        service = self.backend.service\n",
        "        self.train_jobs = service.jobs([train_uuid])\n",
        "        self.valid_jobs = service.jobs([valid_uuid])\n",
        "\n",
        "\n",
        "    def run(self,get_data = False,make_label = True,train_uuid = None,valid_uuid = None):\n",
        "        \"\"\"_summary_\n",
        "\n",
        "        Args:\n",
        "            make_data (bool, optional): _데이터를 이미 만들어 놓은지 유무_. Defaults to True.\n",
        "            make_label (bool, optional): _label를 만들지 유무_. Defaults to True.\n",
        "        \"\"\"\n",
        "        if get_data:\n",
        "            self.get_data(train_uuid,valid_uuid)\n",
        "        import torch\n",
        "        train_set = []\n",
        "        valid_set = []\n",
        "\n",
        "        for i in range(len(self.ZNE_factor)):\n",
        "            train_list = []\n",
        "            valid_list = []\n",
        "            for res in self.train_jobs[i].result():\n",
        "                train_list.append(res.data.evs)\n",
        "            train_set.append(torch.tensor(np.array(train_list),dtype=torch.float32))\n",
        "\n",
        "\n",
        "            for res in self.valid_jobs[i].result():\n",
        "                valid_list.append(res.data.evs)\n",
        "            valid_set.append(torch.tensor(np.array(valid_list),dtype=torch.float32))\n",
        "        train_data = torch.stack(train_set,dim=1)\n",
        "        train_data = train_data.to(torch.float32)\n",
        "        validation_data = torch.stack(valid_set,dim=1)\n",
        "        validation_data = validation_data.to(torch.float32)\n",
        "        self.train_data = train_data\n",
        "        self.validation_data = validation_data\n",
        "        if make_label:\n",
        "            self.make_label()\n",
        "    def save(self,file_path):\n",
        "        data_set = {'train_lable':torch.squeeze(self.train_label)}\n",
        "\n",
        "        for index,l in enumerate(self.ZNE_factor):\n",
        "            data_set[f'train(l={l})'] = self.train_data[:,index]\n",
        "\n",
        "        data_set['validation_lable'] = torch.squeeze(self.validation_label)\n",
        "\n",
        "        for index,l in enumerate(self.ZNE_factor):\n",
        "            data_set[f'validation(l={l})'] = self.validation_data[:,index]\n",
        "        data_frame = pd.DataFrame(data_set)\n",
        "        data_frame.to_csv(file_path,index=False)\n",
        ""
      ]
    },
    {
      "cell_type": "code",
      "execution_count": 44,
      "metadata": {
        "id": "yMduy3EM6VIn"
      },
      "outputs": [],
      "source": [
        "class train_ZNE():\n",
        "    def __init__(self,backend,stretch_list,ecr_stretch=1,l=0,size=20):\n",
        "        _,self.connect = check_connect(backend,[0,1])\n",
        "        self.stretch_list = stretch_list\n",
        "        self.size = size\n",
        "        self.backend = backend\n",
        "        self.l = l\n",
        "        self.ecr_stretch = ecr_stretch\n",
        "        self.job_stretch_id = str(uuid.uuid4())\n",
        "        self.job_test_id = str(uuid.uuid4())\n",
        "        self.job_stretch_odd_id = str(uuid.uuid4())\n",
        "\n",
        "    def make_circ(self,odd=False):\n",
        "        qc_list = []\n",
        "        if not(odd):\n",
        "          for i in range(self.size):\n",
        "              qc = QuantumCircuit(2,2)\n",
        "              for j in range(i):\n",
        "                  qc.ecr(*self.connect[0])\n",
        "                  qc.ecr(*self.connect[0])\n",
        "              qc.measure_all()\n",
        "              qc_list.append(qc)\n",
        "        else:\n",
        "          for i in range(self.size):\n",
        "              qc = QuantumCircuit(2,2)\n",
        "              qc.ecr(*self.connect[0])\n",
        "              for j in range(i):\n",
        "                  qc.ecr(*self.connect[0])\n",
        "                  qc.ecr(*self.connect[0])\n",
        "              qc.measure_all()\n",
        "              qc_list.append(qc)\n",
        "        return qc_list\n",
        "\n",
        "    def run(self):\n",
        "        self.job_stretch = {}\n",
        "        self.job_stretch_odd = {}\n",
        "        qc_list = self.make_circ()\n",
        "        qc_list_odd = self.make_circ(odd=True)\n",
        "\n",
        "        backend_ecr = update_ecr_real(self.l,self.connect,self.backend,self.ecr_stretch)\n",
        "        passmanager = generate_preset_pass_manager(optimization_level=0, backend=backend_ecr, initial_layout=[0,1])\n",
        "        qc_input_ecr = passmanager.run(qc_list)\n",
        "        with Batch(backend=backend_ecr):\n",
        "            sampler = SamplerV2()\n",
        "            job_test = sampler.run(qc_input_ecr)\n",
        "            #job = sampler.run(qc_list,shots=8000)\n",
        "            job_test.update_tags([self.job_test_id,'test','ecr',f'stretch = {self.ecr_stretch}',f'l = {self.l}'])\n",
        "            self.job_test_list = job_test\n",
        "\n",
        "        for stretch in self.stretch_list:\n",
        "            backend_test = update_ecr(self.l,self.connect,self.backend,stretch)\n",
        "            passmanager = generate_preset_pass_manager(optimization_level=0, backend=backend_test, initial_layout=[0,1])\n",
        "            qc_input_ecr = passmanager.run(qc_list)\n",
        "            qc_input_ecr_odd = passmanager.run(qc_list_odd)\n",
        "            with Batch(backend=backend_test):\n",
        "                sampler = SamplerV2()\n",
        "                job_test = sampler.run(qc_input_ecr)\n",
        "                job_test.update_tags([self.job_stretch_id,'test','ecr_echo',f'stretch = {stretch}',f'l = {self.l}'])\n",
        "                self.job_stretch[stretch] = job_test\n",
        "                job_test = sampler.run(qc_input_ecr_odd)\n",
        "                job_test.update_tags([self.job_stretch_odd_id,'test_odd','ecr_echo',f'stretch = {stretch}',f'l = {self.l}'])\n",
        "                self.job_stretch_odd[stretch] = job_test\n",
        "    def get_data(self,job_stretch_id,job_stretch_odd_id,job_test_id):\n",
        "        service = self.backend.service\n",
        "        self.job_stretch = service.jobs([job_stretch_id])\n",
        "        self.job_stretch_odd = service.jobs([job_stretch_odd_id])\n",
        "        self.job_test_list = service.jobs([job_test_id])"
      ]
    },
    {
      "cell_type": "code",
      "execution_count": 45,
      "metadata": {
        "colab": {
          "base_uri": "https://localhost:8080/"
        },
        "id": "w4PvQqCU6VIo",
        "outputId": "7f31aaf1-8745-4ef4-cf1c-d039e6386401"
      },
      "outputs": [
        {
          "output_type": "stream",
          "name": "stderr",
          "text": [
            "/usr/local/lib/python3.10/dist-packages/qiskit_ibm_runtime/qiskit_runtime_service.py:862: UserWarning: The backend ibm_kyoto currently has a status of internal.\n",
            "  warnings.warn(\n"
          ]
        }
      ],
      "source": [
        "backend_kyoto = service.backend('ibm_kyoto')\n",
        "zne_l_0 = train_ZNE(backend_kyoto,[1,1.2,1.4,1.6])\n",
        "zne_l_0.run()"
      ]
    },
    {
      "cell_type": "code",
      "execution_count": 46,
      "metadata": {
        "id": "fiDPhJTm6VIp"
      },
      "outputs": [],
      "source": [
        "zne_l_1_5 = train_ZNE(backend_kyoto,[1,1.2,1.4,1.6],l=1.5)\n",
        "zne_l_1_5.run()"
      ]
    },
    {
      "cell_type": "code",
      "execution_count": 47,
      "metadata": {
        "id": "_1EpWQ-B6VIq"
      },
      "outputs": [],
      "source": [
        "zne_l_0_stretch = train_ZNE(backend_kyoto,[1,1.2,1.4,1.6],ecr_stretch=1.5)\n",
        "zne_l_0_stretch.run()"
      ]
    },
    {
      "cell_type": "code",
      "execution_count": 48,
      "metadata": {
        "id": "-JQJ38Kj6VIr"
      },
      "outputs": [],
      "source": [
        "zne_l_0_modif = train_ZNE(backend_kyoto,[1,1.2,1.4,1.6])\n",
        "zne_l_0_modif.run()"
      ]
    },
    {
      "cell_type": "code",
      "execution_count": 49,
      "metadata": {
        "id": "Kh9i1tuK6VIr"
      },
      "outputs": [],
      "source": [
        "zne_l_0_unstretch = train_ZNE(backend_kyoto,[1,1.2,1.4,1.5,1.6,1.7,1.8,2])\n",
        "zne_l_0_unstretch.run()"
      ]
    },
    {
      "cell_type": "code",
      "execution_count": null,
      "metadata": {
        "id": "rFY8i2p46VIr",
        "outputId": "13f805ee-d678-4578-cf5e-ef0798396001"
      },
      "outputs": [
        {
          "name": "stdout",
          "output_type": "stream",
          "text": [
            "['l = 0', 'stretch = 1', 'test', 'ecr_echo'] ['l = 0', 'stretch = 1.5', 'test', 'ecr']\n"
          ]
        },
        {
          "data": {
            "text/plain": [
              "([3098,\n",
              "  2766,\n",
              "  2448,\n",
              "  2017,\n",
              "  1618,\n",
              "  1518,\n",
              "  1531,\n",
              "  1773,\n",
              "  2033,\n",
              "  2262,\n",
              "  2442,\n",
              "  2343,\n",
              "  2195,\n",
              "  1971,\n",
              "  1725,\n",
              "  1598,\n",
              "  1553,\n",
              "  1649,\n",
              "  1845,\n",
              "  1943],\n",
              " [3078,\n",
              "  2888,\n",
              "  2435,\n",
              "  1866,\n",
              "  1485,\n",
              "  1195,\n",
              "  1072,\n",
              "  1077,\n",
              "  1291,\n",
              "  1524,\n",
              "  1743,\n",
              "  2068,\n",
              "  2168,\n",
              "  2193,\n",
              "  2118,\n",
              "  1934,\n",
              "  1687,\n",
              "  1502,\n",
              "  1245,\n",
              "  1203])"
            ]
          },
          "execution_count": 425,
          "metadata": {},
          "output_type": "execute_result"
        },
        {
          "data": {
            "image/png": "[encoded data removed]",
            "text/plain": [
              "<Figure size 640x480 with 1 Axes>"
            ]
          },
          "metadata": {},
          "output_type": "display_data"
        }
      ],
      "source": [
        "import matplotlib.pyplot as plt\n",
        "def job_plot(job_1,job_2):\n",
        "    print(job_1.tags,job_2.tags)\n",
        "    job_1_result = job_1.result()\n",
        "    job_2_result = job_2.result()\n",
        "    data_1_list = []\n",
        "    data_2_list = []\n",
        "    for i in range(20):\n",
        "        data_1 = job_1_result[i].data['meas'].get_counts()['00']\n",
        "        data_2 = job_2_result[i].data['meas'].get_counts()['00']\n",
        "        data_1_list.append(data_1)\n",
        "        data_2_list.append(data_2)\n",
        "    plt.plot(data_1_list,label='data1')\n",
        "    plt.plot(data_2_list,label='data2')\n",
        "    plt.legend()\n",
        "    return data_1_list,data_2_list\n",
        "\n",
        "job_plot(zne_l_0_stretch.job_stretch[1],zne_l_0_stretch.job_test_list)"
      ]
    },
    {
      "cell_type": "code",
      "execution_count": null,
      "metadata": {
        "id": "rnAwP7jy6VIt"
      },
      "outputs": [],
      "source": [
        "stretch=1.5\n",
        "ZNE_factor=[1,2,3,4]\n",
        "backend_osaka = service.backend('ibm_osaka')\n",
        "zne_osaka = ZNE(trotterized_ising_circuit,hamiltonian,backend_osaka,[0,1,2,3,4,5,6,7],stretch=1,ZNE_factor=ZNE_factor)\n",
        "zne_osaka.make_data()"
      ]
    },
    {
      "cell_type": "code",
      "execution_count": null,
      "metadata": {
        "id": "z4lB1AdE6VIu"
      },
      "outputs": [],
      "source": [
        "import torch\n",
        "zne_osaka.run()\n",
        "def get_data(zne):\n",
        "    return zne.train_label,zne.validation_label,zne.train_data,zne.validation_data\n",
        "\n",
        "train_label,validation_label,train_data,validation_data = get_data(zne_osaka)"
      ]
    },
    {
      "cell_type": "code",
      "execution_count": null,
      "metadata": {
        "id": "TJ8-7Gci6VIv"
      },
      "outputs": [],
      "source": [
        "from functions.Error_mitigation import extrapolate_values\n",
        "linear_data = []\n",
        "exp_data = []\n",
        "\n",
        "for data in validation_data:\n",
        "    y_linear_0,y_exp_0,_,_ = extrapolate_values(data,np.array([1,2,3,4]))\n",
        "    linear_data.append(y_linear_0)\n",
        "    exp_data.append(y_exp_0)\n",
        "\n",
        "linear_data = torch.tensor(np.array(linear_data),dtype=torch.float32)\n",
        "exp_data = torch.tensor(np.array(exp_data),dtype=torch.float32)"
      ]
    },
    {
      "cell_type": "code",
      "execution_count": null,
      "metadata": {
        "id": "qem037_Y6VIv",
        "outputId": "b912224d-f9c1-4f0d-c7e1-fe7918d79d0c"
      },
      "outputs": [
        {
          "name": "stdout",
          "output_type": "stream",
          "text": [
            "Virtual ZNE MSE loss : 1.8099850416183472\n",
            "Virtual ZNE L1 loss :1.0969226360321045\n"
          ]
        }
      ],
      "source": [
        "import torch\n",
        "import torch.nn as nn\n",
        "print(f'Virtual ZNE MSE loss : {nn.MSELoss()(linear_data,torch.squeeze(validation_label))}' )\n",
        "print(f'Virtual ZNE L1 loss :{nn.L1Loss()(linear_data,torch.squeeze(validation_label))}')"
      ]
    },
    {
      "cell_type": "code",
      "execution_count": null,
      "metadata": {
        "id": "NgfrOQWL6VIv",
        "outputId": "877286ef-1938-41a4-a575-42f01b5fca14"
      },
      "outputs": [
        {
          "name": "stdout",
          "output_type": "stream",
          "text": [
            "Raw MSE loss : 1.267683982849121\n",
            "Raw L1 loss : 0.9282559156417847\n",
            "Raw train MSE loss : 2.239138126373291\n",
            "Raw train L1 loss : 1.1533193588256836\n"
          ]
        }
      ],
      "source": [
        "print(f'Raw MSE loss : {nn.MSELoss()(validation_data[:,0],torch.squeeze(validation_label))}')\n",
        "print(f'Raw L1 loss : {nn.L1Loss()(validation_data[:,0],torch.squeeze(validation_label))}')\n",
        "print(f'Raw train MSE loss : {nn.MSELoss()(train_data[:,0],torch.squeeze(train_label))}')\n",
        "print(f'Raw train L1 loss : {nn.L1Loss()(train_data[:,0],torch.squeeze(train_label))}')"
      ]
    },
    {
      "cell_type": "code",
      "execution_count": null,
      "metadata": {
        "id": "5KNgw4cn6VIw",
        "outputId": "f1ab5c7b-2547-4e17-ecc4-08841a0f67d1"
      },
      "outputs": [
        {
          "name": "stderr",
          "output_type": "stream",
          "text": [
            "C:\\Users\\pop75\\AppData\\Local\\Temp\\ipykernel_31172\\3937314523.py:37: UserWarning: To copy construct from a tensor, it is recommended to use sourceTensor.clone().detach() or sourceTensor.clone().detach().requires_grad_(True), rather than torch.tensor(sourceTensor).\n",
            "  train_dataset = TensorDataset(torch.tensor(train_temp ), torch.tensor(train_label))\n",
            "C:\\Users\\pop75\\AppData\\Local\\Temp\\ipykernel_31172\\3937314523.py:38: UserWarning: To copy construct from a tensor, it is recommended to use sourceTensor.clone().detach() or sourceTensor.clone().detach().requires_grad_(True), rather than torch.tensor(sourceTensor).\n",
            "  validation_dataset = TensorDataset(torch.tensor(validation_temp ), torch.tensor(validation_label))\n"
          ]
        },
        {
          "name": "stdout",
          "output_type": "stream",
          "text": [
            "Epoch 1/1500, Training Loss: 4.036693572998047, Validation Loss: 3.7124435901641846\n",
            "Epoch 2/1500, Training Loss: 3.861910343170166, Validation Loss: 3.797255039215088\n",
            "Epoch 3/1500, Training Loss: 3.6945059299468994, Validation Loss: 3.90671443939209\n",
            "Epoch 4/1500, Training Loss: 3.5331850051879883, Validation Loss: 4.035946846008301\n",
            "Epoch 5/1500, Training Loss: 3.377718925476074, Validation Loss: 4.182807922363281\n",
            "Epoch 6/1500, Training Loss: 3.2273404598236084, Validation Loss: 4.350574493408203\n",
            "Epoch 7/1500, Training Loss: 3.0813236236572266, Validation Loss: 4.546455383300781\n",
            "Epoch 8/1500, Training Loss: 2.940350294113159, Validation Loss: 4.777891635894775\n",
            "Epoch 9/1500, Training Loss: 2.8065786361694336, Validation Loss: 5.051329135894775\n",
            "Epoch 10/1500, Training Loss: 2.6832568645477295, Validation Loss: 5.372215747833252\n",
            "Epoch 11/1500, Training Loss: 2.5744259357452393, Validation Loss: 5.744055271148682\n",
            "Epoch 12/1500, Training Loss: 2.4845924377441406, Validation Loss: 6.165973663330078\n",
            "Epoch 13/1500, Training Loss: 2.4181246757507324, Validation Loss: 6.627910614013672\n",
            "Epoch 14/1500, Training Loss: 2.377922773361206, Validation Loss: 7.103988170623779\n",
            "Epoch 15/1500, Training Loss: 2.3631277084350586, Validation Loss: 7.552560329437256\n",
            "Epoch 16/1500, Training Loss: 2.3673958778381348, Validation Loss: 7.931204319000244\n",
            "Epoch 17/1500, Training Loss: 2.3810558319091797, Validation Loss: 8.213249206542969\n",
            "Epoch 18/1500, Training Loss: 2.395801067352295, Validation Loss: 8.3907470703125\n",
            "Epoch 19/1500, Training Loss: 2.4069430828094482, Validation Loss: 8.469161987304688\n",
            "Epoch 20/1500, Training Loss: 2.4126288890838623, Validation Loss: 8.462337493896484\n",
            "Epoch 21/1500, Training Loss: 2.41264271736145, Validation Loss: 8.388961791992188\n",
            "Epoch 22/1500, Training Loss: 2.40793514251709, Validation Loss: 8.2692232131958\n",
            "Epoch 23/1500, Training Loss: 2.400192975997925, Validation Loss: 8.122053146362305\n",
            "Epoch 24/1500, Training Loss: 2.3911941051483154, Validation Loss: 7.963488578796387\n",
            "Epoch 25/1500, Training Loss: 2.382270574569702, Validation Loss: 7.8060078620910645\n",
            "Epoch 26/1500, Training Loss: 2.3740975856781006, Validation Loss: 7.658522129058838\n",
            "Epoch 27/1500, Training Loss: 2.366774082183838, Validation Loss: 7.52672004699707\n",
            "Epoch 28/1500, Training Loss: 2.360060214996338, Validation Loss: 7.413595676422119\n",
            "Epoch 29/1500, Training Loss: 2.3536460399627686, Validation Loss: 7.320075035095215\n",
            "Epoch 30/1500, Training Loss: 2.347360610961914, Validation Loss: 7.245623588562012\n",
            "Epoch 31/1500, Training Loss: 2.341273546218872, Validation Loss: 7.1887383460998535\n",
            "Epoch 32/1500, Training Loss: 2.3356852531433105, Validation Loss: 7.147291660308838\n",
            "Epoch 33/1500, Training Loss: 2.33103084564209, Validation Loss: 7.118725776672363\n",
            "Epoch 34/1500, Training Loss: 2.327732801437378, Validation Loss: 7.100149631500244\n",
            "Epoch 35/1500, Training Loss: 2.3260462284088135, Validation Loss: 7.088423252105713\n",
            "Epoch 36/1500, Training Loss: 2.3259377479553223, Validation Loss: 7.080315589904785\n",
            "Epoch 37/1500, Training Loss: 2.327049970626831, Validation Loss: 7.07278299331665\n",
            "Epoch 38/1500, Training Loss: 2.3287711143493652, Validation Loss: 7.063350200653076\n",
            "Epoch 39/1500, Training Loss: 2.330413341522217, Validation Loss: 7.050467491149902\n",
            "Epoch 40/1500, Training Loss: 2.3314192295074463, Validation Loss: 7.033724308013916\n",
            "Epoch 41/1500, Training Loss: 2.3315186500549316, Validation Loss: 7.013811111450195\n",
            "Epoch 42/1500, Training Loss: 2.3307642936706543, Validation Loss: 6.992270469665527\n",
            "Epoch 43/1500, Training Loss: 2.329448938369751, Validation Loss: 6.971137523651123\n",
            "Epoch 44/1500, Training Loss: 2.327954053878784, Validation Loss: 6.952566146850586\n",
            "Epoch 45/1500, Training Loss: 2.3266026973724365, Validation Loss: 6.938522815704346\n",
            "Epoch 46/1500, Training Loss: 2.3255670070648193, Validation Loss: 6.930596351623535\n",
            "Epoch 47/1500, Training Loss: 2.324850082397461, Validation Loss: 6.9298858642578125\n",
            "Epoch 48/1500, Training Loss: 2.324329137802124, Validation Loss: 6.936968803405762\n",
            "Epoch 49/1500, Training Loss: 2.3238320350646973, Validation Loss: 6.951928615570068\n",
            "Early stopping\n"
          ]
        },
        {
          "data": {
            "image/png": "[encoded data removed]",
            "text/plain": [
              "<Figure size 640x480 with 1 Axes>"
            ]
          },
          "metadata": {},
          "output_type": "display_data"
        },
        {
          "name": "stdout",
          "output_type": "stream",
          "text": [
            "<built-in method stack of type object at 0x00007FFDFCF049D0>\n",
            "MSELoss : 6.9744\n",
            "L1Loss : 2.1891\n"
          ]
        },
        {
          "name": "stderr",
          "output_type": "stream",
          "text": [
            "C:\\Users\\pop75\\AppData\\Local\\Temp\\ipykernel_31172\\3937314523.py:140: UserWarning: To copy construct from a tensor, it is recommended to use sourceTensor.clone().detach() or sourceTensor.clone().detach().requires_grad_(True), rather than torch.tensor(sourceTensor).\n",
            "  validation_inputs = torch.tensor(validation_temp)\n"
          ]
        }
      ],
      "source": [
        "import torch\n",
        "import torch.nn as nn\n",
        "import torch.optim as optim\n",
        "from torch.utils.data import DataLoader, TensorDataset\n",
        "import numpy as np\n",
        "import matplotlib.pyplot as plt\n",
        "from sklearn.preprocessing import StandardScaler\n",
        "from kan import KAN\n",
        "\n",
        "class EarlyStopping:\n",
        "    def __init__(self, patience=10, min_delta=0):\n",
        "        \"\"\"\n",
        "        Args:\n",
        "            patience (int): How long to wait after last time validation loss improved.\n",
        "                            Default: 10\n",
        "            min_delta (float): Minimum change in the monitored quantity to qualify as an improvement.\n",
        "                            Default: 0\n",
        "        \"\"\"\n",
        "        self.patience = patience\n",
        "        self.min_delta = min_delta\n",
        "        self.counter = 0\n",
        "        self.best_loss = np.inf\n",
        "        self.early_stop = False\n",
        "\n",
        "    def __call__(self, val_loss):\n",
        "        if val_loss < self.best_loss - self.min_delta:\n",
        "            self.best_loss = val_loss\n",
        "            self.counter = 0\n",
        "        else:\n",
        "            self.counter += 1\n",
        "            if self.counter >= self.patience:\n",
        "                self.early_stop = True\n",
        "early_stopping = EarlyStopping(patience=20, min_delta=0.025)\n",
        "# 데이터셋 및 데이터로더\n",
        "train_temp = validation_data[:]\n",
        "validation_temp = validation_data[:]\n",
        "train_dataset = TensorDataset(torch.tensor(train_temp ), torch.tensor(train_label))\n",
        "validation_dataset = TensorDataset(torch.tensor(validation_temp ), torch.tensor(validation_label))\n",
        "train_loader = DataLoader(train_dataset, batch_size=100, shuffle=True)\n",
        "validation_loader = DataLoader(validation_dataset, batch_size=100, shuffle=False)\n",
        "\n",
        "class Model(nn.Module):\n",
        "    def __init__(self):\n",
        "        super(Model, self).__init__()\n",
        "        self.KAN = KAN([train_temp.shape[1],1,1],grid=1)\n",
        "    def forward(self, x):\n",
        "        output = self.KAN(x)\n",
        "        #output = nn.Sigmoid()(output)\n",
        "        return output\n",
        "\n",
        "# MLP 모델 정의\n",
        "class MLP(nn.Module):\n",
        "    def __init__(self):\n",
        "        super(MLP, self).__init__()\n",
        "        self.layer1 = nn.Linear(train_temp.shape[1], 32)\n",
        "        self.layer2 = nn.Linear(32, 32)\n",
        "        self.output = nn.Linear(32, 1)\n",
        "        self.relu = nn.ReLU()\n",
        "\n",
        "    def forward(self, x):\n",
        "        x = self.relu(self.layer1(x))\n",
        "        x = self.relu(self.layer2(x))\n",
        "        x = self.output(x)\n",
        "        return x\n",
        "\n",
        "# LSTM 모델 정의\n",
        "class LSTMModel(nn.Module):\n",
        "    def __init__(self, input_size, hidden_size, output_size):\n",
        "        super(LSTMModel, self).__init__()\n",
        "        self.hidden_size = hidden_size\n",
        "        self.lstm = nn.LSTM(input_size, hidden_size, batch_first=True,dropout=0.3)\n",
        "        self.fc = nn.Linear(hidden_size, output_size)\n",
        "\n",
        "    def forward(self, x):\n",
        "        x = torch.unsqueeze(x,2)\n",
        "        h0 = torch.zeros(1, x.size(0), self.hidden_size)  # LSTM의 초기 은닉 상태 초기화\n",
        "        c0 = torch.zeros(1, x.size(0), self.hidden_size)  # LSTM의 초기 셀 상태 초기화\n",
        "        out, _ = self.lstm(x, (h0, c0))  # LSTM을 통해 시퀀스 처리\n",
        "        out = nn.Dropout(0.3)(out)\n",
        "        out = self.fc(out[:, -1, :])  # 마지막 시퀀스의 출력을 fully connected layer에 적용하여 출력 생성\n",
        "        return out\n",
        "\n",
        "# 모델 초기화\n",
        "#model =  LSTMModel(1,32,1)\n",
        "#model =  MLP()\n",
        "model =  Model()\n",
        "#model.KAN.train(train_dict, steps=20, lamb=0.01, lamb_entropy=10.0)\n",
        "# 손실 함수 및 옵티마이저\n",
        "criterion = nn.MSELoss()\n",
        "optimizer = optim.Adam(model.parameters(), lr=0.02)\n",
        "\n",
        "# 모델 학습\n",
        "num_epochs = 1500\n",
        "train_losses = []\n",
        "validation_losses = []\n",
        "\n",
        "for epoch in range(num_epochs):\n",
        "    #model = model.train()\n",
        "    running_loss = 0.0\n",
        "    for inputs, labels in train_loader:\n",
        "\n",
        "        optimizer.zero_grad()\n",
        "        outputs = model(inputs)\n",
        "        loss = criterion(outputs, labels)\n",
        "        loss.backward()\n",
        "        optimizer.step()\n",
        "        running_loss += loss.item()\n",
        "\n",
        "    train_losses.append(running_loss / len(train_loader))\n",
        "    early_stopping(loss)\n",
        "    if early_stopping.early_stop:\n",
        "        print(\"Early stopping\")\n",
        "        break\n",
        "\n",
        "    validation_loss = 0.0\n",
        "    #model = model.eval()\n",
        "    with torch.no_grad():\n",
        "        for inputs, labels in validation_loader:\n",
        "            outputs = model(inputs)\n",
        "            loss = criterion(outputs, labels)\n",
        "            validation_loss += loss.item()\n",
        "\n",
        "\n",
        "    validation_losses.append(validation_loss / len(validation_loader))\n",
        "\n",
        "    print(f'Epoch {epoch+1}/{num_epochs}, Training Loss: {train_losses[-1]}, Validation Loss: {validation_losses[-1]}')\n",
        "\n",
        "# 손실(loss) 그래프\n",
        "plt.plot(train_losses, label='train_loss')\n",
        "plt.plot(validation_losses, label='val_loss')\n",
        "plt.xlabel('Epoch')\n",
        "plt.ylabel('Loss')\n",
        "plt.legend()\n",
        "plt.title('Training and Validation Loss')\n",
        "plt.show()\n",
        "\n",
        "# 검증 데이터로 예측\n",
        "with torch.no_grad():\n",
        "    #model = model.eval()\n",
        "    validation_inputs = torch.tensor(validation_temp)\n",
        "    predictions = model(validation_inputs)\n",
        "    print(torch.stack)\n",
        "print(f'MSELoss : {float(torch.nn.MSELoss()(predictions,validation_label)):.4f}')\n",
        "print(f'L1Loss : {float(torch.nn.L1Loss()(predictions,validation_label)):.4f}')\n"
      ]
    },
    {
      "cell_type": "code",
      "execution_count": null,
      "metadata": {
        "id": "ODkFB9_96VIx"
      },
      "outputs": [],
      "source": [
        "file_name = './Results/brisbane_realamp_stretch=1.2.csv'\n",
        "zne_brisbane_realamp.save(file_name)\n",
        "data = pd.read_csv(file_name)\n",
        "data['prediction'] = torch.squeeze(predictions)\n",
        "data.to_csv(file_name,index=False)"
      ]
    },
    {
      "cell_type": "code",
      "execution_count": null,
      "metadata": {
        "id": "NBTLMtDEDiFN"
      },
      "outputs": [],
      "source": [
        "import copy\n",
        "from qiskit_ibm_runtime.fake_provider import FakePerth\n",
        "from qiskit.circuit import QuantumCircuit, Gate\n",
        "from qiskit.pulse import builder, DriveChannel,Schedule,GaussianSquare,Drag,Play,ScheduleBlock,Delay\n",
        "from qiskit.transpiler import InstructionProperties\n",
        "from qiskit_ibm_runtime import QiskitRuntimeService, EstimatorV2 ,SamplerV2\n",
        "from qiskit_ibm_runtime import Session\n",
        "import numpy as np\n",
        "\n",
        "\n",
        "init = '11'\n",
        "\n",
        "\n",
        "error_gate = Gate(f\"error\", 2, [])\n",
        "qc1 = QuantumCircuit(2, 2)\n",
        "if init[0] == '1':\n",
        "  qc1.x(0)\n",
        "if init[1] == '1':\n",
        "  qc1.x(1)\n",
        "qc1.ecr(0,1)\n",
        "qc1.measure(0,0)\n",
        "qc1.measure(1,1)\n",
        "\n",
        "def ecr_to_error(pulse_schedule,l):\n",
        "  pulse_copy = copy.deepcopy(pulse_schedule)\n",
        "  duration = round(pulse_copy.instructions[0][1].pulse.duration/32*l)*16\n",
        "  width = round(pulse_copy.instructions[0][1].pulse._params['width']/32*l)*16\n",
        "  x_duration = pulse_copy.instructions[2][1].pulse.duration\n",
        "  sigma = round(pulse_copy.instructions[0][1].pulse._params['sigma']/32*l)*16\n",
        "  angle = pulse_copy.instructions[0][1].pulse._params['angle']\n",
        "  if sigma == 0:\n",
        "    sigma = 1\n",
        "  my_schedule = ScheduleBlock()\n",
        "  signal_params = {'width':width,'sigma':sigma}\n",
        "  for j in range(2):\n",
        "    pulse_copy = copy.deepcopy(pulse_schedule)\n",
        "    pulse_input_x_1 = pulse_copy.instructions[0][1]\n",
        "    pulse_input_x_2 = pulse_copy.instructions[3][1]\n",
        "    pulse_input_c_1 = pulse_copy.instructions[1][1]\n",
        "    #pulse_input_c_1.pulse._params['angle'] = 0\n",
        "    pulse_input_c_1.pulse._params.update(signal_params)\n",
        "    pulse_input_c_1.pulse.duration = duration\n",
        "    pulse_input_x_1.pulse._params.update(signal_params)\n",
        "    pulse_input_x_1.pulse.duration = duration\n",
        "    pulse_input_drag = pulse_copy.instructions[2][1]\n",
        "    if j == 1:\n",
        "        pulse_input_drag.pulse._params['angle'] = 3.14\n",
        "    pulse_input_c_2 = pulse_copy.instructions[4][1]\n",
        "    pulse_input_c_2.pulse.duration = duration\n",
        "    pulse_input_c_2.pulse._params.update(signal_params)\n",
        "    pulse_input_x_2.pulse._params.update(signal_params)\n",
        "    pulse_input_x_2.pulse.duration = duration\n",
        "    real_pulse = ScheduleBlock()\n",
        "    real_pulse += pulse_input_c_1\n",
        "    real_pulse += pulse_input_x_1\n",
        "    real_pulse += Delay(x_duration,pulse_input_c_1.channel)\n",
        "    real_pulse += Delay(x_duration,pulse_input_x_1.channel)\n",
        "    real_pulse +=  pulse_input_c_2\n",
        "    real_pulse += pulse_input_x_2\n",
        "    real_pulse += Delay(duration,pulse_input_drag.channel)\n",
        "    real_pulse += pulse_input_drag\n",
        "    my_schedule += real_pulse\n",
        "  return my_schedule\n",
        "\n",
        "\n",
        "def ecr_to_schedule(pulse_schedule):\n",
        "  pulse_copy = copy.deepcopy(pulse_schedule)\n",
        "  my_schedule = ScheduleBlock()\n",
        "  x_duration = pulse_copy.instructions[2][1].pulse.duration\n",
        "  duration = pulse_copy.instructions[0][1].pulse.duration\n",
        "  pulse_input_x_1 = pulse_copy.instructions[0][1]\n",
        "  pulse_input_x_2 = pulse_copy.instructions[3][1]\n",
        "  pulse_input_c_1 = pulse_copy.instructions[1][1]\n",
        "  pulse_input_drag = pulse_copy.instructions[2][1]\n",
        "  pulse_input_c_2 = pulse_copy.instructions[4][1]\n",
        "  real_pulse = ScheduleBlock()\n",
        "  real_pulse += pulse_input_c_1\n",
        "  real_pulse += pulse_input_x_1\n",
        "  real_pulse += Delay(x_duration,pulse_input_c_1.channel)\n",
        "  real_pulse += Delay(x_duration,pulse_input_x_1.channel)\n",
        "  real_pulse +=  pulse_input_c_2\n",
        "  real_pulse += pulse_input_x_2\n",
        "  real_pulse += Delay(duration,pulse_input_drag.channel)\n",
        "  real_pulse += pulse_input_drag\n",
        "  my_schedule += real_pulse\n",
        "  return my_schedule\n",
        "\n",
        "\n",
        "\n",
        "def update_ecr(l,init_list,backend,stretch=1):\n",
        "  backend_copy = copy.deepcopy(backend)\n",
        "  layouts = {}\n",
        "  for initial_layout in init_list:\n",
        "    custom_gate = Gate(f\"error\", 1, [])\n",
        "    pulse_schedule = backend_copy.target['ecr'][initial_layout].calibration\n",
        "    pulse_real = ecr_to_error(pulse_schedule,stretch)\n",
        "\n",
        "\n",
        "    if l == 0:\n",
        "      backend_copy.target.update_instruction_properties(f'ecr',initial_layout,properties = InstructionProperties(calibration=(pulse_real)))\n",
        "    else:\n",
        "      my_schedule = ecr_to_error(pulse_schedule,l)\n",
        "      backend_copy.target.update_instruction_properties(f'ecr',initial_layout,properties = InstructionProperties(calibration=(pulse_real+my_schedule)))\n",
        "\n",
        "\n",
        "\n",
        "  return backend_copy\n",
        "\n",
        "\n",
        "backend_error = update_ecr(l,init_list,backend,stretch=1)\n",
        "initial_layout = init_list[0]\n",
        "passmanager = generate_preset_pass_manager(optimization_level=0, backend=backend_error, initial_layout=list(initial_layout))\n",
        "qc1 = passmanager.run(qc1)\n"
      ]
    },
    {
      "cell_type": "code",
      "execution_count": null,
      "metadata": {
        "colab": {
          "base_uri": "https://localhost:8080/",
          "height": 1000
        },
        "id": "18dWSU8XJzC4",
        "outputId": "1e9b78b9-3c67-4856-c552-cb059f7d4f51"
      },
      "outputs": [
        {
          "data": {
            "image/png": "[encoded data removed]",
            "text/plain": [
              "<Figure size 1300x1206.39 with 1 Axes>"
            ]
          },
          "execution_count": 541,
          "metadata": {},
          "output_type": "execute_result"
        }
      ],
      "source": [
        "schedule(qc1,backend=backend_error).draw()"
      ]
    },
    {
      "cell_type": "code",
      "execution_count": null,
      "metadata": {
        "id": "3f3aOetHQAbv"
      },
      "outputs": [],
      "source": [
        "\n",
        "passmanager = generate_preset_pass_manager(optimization_level=optimization_level, backend=backend_error, initial_layout=qubit_use)\n",
        "qc_input = passmanager.run(trotterized_ising_circuit)\n",
        "isa_observables = hamiltonian.apply_layout(qc_input.layout)\n",
        "with Batch(backend = backend_error):\n",
        "    estimator = EstimatorV2()\n",
        "    estimator.twirlingoptions = T_options\n",
        "    job = estimator.run([(qc_input, isa_observables, theta[i]) for i in range(100)])\n",
        "    job.update_tags(['ecr_train',f\"l={1+l}\",f\"stretch={stretch}\",\"exp = x\"])"
      ]
    },
    {
      "cell_type": "code",
      "execution_count": null,
      "metadata": {
        "id": "o6ZAs4bgJPp3"
      },
      "outputs": [],
      "source": [
        "import copy\n",
        "from qiskit_ibm_runtime.fake_provider import FakePerth\n",
        "from qiskit.circuit import QuantumCircuit, Gate\n",
        "from qiskit.pulse import builder, DriveChannel\n",
        "from qiskit.transpiler import InstructionProperties\n",
        "from qiskit_ibm_runtime import QiskitRuntimeService, EstimatorV2,SamplerV2\n",
        "from qiskit_ibm_runtime import Session\n",
        "init = '11'\n",
        "\n",
        "\n",
        "error_gate = Gate(f\"error\", 2, [])\n",
        "qc1 = QuantumCircuit(2, 2)\n",
        "if init[0] == '1':\n",
        "  qc1.x(0)\n",
        "if init[1] == '1':\n",
        "  qc1.x(1)\n",
        "qc1.ecr(0,1)\n",
        "qc1.ecr(0,1)\n",
        "qc1.measure(0,0)\n",
        "qc1.measure(1,1)\n",
        "\n",
        "def update_ecr_real(l,init_list,backend):\n",
        "  backend_copy = copy.deepcopy(backend)\n",
        "  layouts = {}\n",
        "  for initial_layout in init_list:\n",
        "    pulse_schedule = backend_copy.target['ecr'][initial_layout].calibration\n",
        "    pulse_real = ecr_to_schedule(pulse_schedule)\n",
        "\n",
        "    if l == 0:\n",
        "      backend_copy.target.update_instruction_properties(f'ecr',initial_layout,properties = InstructionProperties(calibration=(pulse_real)))\n",
        "    else:\n",
        "      my_schedule = ecr_to_error(pulse_schedule,l)\n",
        "      backend_copy.target.update_instruction_properties(f'ecr',initial_layout,properties = InstructionProperties(calibration=(pulse_real+my_schedule)))\n",
        "\n",
        "\n",
        "\n",
        "  return backend_copy\n",
        "\n",
        "\n",
        "\n",
        "\n",
        "backend_ecr = update_ecr_real(l,init_list,backend)\n",
        "initial_layout = init_list[0]\n",
        "passmanager = generate_preset_pass_manager(optimization_level=0, backend=backend, initial_layout=list(initial_layout))\n",
        "qc1 = passmanager.run(qc1)\n"
      ]
    },
    {
      "cell_type": "code",
      "execution_count": null,
      "metadata": {
        "colab": {
          "base_uri": "https://localhost:8080/",
          "height": 937
        },
        "id": "IESVIJ06JxoT",
        "outputId": "e9a3a0c2-201d-4031-ace5-b380f4c85bc0"
      },
      "outputs": [
        {
          "data": {
            "image/png": "[encoded data removed]",
            "text/plain": [
              "<Figure size 1300x1071.39 with 1 Axes>"
            ]
          },
          "execution_count": 605,
          "metadata": {},
          "output_type": "execute_result"
        }
      ],
      "source": [
        "schedule(qc1,backend=backend_ecr).draw()"
      ]
    },
    {
      "cell_type": "code",
      "execution_count": null,
      "metadata": {
        "id": "SyGb0u8YJzC5"
      },
      "outputs": [],
      "source": [
        "passmanager = generate_preset_pass_manager(optimization_level=optimization_level, backend=backend_ecr, initial_layout=qubit_use)\n",
        "\n",
        "from qiskit.quantum_info import SparsePauliOp\n",
        "qc_input = passmanager.run(trotterized_ising_circuit)\n",
        "isa_observables = hamiltonian.apply_layout(qc_input.layout)\n",
        "\n",
        "\n",
        "\n",
        "with Batch(backend = backend_ecr):\n",
        "    estimator = EstimatorV2()\n",
        "    estimator.resilience_level = resilience_level\n",
        "    estimator.twirlingoptions = T_options\n",
        "    job = estimator.run([(qc_input, isa_observables, theta_valid[i]) for i in range(100)])\n",
        "    #job = sampler.run(qc_list,shots=8000)\n",
        "    job.update_tags(['ecr',f\"l={1+l}\",\"x\"])"
      ]
    },
    {
      "cell_type": "code",
      "execution_count": null,
      "metadata": {
        "id": "kbYkfp8PJzC5"
      },
      "outputs": [],
      "source": [
        "from qiskit.primitives import StatevectorEstimator\n",
        "import torch\n",
        "from qiskit.quantum_info import SparsePauliOp\n",
        "estimator = StatevectorEstimator()\n",
        "job_train = estimator.run([(trotterized_ising_circuit_train, hamiltonian, theta[i]) for i in range(100)])\n",
        "job_valid = estimator.run([(trotterized_ising_circuit, hamiltonian, theta_valid[i]) for i in range(100)])"
      ]
    },
    {
      "cell_type": "code",
      "execution_count": null,
      "metadata": {
        "id": "OZcGkCZzJzC6"
      },
      "outputs": [],
      "source": [
        "train_label = torch.tensor(np.array([result.data.evs for result in job_train.result()]),dtype=torch.float32)\n",
        "validation_label = torch.tensor(np.array([result.data.evs for result in job_valid.result()]),dtype=torch.float32)\n",
        "train_label = torch.reshape(train_label,[-1,1])\n",
        "validation_label = torch.reshape(validation_label,[-1,1])"
      ]
    },
    {
      "cell_type": "code",
      "execution_count": null,
      "metadata": {
        "colab": {
          "base_uri": "https://localhost:8080/"
        },
        "id": "S11FQRseQ2TM",
        "outputId": "c9801b70-a9a1-4206-b91d-e865eb286fb1"
      },
      "outputs": [
        {
          "name": "stdout",
          "output_type": "stream",
          "text": [
            "['exp = x', 'stretch=3', 'ecr_train', 'l=1']\n",
            "1\n",
            "1\n"
          ]
        }
      ],
      "source": [
        "import torch\n",
        "l_list = [1]\n",
        "train_set = []\n",
        "valid_set = []\n",
        "\n",
        "for l in l_list:\n",
        "  train_list = []\n",
        "  valid_list = []\n",
        "\n",
        "  job_train = service.jobs(backend_name=backend_name,job_tags=['ecr_train',f'l={l}'],pending=False)\n",
        "  job_valid = service.jobs(backend_name=backend_name,job_tags=['ecr',f'l={l}'],pending=False)\n",
        "  if len(job_train) != 0:\n",
        "    job = job_train[0]\n",
        "    print(job.tags)\n",
        "    for res in job.result():\n",
        "      train_list.append(res.data.evs)\n",
        "    print(l)\n",
        "    train_set.append(torch.tensor(np.array(train_list),dtype=torch.float32))\n",
        "\n",
        "\n",
        "  if len(job_valid) != 0:\n",
        "    for res in job_valid[0].result():\n",
        "      valid_list.append(res.data.evs)\n",
        "    print(l)\n",
        "    valid_set.append(torch.tensor(np.array(valid_list),dtype=torch.float32))\n",
        "\n"
      ]
    },
    {
      "cell_type": "code",
      "execution_count": null,
      "metadata": {
        "colab": {
          "base_uri": "https://localhost:8080/"
        },
        "id": "pLRVZivrUuVy",
        "outputId": "c747aa63-5911-49f1-9925-a7cce10fc753"
      },
      "outputs": [
        {
          "name": "stdout",
          "output_type": "stream",
          "text": [
            "Raw train loss : 1.0064\n",
            "Raw valid loss : 2.3919\n"
          ]
        }
      ],
      "source": [
        "train_data = torch.stack(train_set,dim=1)\n",
        "train_data = train_data.to(torch.float32)\n",
        "validation_data = torch.stack(valid_set,dim=1)\n",
        "validation_data = validation_data.to(torch.float32)\n",
        "\n",
        "print(f\"Raw train loss : {float(torch.nn.MSELoss()(train_data[:,0],torch.squeeze(train_label))):.4f}\")\n",
        "print(f\"Raw valid loss : {float(torch.nn.MSELoss()(validation_data[:,0],torch.squeeze(validation_label))):.4f}\")\n",
        "\n",
        "for i in range(len(train_set)-1):\n",
        "  print(f\"Train difference {i,i+1} : {float(torch.nn.MSELoss()(train_data[:,i],train_data[:,i+1])):.4f}\")\n",
        "  print(f\"Validation difference {i,i+1} : {float(torch.nn.MSELoss()(validation_data[:,i],validation_data[:,i+1])):.4f}\")\n",
        "#train_data = validation_data[:50]\n",
        "#validation_data = validation_data[50:]\n",
        "#train_label = validation_label[:50]\n",
        "#validation_label = validation_label[50:]"
      ]
    },
    {
      "cell_type": "code",
      "execution_count": null,
      "metadata": {
        "colab": {
          "base_uri": "https://localhost:8080/"
        },
        "id": "f5mTx5pnz1UA",
        "outputId": "95f56ffc-97b9-4237-a81a-2908644fbbdd"
      },
      "outputs": [
        {
          "data": {
            "text/plain": [
              "tensor([-1.3975,  0.6229,  0.4945, -0.3699, -1.4530,  0.1051,  0.5066, -1.4512,\n",
              "         0.0028, -0.2069, -0.3207, -0.6457, -0.5732, -1.4832, -1.3608, -1.8368,\n",
              "        -1.4241,  0.9718,  0.4989,  0.1530,  0.6107, -1.4069, -0.7159, -0.7303,\n",
              "        -0.4394, -0.2924, -2.3214, -1.1002,  1.2785,  0.7714,  0.2355, -0.8103,\n",
              "        -0.0553,  0.4297,  0.1382,  0.7241, -0.6193, -1.5607,  0.0635, -1.1801,\n",
              "         0.7538, -0.9594, -0.2045, -1.6229, -0.7086, -0.2899,  0.0581,  1.2658,\n",
              "         0.9490, -0.7149,  0.2358, -0.3036, -0.0549,  0.8227, -1.6125, -0.8525,\n",
              "        -0.8177,  1.0672,  0.4779, -0.3872, -1.5744, -0.6061,  0.5658, -1.8574,\n",
              "         0.8317, -0.4781, -0.6508, -0.8775, -0.5234,  0.8604, -1.0978,  0.0771,\n",
              "        -0.2013,  1.2512, -0.6273, -0.9444, -1.3179, -0.8763,  0.3858, -0.0914,\n",
              "        -0.2298,  0.0071,  0.1774, -0.1752,  0.2634, -0.8667,  1.4661, -0.4916,\n",
              "         0.2410, -0.3428, -0.7483,  0.1585,  0.3459, -1.3854,  0.8553, -0.9898,\n",
              "         1.2432, -0.2571, -0.6306, -0.9828])"
            ]
          },
          "execution_count": 567,
          "metadata": {},
          "output_type": "execute_result"
        }
      ],
      "source": [
        "train_data[:,0]"
      ]
    },
    {
      "cell_type": "code",
      "execution_count": null,
      "metadata": {
        "id": "uO8EXOowxeAr"
      },
      "outputs": [],
      "source": [
        "LSTM_list_MSE = []\n",
        "LSTM_list_L1 = []"
      ]
    },
    {
      "cell_type": "code",
      "execution_count": null,
      "metadata": {
        "colab": {
          "base_uri": "https://localhost:8080/",
          "height": 41
        },
        "id": "6eLBkY9O7qG5",
        "outputId": "9f0fa6f2-b7f2-4a72-df17-7eceac88e8ff"
      },
      "outputs": [
        {
          "data": {
            "text/latex": [
              "$\\displaystyle 8.00729 - 12.64638 e^{- 0.95799 \\left(- 0.80032 \\operatorname{atan}{\\left(0.18968 x_{1} - 0.41496 \\right)} - 1\\right)^{2}}$"
            ],
            "text/plain": [
              "8.00729 - 12.64638*exp(-0.95799*(-0.80032*atan(0.18968*x_1 - 0.41496) - 1)**2)"
            ]
          },
          "execution_count": 586,
          "metadata": {},
          "output_type": "execute_result"
        }
      ],
      "source": [
        "\n",
        "formula, var = model.KAN.symbolic_formula(floating_digit=5)\n",
        "formula[0]"
      ]
    },
    {
      "cell_type": "code",
      "execution_count": null,
      "metadata": {
        "colab": {
          "base_uri": "https://localhost:8080/"
        },
        "id": "Xyy1FXs7YpH8",
        "outputId": "7eebbb95-a9eb-435a-dfd7-3d492f4ab679"
      },
      "outputs": [
        {
          "data": {
            "text/plain": [
              "tensor([[ 1.3136,  0.4279,  0.7940],\n",
              "        [ 4.2394,  2.6071,  5.2146],\n",
              "        [ 3.5142,  2.0962,  4.0141],\n",
              "        [ 2.6401,  1.4431,  3.4236],\n",
              "        [ 4.4394,  2.7455,  5.1412],\n",
              "        [ 2.3853,  1.2507,  4.1436],\n",
              "        [ 1.9889,  0.9519,  3.1511],\n",
              "        [ 1.9264,  0.9043,  1.6495],\n",
              "        [ 2.0538,  1.0011,  3.3418],\n",
              "        [ 3.0908,  1.7848,  3.4617],\n",
              "        [ 3.9350,  2.3949,  5.1024],\n",
              "        [ 5.0272,  3.1493,  5.8597],\n",
              "        [ 2.5232,  1.3546,  2.6959],\n",
              "        [ 3.7858,  2.2898,  4.3727],\n",
              "        [ 1.5156,  0.5871,  3.2778],\n",
              "        [ 3.4551,  2.0536,  4.3911],\n",
              "        [ 2.3242,  1.2047,  2.0668],\n",
              "        [ 2.3599,  1.2315,  2.3113],\n",
              "        [ 1.4806,  0.5597,  0.6475],\n",
              "        [ 1.0449,  0.2136,  1.1359],\n",
              "        [ 0.9297,  0.1215,  0.7001],\n",
              "        [ 3.6010,  2.1585,  3.9027],\n",
              "        [ 4.4142,  2.7281,  4.7688],\n",
              "        [ 2.4537,  1.3021,  3.0240],\n",
              "        [ 3.9928,  2.4354,  4.4468],\n",
              "        [ 4.4530,  2.7549,  5.1162],\n",
              "        [ 3.5778,  2.1419,  4.3479],\n",
              "        [ 3.7695,  2.2783,  3.3664],\n",
              "        [ 4.7374,  2.9506,  4.9962],\n",
              "        [ 4.2615,  2.6224,  5.2321],\n",
              "        [ 0.8649,  0.0698,  0.8798],\n",
              "        [ 3.9424,  2.4001,  4.1107],\n",
              "        [ 3.8257,  2.3180,  4.5020],\n",
              "        [ 3.3715,  1.9928,  4.2365],\n",
              "        [ 1.6489,  0.6910,  1.2805],\n",
              "        [ 5.3335,  3.3586,  7.3173],\n",
              "        [ 1.7369,  0.7591,  2.3083],\n",
              "        [ 4.3112,  2.6569,  5.2494],\n",
              "        [ 1.7272,  0.7516,  2.4878],\n",
              "        [ 4.7483,  2.9581,  3.8419],\n",
              "        [ 0.4672, -0.2411,  1.7996],\n",
              "        [-0.1305, -0.6651,  1.1004],\n",
              "        [ 0.4271, -0.2716,  1.3080],\n",
              "        [ 3.6279,  2.1777,  3.9681],\n",
              "        [ 0.7325, -0.0351,  0.5463],\n",
              "        [ 2.5622,  1.3841,  4.3994],\n",
              "        [ 1.6022,  0.6547,  3.6076],\n",
              "        [ 1.3924,  0.4902,  2.4260],\n",
              "        [-0.1843, -0.6996,  0.7508],\n",
              "        [ 0.5198, -0.2009,  1.1402],\n",
              "        [ 0.2312, -0.4167,  0.1264],\n",
              "        [ 2.3464,  1.2214,  1.9923],\n",
              "        [ 2.1401,  1.0662,  2.5786],\n",
              "        [ 2.9094,  1.6476,  2.2803],\n",
              "        [ 1.9773,  0.9431,  1.7443],\n",
              "        [ 0.5979, -0.1405,  1.5622],\n",
              "        [ 2.3239,  1.2044,  2.8007],\n",
              "        [ 4.1712,  2.5597,  4.3328],\n",
              "        [ 2.9056,  1.6447,  2.5107],\n",
              "        [ 5.3234,  3.3517,  6.0873],\n",
              "        [ 3.1731,  1.8464,  3.8876],\n",
              "        [ 1.9511,  0.9231,  0.0630],\n",
              "        [ 2.8496,  1.6022,  3.5990],\n",
              "        [-0.5180, -0.9007,  0.3345],\n",
              "        [ 2.5224,  1.3541,  2.3759],\n",
              "        [ 1.6897,  0.7226,  3.2971],\n",
              "        [ 1.7848,  0.7960,  1.9639],\n",
              "        [ 1.8764,  0.8662,  2.7635],\n",
              "        [ 1.1961,  0.3344,  0.9882],\n",
              "        [ 2.8740,  1.6207,  3.7106],\n",
              "        [ 1.9872,  0.9506,  2.5524],\n",
              "        [-0.2818, -0.7607,  0.0136],\n",
              "        [ 2.0579,  1.0042,  3.0408],\n",
              "        [ 0.3432, -0.3345,  0.2432],\n",
              "        [ 3.6995,  2.2287,  4.0956],\n",
              "        [ 1.2058,  0.3422,  2.9246],\n",
              "        [ 2.1354,  1.0626,  1.4171],\n",
              "        [ 3.8450,  2.3316,  4.8970],\n",
              "        [ 3.0614,  1.7627,  3.6763],\n",
              "        [-0.4466, -0.8595, -0.2216],\n",
              "        [ 2.7837,  1.5521,  2.7337],\n",
              "        [ 3.5212,  2.1013,  3.4101],\n",
              "        [ 1.5837,  0.6403,  2.9442],\n",
              "        [ 3.4821,  2.0731,  2.5251],\n",
              "        [ 4.7171,  2.9366,  5.6453],\n",
              "        [ 0.0148, -0.5687, -0.9574],\n",
              "        [ 0.4720, -0.2375,  1.9101],\n",
              "        [ 0.9077,  0.1040,  1.9601],\n",
              "        [ 4.0431,  2.4705,  5.4835],\n",
              "        [ 2.5935,  1.4078,  2.7335],\n",
              "        [ 2.1095,  1.0431,  3.3879],\n",
              "        [ 3.6550,  2.1971,  3.8867],\n",
              "        [ 2.7770,  1.5470,  3.9716],\n",
              "        [ 2.8133,  1.5746,  3.5690],\n",
              "        [ 2.6055,  1.4169,  3.6791],\n",
              "        [ 4.7049,  2.9283,  5.7775],\n",
              "        [ 3.7438,  2.2601,  6.2060],\n",
              "        [ 2.7515,  1.5277,  2.7879],\n",
              "        [ 3.8677,  2.3476,  4.4470],\n",
              "        [ 1.5756,  0.6339,  1.5585]])"
            ]
          },
          "execution_count": 252,
          "metadata": {},
          "output_type": "execute_result"
        }
      ],
      "source": [
        "torch.stack([predictions,validation_data[:,0],validation_label],dim=1)"
      ]
    },
    {
      "cell_type": "code",
      "execution_count": null,
      "metadata": {
        "colab": {
          "base_uri": "https://localhost:8080/"
        },
        "id": "vLNDMZ9NxSAv",
        "outputId": "f6114167-f523-413a-abca-8cd1267500da"
      },
      "outputs": [
        {
          "data": {
            "text/plain": [
              "(0.6926884651184082, 0.7676637172698975)"
            ]
          },
          "execution_count": 233,
          "metadata": {},
          "output_type": "execute_result"
        }
      ],
      "source": [
        "np.mean(LSTM_list_L1),np.mean(LSTM_list_MSE)"
      ]
    },
    {
      "cell_type": "code",
      "execution_count": null,
      "metadata": {
        "colab": {
          "base_uri": "https://localhost:8080/"
        },
        "id": "jRUrjdRqSdWn",
        "outputId": "54696a3f-a2f9-4347-dfa8-3899d3c2af0f"
      },
      "outputs": [
        {
          "name": "stdout",
          "output_type": "stream",
          "text": [
            "tensor([[ 7.7501e-01,  2.1546e+00,  2.6882e+00,  7.9396e-01],\n",
            "        [ 1.8048e+00,  2.8134e+00,  2.5310e+00,  5.2146e+00],\n",
            "        [ 4.6046e-01, -5.4833e-01,  6.3021e-01,  4.0141e+00],\n",
            "        [ 4.1368e-01,  1.9859e+00,  4.7512e-01,  3.4236e+00],\n",
            "        [ 1.7001e+00,  2.9055e+00,  3.2933e+00,  5.1412e+00],\n",
            "        [ 2.3156e+00,  1.5186e+00,  3.2061e+00,  4.1436e+00],\n",
            "        [ 1.7443e+00,  1.2393e+00,  3.0154e+00,  3.1511e+00],\n",
            "        [ 6.6244e-01,  5.2147e-01,  7.0023e-01,  1.6495e+00],\n",
            "        [-2.0011e-01,  1.0335e+00, -7.3144e-02,  3.3418e+00],\n",
            "        [-1.1591e+00, -1.3740e-01, -7.4610e-01,  3.4617e+00],\n",
            "        [ 1.0728e-01,  2.3382e-01,  9.9830e-01,  5.1024e+00],\n",
            "        [ 1.4007e+00,  1.9659e+00,  2.8248e+00,  5.8597e+00],\n",
            "        [ 1.6371e+00,  1.8955e+00,  2.3303e+00,  2.6959e+00],\n",
            "        [ 1.7929e+00,  2.8913e+00,  3.0954e+00,  4.3727e+00],\n",
            "        [ 1.6286e+00,  2.5482e+00,  3.0098e+00,  3.2778e+00],\n",
            "        [ 2.5474e+00,  3.8220e+00,  4.1650e+00,  4.3911e+00],\n",
            "        [ 2.6740e-01,  1.7372e+00,  1.2549e+00,  2.0668e+00],\n",
            "        [ 2.1999e+00,  9.0419e-01,  2.3681e+00,  2.3113e+00],\n",
            "        [ 3.2175e-01, -2.9968e-01,  8.4576e-01,  6.4745e-01],\n",
            "        [ 7.1815e-01,  2.0152e+00,  1.7441e+00,  1.1359e+00],\n",
            "        [ 2.8322e+00,  4.2719e+00,  5.2095e+00,  7.0013e-01],\n",
            "        [ 2.0244e+00,  4.0451e+00,  4.0389e+00,  3.9027e+00],\n",
            "        [ 1.6725e+00,  2.0229e+00,  2.3576e+00,  4.7688e+00],\n",
            "        [-5.5630e-01,  5.5046e-01, -3.6140e-01,  3.0240e+00],\n",
            "        [ 2.9448e-01,  1.0011e+00,  1.5136e+00,  4.4468e+00],\n",
            "        [ 3.7345e-01,  1.7626e+00,  5.8433e-01,  5.1162e+00],\n",
            "        [ 1.8683e+00,  2.0967e+00,  3.6695e+00,  4.3479e+00],\n",
            "        [ 1.0762e+00,  2.6510e+00,  2.0549e+00,  3.3664e+00],\n",
            "        [ 7.1776e-01,  2.8280e+00,  1.7253e+00,  4.9962e+00],\n",
            "        [ 4.6212e-01,  1.4576e+00,  1.3243e-01,  5.2321e+00],\n",
            "        [ 1.1184e+00,  2.2368e+00,  1.7423e+00,  8.7980e-01],\n",
            "        [ 2.1146e+00,  3.2041e+00,  3.8773e+00,  4.1107e+00],\n",
            "        [ 1.6928e+00,  1.7659e+00,  2.0875e+00,  4.5020e+00],\n",
            "        [ 1.6429e+00,  2.4705e+00,  3.1923e+00,  4.2365e+00],\n",
            "        [ 5.2022e-01,  1.3009e+00,  2.2092e+00,  1.2805e+00],\n",
            "        [ 8.0482e-01,  1.4874e+00,  1.7717e+00,  7.3173e+00],\n",
            "        [ 1.9010e+00,  2.6205e+00,  2.5373e+00,  2.3083e+00],\n",
            "        [ 1.9556e+00,  3.1040e+00,  3.6843e+00,  5.2494e+00],\n",
            "        [ 2.2299e+00,  2.9293e+00,  3.9730e+00,  2.4878e+00],\n",
            "        [-1.6886e+00, -4.0904e-01, -1.5030e+00,  3.8419e+00],\n",
            "        [ 2.3492e+00,  3.9738e+00,  3.8013e+00,  1.7996e+00],\n",
            "        [-9.6600e-01, -1.3442e-01,  4.3862e-02,  1.1004e+00],\n",
            "        [ 4.4363e-01,  1.2739e+00,  1.2165e+00,  1.3080e+00],\n",
            "        [ 1.1870e+00,  1.4160e+00,  2.6504e+00,  3.9681e+00],\n",
            "        [ 2.0808e+00,  3.7430e+00,  3.3173e+00,  5.4627e-01],\n",
            "        [ 9.6585e-01,  1.6613e+00,  1.8677e+00,  4.3994e+00],\n",
            "        [ 2.4537e+00,  2.1941e+00,  2.9854e+00,  3.6076e+00],\n",
            "        [ 5.5568e-01,  1.7681e+00,  1.4192e+00,  2.4260e+00],\n",
            "        [ 9.3930e-01,  2.2814e+00,  2.6198e+00,  7.5077e-01],\n",
            "        [ 7.4947e-02,  1.5062e+00,  8.4196e-01,  1.1402e+00],\n",
            "        [ 1.4486e+00,  1.1120e+00,  1.6981e+00,  1.2645e-01],\n",
            "        [ 1.0199e-01,  6.2917e-01,  6.0918e-01,  1.9923e+00],\n",
            "        [ 1.3106e+00,  2.1520e+00,  3.0894e+00,  2.5786e+00],\n",
            "        [ 1.4707e+00,  1.7547e+00,  1.3411e+00,  2.2803e+00],\n",
            "        [ 3.7519e-02,  1.3857e+00,  1.5407e+00,  1.7443e+00],\n",
            "        [ 1.2498e+00,  1.7028e+00,  2.8107e+00,  1.5622e+00],\n",
            "        [ 9.8904e-01,  1.4506e+00,  2.2756e+00,  2.8007e+00],\n",
            "        [ 2.0471e+00,  3.2460e+00,  2.5115e+00,  4.3328e+00],\n",
            "        [ 1.0903e+00,  1.9738e+00,  1.8302e+00,  2.5107e+00],\n",
            "        [ 2.1586e+00,  2.3997e+00,  3.2153e+00,  6.0873e+00],\n",
            "        [-1.7965e-01,  6.4018e-01,  2.8659e-01,  3.8876e+00],\n",
            "        [-1.6108e-01,  8.3276e-01,  3.5663e-01,  6.3032e-02],\n",
            "        [ 9.7009e-01,  1.1888e+00,  1.7489e+00,  3.5990e+00],\n",
            "        [ 2.2752e+00,  3.7097e+00,  4.5111e+00,  3.3452e-01],\n",
            "        [ 1.1018e+00,  1.9817e+00,  1.5253e+00,  2.3759e+00],\n",
            "        [ 2.5224e-01,  1.3245e+00,  1.1791e+00,  3.2971e+00],\n",
            "        [ 6.5964e-01,  1.7072e+00,  1.6519e+00,  1.9639e+00],\n",
            "        [ 7.5117e-01,  1.5703e+00,  1.4020e+00,  2.7635e+00],\n",
            "        [ 8.0444e-01,  1.4305e+00,  1.8738e+00,  9.8822e-01],\n",
            "        [ 6.6903e-01,  1.3598e+00,  1.1788e+00,  3.7106e+00],\n",
            "        [ 1.0168e+00,  2.2407e+00,  3.3479e+00,  2.5524e+00],\n",
            "        [-6.2104e-03,  1.6543e+00,  1.8242e+00,  1.3603e-02],\n",
            "        [ 1.1999e+00,  1.4103e+00,  1.8103e+00,  3.0408e+00],\n",
            "        [ 1.2619e+00,  9.4088e-01,  2.0216e+00,  2.4319e-01],\n",
            "        [ 3.8722e-01,  1.9594e+00,  1.5545e+00,  4.0956e+00],\n",
            "        [ 2.1064e-01,  2.2654e-01,  7.6795e-01,  2.9246e+00],\n",
            "        [ 8.9357e-01,  2.1992e+00,  1.3351e+00,  1.4171e+00],\n",
            "        [ 1.1384e+00,  2.7058e+00,  2.3499e+00,  4.8970e+00],\n",
            "        [ 2.2644e+00,  4.2129e+00,  3.7990e+00,  3.6763e+00],\n",
            "        [ 1.7128e+00,  2.0077e+00,  1.9138e+00, -2.2162e-01],\n",
            "        [-3.1843e-01,  5.3704e-01, -1.6340e-01,  2.7337e+00],\n",
            "        [ 5.4445e-01, -3.1309e-01,  6.7347e-01,  3.4101e+00],\n",
            "        [ 3.2432e+00,  3.5725e+00,  4.8604e+00,  2.9442e+00],\n",
            "        [ 1.4979e+00,  2.3676e+00,  1.7760e+00,  2.5251e+00],\n",
            "        [ 6.1713e-01,  1.7710e+00,  1.5542e+00,  5.6453e+00],\n",
            "        [ 7.4662e-01,  8.5705e-01,  1.0031e+00, -9.5742e-01],\n",
            "        [ 1.5383e+00,  1.9380e+00,  2.2931e+00,  1.9101e+00],\n",
            "        [ 1.6757e+00, -3.3043e-01,  1.7221e+00,  1.9601e+00],\n",
            "        [ 2.4120e+00,  1.3154e+00,  3.4818e+00,  5.4835e+00],\n",
            "        [ 1.0799e+00,  2.0515e+00,  3.2031e+00,  2.7335e+00],\n",
            "        [ 3.1215e+00,  4.0527e+00,  4.9665e+00,  3.3879e+00],\n",
            "        [ 1.5606e+00,  2.1574e+00,  2.3754e+00,  3.8867e+00],\n",
            "        [ 2.3841e+00,  3.7336e+00,  4.1674e+00,  3.9716e+00],\n",
            "        [ 1.3967e+00,  3.4111e+00,  2.9143e+00,  3.5690e+00],\n",
            "        [ 9.6407e-02,  9.1974e-01,  7.9182e-01,  3.6791e+00],\n",
            "        [ 1.2651e+00,  2.6738e+00,  3.1866e+00,  5.7775e+00],\n",
            "        [ 2.4672e+00,  3.7912e+00,  4.3610e+00,  6.2060e+00],\n",
            "        [ 2.5001e+00,  3.2130e+00,  4.2635e+00,  2.7879e+00],\n",
            "        [ 4.0371e-01,  8.7509e-01,  5.7443e-01,  4.4470e+00],\n",
            "        [ 2.6686e+00,  3.0381e+00,  4.1575e+00,  1.5585e+00]])\n"
          ]
        },
        {
          "name": "stderr",
          "output_type": "stream",
          "text": [
            "<ipython-input-79-20d70c153bb3>:2: UserWarning: To copy construct from a tensor, it is recommended to use sourceTensor.clone().detach() or sourceTensor.clone().detach().requires_grad_(True), rather than torch.tensor(sourceTensor).\n",
            "  validation_inputs = torch.tensor(validation_data)\n"
          ]
        }
      ],
      "source": [
        "with torch.no_grad():\n",
        "    validation_inputs = torch.tensor(validation_data)\n",
        "    predictions = torch.squeeze(model(validation_inputs))\n",
        "    print(torch.stack([validation_data[:,2],validation_data[:,1],validation_data[:,0],validation_label],dim=1))"
      ]
    },
    {
      "cell_type": "code",
      "execution_count": null,
      "metadata": {
        "colab": {
          "base_uri": "https://localhost:8080/",
          "height": 373
        },
        "id": "7svlHGynFsNf",
        "outputId": "b0c934c9-13e2-4595-9bb2-984da0a05448"
      },
      "outputs": [
        {
          "ename": "TypeError",
          "evalue": "Improper input: func input vector length N=2 must not exceed func output vector length M=1",
          "output_type": "error",
          "traceback": [
            "\u001b[0;31m---------------------------------------------------------------------------\u001b[0m",
            "\u001b[0;31mTypeError\u001b[0m                                 Traceback (most recent call last)",
            "\u001b[0;32m<ipython-input-234-5d550525e224>\u001b[0m in \u001b[0;36m<cell line: 5>\u001b[0;34m()\u001b[0m\n\u001b[1;32m      4\u001b[0m \u001b[0;34m\u001b[0m\u001b[0m\n\u001b[1;32m      5\u001b[0m \u001b[0;32mfor\u001b[0m \u001b[0mdata\u001b[0m \u001b[0;32min\u001b[0m \u001b[0mvalidation_data\u001b[0m\u001b[0;34m:\u001b[0m\u001b[0;34m\u001b[0m\u001b[0;34m\u001b[0m\u001b[0m\n\u001b[0;32m----> 6\u001b[0;31m   \u001b[0my_linear_0\u001b[0m\u001b[0;34m,\u001b[0m\u001b[0my_exp_0\u001b[0m\u001b[0;34m,\u001b[0m\u001b[0m_\u001b[0m\u001b[0;34m,\u001b[0m\u001b[0m_\u001b[0m \u001b[0;34m=\u001b[0m \u001b[0mextrapolate_values\u001b[0m\u001b[0;34m(\u001b[0m\u001b[0mdata\u001b[0m\u001b[0;34m,\u001b[0m\u001b[0mnp\u001b[0m\u001b[0;34m.\u001b[0m\u001b[0marray\u001b[0m\u001b[0;34m(\u001b[0m\u001b[0ml_list\u001b[0m\u001b[0;34m)\u001b[0m\u001b[0;34m)\u001b[0m\u001b[0;34m\u001b[0m\u001b[0;34m\u001b[0m\u001b[0m\n\u001b[0m\u001b[1;32m      7\u001b[0m   \u001b[0mlinear_data\u001b[0m\u001b[0;34m.\u001b[0m\u001b[0mappend\u001b[0m\u001b[0;34m(\u001b[0m\u001b[0my_linear_0\u001b[0m\u001b[0;34m)\u001b[0m\u001b[0;34m\u001b[0m\u001b[0;34m\u001b[0m\u001b[0m\n\u001b[1;32m      8\u001b[0m   \u001b[0mexp_data\u001b[0m\u001b[0;34m.\u001b[0m\u001b[0mappend\u001b[0m\u001b[0;34m(\u001b[0m\u001b[0my_exp_0\u001b[0m\u001b[0;34m)\u001b[0m\u001b[0;34m\u001b[0m\u001b[0;34m\u001b[0m\u001b[0m\n",
            "\u001b[0;32m/content/Quantum_KAN/functions/Error_mitigation.py\u001b[0m in \u001b[0;36mextrapolate_values\u001b[0;34m(y_data, x_data)\u001b[0m\n\u001b[1;32m    155\u001b[0m \u001b[0;32mdef\u001b[0m \u001b[0mextrapolate_values\u001b[0m\u001b[0;34m(\u001b[0m\u001b[0my_data\u001b[0m\u001b[0;34m,\u001b[0m\u001b[0mx_data\u001b[0m \u001b[0;34m=\u001b[0m \u001b[0mnp\u001b[0m\u001b[0;34m.\u001b[0m\u001b[0marray\u001b[0m\u001b[0;34m(\u001b[0m\u001b[0;34m[\u001b[0m\u001b[0;36m1\u001b[0m\u001b[0;34m,\u001b[0m \u001b[0;36m3\u001b[0m\u001b[0;34m,\u001b[0m \u001b[0;36m5\u001b[0m\u001b[0;34m,\u001b[0m \u001b[0;36m7\u001b[0m\u001b[0;34m]\u001b[0m\u001b[0;34m)\u001b[0m\u001b[0;34m)\u001b[0m\u001b[0;34m:\u001b[0m\u001b[0;34m\u001b[0m\u001b[0;34m\u001b[0m\u001b[0m\n\u001b[1;32m    156\u001b[0m     \u001b[0;31m# 선형 함수 피팅\u001b[0m\u001b[0;34m\u001b[0m\u001b[0;34m\u001b[0m\u001b[0m\n\u001b[0;32m--> 157\u001b[0;31m     \u001b[0mparams_linear\u001b[0m\u001b[0;34m,\u001b[0m \u001b[0m_\u001b[0m \u001b[0;34m=\u001b[0m \u001b[0mcurve_fit\u001b[0m\u001b[0;34m(\u001b[0m\u001b[0mlinear_func\u001b[0m\u001b[0;34m,\u001b[0m \u001b[0mx_data\u001b[0m\u001b[0;34m,\u001b[0m \u001b[0my_data\u001b[0m\u001b[0;34m)\u001b[0m\u001b[0;34m\u001b[0m\u001b[0;34m\u001b[0m\u001b[0m\n\u001b[0m\u001b[1;32m    158\u001b[0m     \u001b[0ma_linear\u001b[0m\u001b[0;34m,\u001b[0m \u001b[0mb_linear\u001b[0m \u001b[0;34m=\u001b[0m \u001b[0mparams_linear\u001b[0m\u001b[0;34m\u001b[0m\u001b[0;34m\u001b[0m\u001b[0m\n\u001b[1;32m    159\u001b[0m     \u001b[0my_linear_0\u001b[0m \u001b[0;34m=\u001b[0m \u001b[0mlinear_func\u001b[0m\u001b[0;34m(\u001b[0m\u001b[0;36m0\u001b[0m\u001b[0;34m,\u001b[0m \u001b[0ma_linear\u001b[0m\u001b[0;34m,\u001b[0m \u001b[0mb_linear\u001b[0m\u001b[0;34m)\u001b[0m\u001b[0;34m\u001b[0m\u001b[0;34m\u001b[0m\u001b[0m\n",
            "\u001b[0;32m/usr/local/lib/python3.10/dist-packages/scipy/optimize/_minpack_py.py\u001b[0m in \u001b[0;36mcurve_fit\u001b[0;34m(f, xdata, ydata, p0, sigma, absolute_sigma, check_finite, bounds, method, jac, full_output, nan_policy, **kwargs)\u001b[0m\n\u001b[1;32m    961\u001b[0m             raise TypeError(f\"The number of func parameters={n} must not\"\n\u001b[1;32m    962\u001b[0m                             f\" exceed the number of data points={ydata.size}\")\n\u001b[0;32m--> 963\u001b[0;31m         \u001b[0mres\u001b[0m \u001b[0;34m=\u001b[0m \u001b[0mleastsq\u001b[0m\u001b[0;34m(\u001b[0m\u001b[0mfunc\u001b[0m\u001b[0;34m,\u001b[0m \u001b[0mp0\u001b[0m\u001b[0;34m,\u001b[0m \u001b[0mDfun\u001b[0m\u001b[0;34m=\u001b[0m\u001b[0mjac\u001b[0m\u001b[0;34m,\u001b[0m \u001b[0mfull_output\u001b[0m\u001b[0;34m=\u001b[0m\u001b[0;36m1\u001b[0m\u001b[0;34m,\u001b[0m \u001b[0;34m**\u001b[0m\u001b[0mkwargs\u001b[0m\u001b[0;34m)\u001b[0m\u001b[0;34m\u001b[0m\u001b[0;34m\u001b[0m\u001b[0m\n\u001b[0m\u001b[1;32m    964\u001b[0m         \u001b[0mpopt\u001b[0m\u001b[0;34m,\u001b[0m \u001b[0mpcov\u001b[0m\u001b[0;34m,\u001b[0m \u001b[0minfodict\u001b[0m\u001b[0;34m,\u001b[0m \u001b[0merrmsg\u001b[0m\u001b[0;34m,\u001b[0m \u001b[0mier\u001b[0m \u001b[0;34m=\u001b[0m \u001b[0mres\u001b[0m\u001b[0;34m\u001b[0m\u001b[0;34m\u001b[0m\u001b[0m\n\u001b[1;32m    965\u001b[0m         \u001b[0mysize\u001b[0m \u001b[0;34m=\u001b[0m \u001b[0mlen\u001b[0m\u001b[0;34m(\u001b[0m\u001b[0minfodict\u001b[0m\u001b[0;34m[\u001b[0m\u001b[0;34m'fvec'\u001b[0m\u001b[0;34m]\u001b[0m\u001b[0;34m)\u001b[0m\u001b[0;34m\u001b[0m\u001b[0;34m\u001b[0m\u001b[0m\n",
            "\u001b[0;32m/usr/local/lib/python3.10/dist-packages/scipy/optimize/_minpack_py.py\u001b[0m in \u001b[0;36mleastsq\u001b[0;34m(func, x0, args, Dfun, full_output, col_deriv, ftol, xtol, gtol, maxfev, epsfcn, factor, diag)\u001b[0m\n\u001b[1;32m    417\u001b[0m \u001b[0;34m\u001b[0m\u001b[0m\n\u001b[1;32m    418\u001b[0m     \u001b[0;32mif\u001b[0m \u001b[0mn\u001b[0m \u001b[0;34m>\u001b[0m \u001b[0mm\u001b[0m\u001b[0;34m:\u001b[0m\u001b[0;34m\u001b[0m\u001b[0;34m\u001b[0m\u001b[0m\n\u001b[0;32m--> 419\u001b[0;31m         raise TypeError(f\"Improper input: func input vector length N={n} must\"\n\u001b[0m\u001b[1;32m    420\u001b[0m                         f\" not exceed func output vector length M={m}\")\n\u001b[1;32m    421\u001b[0m \u001b[0;34m\u001b[0m\u001b[0m\n",
            "\u001b[0;31mTypeError\u001b[0m: Improper input: func input vector length N=2 must not exceed func output vector length M=1"
          ]
        }
      ],
      "source": [
        "from Quantum_KAN.functions.Error_mitigation import extrapolate_values\n",
        "linear_data = []\n",
        "exp_data = []\n",
        "\n",
        "for data in validation_data:\n",
        "  y_linear_0,y_exp_0,_,_ = extrapolate_values(data,np.array(l_list))\n",
        "  linear_data.append(y_linear_0)\n",
        "  exp_data.append(y_exp_0)\n",
        "\n",
        "linear_data = torch.tensor(np.array(linear_data),dtype=torch.float32)\n",
        "exp_data = torch.tensor(np.array(exp_data),dtype=torch.float32)\n"
      ]
    },
    {
      "cell_type": "code",
      "execution_count": null,
      "metadata": {
        "colab": {
          "base_uri": "https://localhost:8080/"
        },
        "id": "ofsYtWh_GhxB",
        "outputId": "1c50ac83-b241-422b-a1aa-fa6885fddfd9"
      },
      "outputs": [
        {
          "name": "stdout",
          "output_type": "stream",
          "text": [
            "L1 loss : 1.8249717950820923\n",
            "MSE loss : 5.189857006072998\n"
          ]
        }
      ],
      "source": [
        "print(f'L1 loss : {torch.nn.L1Loss()(linear_data,validation_label)}')\n",
        "print(f'MSE loss : {torch.nn.MSELoss()(linear_data,validation_label)}')"
      ]
    },
    {
      "cell_type": "code",
      "execution_count": null,
      "metadata": {
        "colab": {
          "base_uri": "https://localhost:8080/"
        },
        "id": "lhT6Ow7iG6XA",
        "outputId": "8aa3f0b6-5040-48b9-ddcf-039ec6ad9c3a"
      },
      "outputs": [
        {
          "data": {
            "text/plain": [
              "tensor(2.0201)"
            ]
          },
          "execution_count": 37,
          "metadata": {},
          "output_type": "execute_result"
        }
      ],
      "source": [
        "torch.nn.L1Loss()(exp_data,validation_label)"
      ]
    },
    {
      "cell_type": "code",
      "execution_count": null,
      "metadata": {
        "colab": {
          "base_uri": "https://localhost:8080/"
        },
        "id": "3r8q4iPQATJF",
        "outputId": "6073eb42-1225-450b-f1a4-44cfc1a31535"
      },
      "outputs": [
        {
          "name": "stdout",
          "output_type": "stream",
          "text": [
            "tensor([[ 9.5834e-01,  1.0988e+00],\n",
            "        [ 1.9378e+00,  1.8975e+00],\n",
            "        [ 1.6031e+00,  9.6113e-01],\n",
            "        [ 1.5205e+00,  1.9424e+00],\n",
            "        [ 3.7185e+00,  3.8195e+00],\n",
            "        [-1.7447e-02, -5.8709e-01],\n",
            "        [ 7.9802e-03,  2.2420e-01],\n",
            "        [ 2.2131e+00,  2.3215e+00],\n",
            "        [ 2.7429e+00,  3.1681e+00],\n",
            "        [ 2.1032e+00,  1.7399e+00],\n",
            "        [-1.1638e+00, -7.9300e-01],\n",
            "        [ 3.7043e-01,  4.8473e-01],\n",
            "        [ 1.9792e+00,  2.2218e+00],\n",
            "        [ 2.8503e+00,  2.6846e+00],\n",
            "        [ 1.4229e+00,  1.3190e+00],\n",
            "        [ 2.4272e+00,  2.4113e+00],\n",
            "        [-1.0895e+00, -1.1371e+00],\n",
            "        [ 1.2315e+00,  1.6312e+00],\n",
            "        [ 1.1559e+00,  1.4788e+00],\n",
            "        [ 9.0486e-01,  1.4417e+00],\n",
            "        [-5.5545e-01, -1.7112e-02],\n",
            "        [ 6.5637e-01,  6.0807e-01],\n",
            "        [ 2.2913e+00,  2.3657e+00],\n",
            "        [-3.7699e-01,  4.3843e-03],\n",
            "        [-9.8820e-02, -5.0606e-01],\n",
            "        [ 6.5380e-01,  1.5706e+00],\n",
            "        [ 1.0517e+00,  9.0920e-01],\n",
            "        [ 1.9699e+00,  2.1598e+00],\n",
            "        [ 2.7581e+00,  2.3111e+00],\n",
            "        [ 1.5232e+00,  2.4206e+00],\n",
            "        [ 1.6999e+00,  2.1521e+00],\n",
            "        [ 5.7008e-01,  8.3703e-01],\n",
            "        [-6.7840e-01, -1.3536e+00],\n",
            "        [ 3.1734e+00,  3.7896e+00],\n",
            "        [ 2.1030e+00,  2.7812e+00],\n",
            "        [ 5.6778e-01,  1.3160e+00],\n",
            "        [ 3.2157e+00,  2.9523e+00],\n",
            "        [ 1.3931e+00,  1.1261e+00],\n",
            "        [ 2.1061e+00,  2.5021e+00],\n",
            "        [ 2.0285e+00,  2.5068e+00],\n",
            "        [ 1.2772e+00,  1.6999e+00],\n",
            "        [ 1.9722e+00,  2.1910e+00],\n",
            "        [ 1.4619e+00,  1.5295e+00],\n",
            "        [ 1.4125e+00,  1.5198e+00],\n",
            "        [ 2.0232e+00,  2.5625e+00],\n",
            "        [ 1.6254e+00,  1.8049e+00],\n",
            "        [ 1.6222e-01,  3.1265e-02],\n",
            "        [ 1.0412e+00,  4.2798e-01],\n",
            "        [ 1.3352e+00,  1.2921e+00],\n",
            "        [ 1.0127e+00,  9.3218e-01],\n",
            "        [ 1.6635e+00,  1.9381e+00],\n",
            "        [ 2.1681e+00,  2.3810e+00],\n",
            "        [ 2.9802e-03,  7.7314e-01],\n",
            "        [ 1.0208e+00,  1.7610e+00],\n",
            "        [ 4.5699e-01,  6.3892e-01],\n",
            "        [ 1.4307e+00,  1.9257e+00],\n",
            "        [ 1.7129e+00,  1.8956e+00],\n",
            "        [ 5.4803e-01,  2.5260e-01],\n",
            "        [ 2.9018e+00,  2.9874e+00],\n",
            "        [ 3.5645e+00,  3.6158e+00],\n",
            "        [ 7.7292e-01,  5.3563e-01],\n",
            "        [ 1.6800e+00,  1.6874e+00],\n",
            "        [ 1.5038e+00,  1.7034e+00],\n",
            "        [-7.4906e-01, -2.5253e-01],\n",
            "        [ 1.5318e-01,  5.4393e-01],\n",
            "        [ 3.2380e+00,  3.1948e+00],\n",
            "        [-7.0404e-02, -9.5102e-01],\n",
            "        [ 3.4981e+00,  2.8420e+00],\n",
            "        [-8.4012e-01, -1.1023e+00],\n",
            "        [-5.0033e-01, -5.4190e-01],\n",
            "        [ 2.4587e+00,  2.5186e+00],\n",
            "        [ 1.8546e+00,  2.3500e+00],\n",
            "        [ 2.3789e+00,  2.6151e+00],\n",
            "        [ 4.5916e-01, -5.5145e-01],\n",
            "        [ 8.6419e-01,  1.1148e+00],\n",
            "        [ 2.0472e+00,  2.7399e+00],\n",
            "        [ 1.0385e+00,  1.9517e+00],\n",
            "        [ 3.3141e+00,  3.1076e+00],\n",
            "        [ 3.5650e+00,  3.6550e+00],\n",
            "        [ 1.9715e+00,  2.2572e+00],\n",
            "        [ 1.8959e+00,  2.4217e+00],\n",
            "        [-6.0200e-01,  3.6210e-01],\n",
            "        [ 1.2744e+00,  9.7042e-01],\n",
            "        [ 2.9019e+00,  2.3700e+00],\n",
            "        [-2.0338e-01, -4.1169e-01],\n",
            "        [ 6.5431e-01,  3.7137e-01],\n",
            "        [-7.3790e-01, -7.0046e-01],\n",
            "        [ 3.0674e+00,  3.1109e+00],\n",
            "        [ 3.1058e+00,  3.6544e+00],\n",
            "        [ 1.6212e+00,  1.5187e+00],\n",
            "        [ 1.2158e+00,  1.5303e+00],\n",
            "        [-3.0239e-01,  5.5466e-02],\n",
            "        [-7.1148e-01, -4.9493e-01],\n",
            "        [ 1.0050e+00,  7.8224e-01],\n",
            "        [ 1.7349e+00,  2.0620e+00],\n",
            "        [ 6.0231e-02, -3.9946e-01],\n",
            "        [ 4.3511e-01, -2.4964e-01],\n",
            "        [ 3.1883e+00,  3.0870e+00],\n",
            "        [ 1.6397e+00,  1.9095e+00],\n",
            "        [ 2.8979e+00,  2.8225e+00]])\n"
          ]
        },
        {
          "name": "stderr",
          "output_type": "stream",
          "text": [
            "<ipython-input-67-577be693f5a7>:2: UserWarning: To copy construct from a tensor, it is recommended to use sourceTensor.clone().detach() or sourceTensor.clone().detach().requires_grad_(True), rather than torch.tensor(sourceTensor).\n",
            "  validation_inputs = torch.tensor(validation_data)\n"
          ]
        }
      ],
      "source": [
        "with torch.no_grad():\n",
        "    validation_inputs = torch.tensor(validation_data)\n",
        "    predictions = torch.squeeze(model(validation_inputs))\n",
        "    print(torch.stack([predictions,validation_label],dim=1))"
      ]
    },
    {
      "cell_type": "code",
      "execution_count": null,
      "metadata": {
        "colab": {
          "base_uri": "https://localhost:8080/"
        },
        "id": "F66whGTST8Nb",
        "outputId": "231dbd21-8365-4bc2-939d-7037459021f2"
      },
      "outputs": [
        {
          "data": {
            "text/plain": [
              "tensor(2.1884)"
            ]
          },
          "execution_count": 193,
          "metadata": {},
          "output_type": "execute_result"
        }
      ],
      "source": [
        "torch.nn.MSELoss()(train_data[:,0],train_label)"
      ]
    },
    {
      "cell_type": "code",
      "execution_count": null,
      "metadata": {
        "colab": {
          "base_uri": "https://localhost:8080/"
        },
        "id": "MOEs94KkdbrB",
        "outputId": "32f40e9b-9244-4f6e-8116-a8c3e4573655"
      },
      "outputs": [
        {
          "data": {
            "text/plain": [
              "tensor(1.7280)"
            ]
          },
          "execution_count": 293,
          "metadata": {},
          "output_type": "execute_result"
        }
      ],
      "source": [
        "torch.nn.MSELoss()(train_data[:,0],train_label)"
      ]
    },
    {
      "cell_type": "code",
      "execution_count": null,
      "metadata": {
        "colab": {
          "base_uri": "https://localhost:8080/"
        },
        "id": "sjhq2Ora_Woy",
        "outputId": "3b9e797b-4a88-4d0f-8bbe-cd45e2dbfba4"
      },
      "outputs": [
        {
          "data": {
            "text/plain": [
              "tensor(0.5488)"
            ]
          },
          "execution_count": 38,
          "metadata": {},
          "output_type": "execute_result"
        }
      ],
      "source": [
        "torch.nn.L1Loss()(predictions,validation_label)"
      ]
    },
    {
      "cell_type": "code",
      "execution_count": null,
      "metadata": {
        "colab": {
          "base_uri": "https://localhost:8080/"
        },
        "id": "8TnkEgIgExsj",
        "outputId": "b2b4ea84-3a75-48c8-eae2-56a1edb90978"
      },
      "outputs": [
        {
          "data": {
            "text/plain": [
              "tensor(2.4251)"
            ]
          },
          "execution_count": 209,
          "metadata": {},
          "output_type": "execute_result"
        }
      ],
      "source": [
        "torch.nn.L1Loss()(predictions,validation_label)"
      ]
    },
    {
      "cell_type": "code",
      "execution_count": null,
      "metadata": {
        "colab": {
          "base_uri": "https://localhost:8080/"
        },
        "id": "uU1IHmPfdfQx",
        "outputId": "cd9b6ba0-8cbe-4110-e7e3-270baff0ba7b"
      },
      "outputs": [
        {
          "data": {
            "text/plain": [
              "tensor(1.8753)"
            ]
          },
          "execution_count": 184,
          "metadata": {},
          "output_type": "execute_result"
        }
      ],
      "source": [
        "torch.nn.L1Loss()(validation_data[:,0],validation_label)"
      ]
    },
    {
      "cell_type": "code",
      "execution_count": null,
      "metadata": {
        "colab": {
          "base_uri": "https://localhost:8080/"
        },
        "id": "QiUqH4Mj9U-v",
        "outputId": "5e9205a6-2898-435a-f663-e568a034a6eb"
      },
      "outputs": [
        {
          "data": {
            "text/plain": [
              "tensor(4.8845)"
            ]
          },
          "execution_count": 201,
          "metadata": {},
          "output_type": "execute_result"
        }
      ],
      "source": [
        "torch.nn.MSELoss()(validation_data[:,0],validation_label)"
      ]
    },
    {
      "cell_type": "code",
      "execution_count": null,
      "metadata": {
        "id": "_ewpHedOJzC7"
      },
      "outputs": [],
      "source": [
        "with torch.no_grad():\n",
        "    validation_inputs = torch.tensor(train_data)\n",
        "    predictions = torch.squeeze(model(validation_inputs))\n",
        "    print(torch.stack([predictions,train_data[:,0],train_label],dim=1))"
      ]
    },
    {
      "cell_type": "code",
      "execution_count": null,
      "metadata": {
        "id": "Qa_liG7tuTM6"
      },
      "outputs": [],
      "source": [
        "service = QiskitRuntimeService(channel='ibm_quantum',\n",
        "    instance='ibm-q-skku/skku/skku-students',\n",
        "    token = '06f802eeac992c43c4106753d7c5fc31414a13eb7d91c99d67fb49cc50569e5b4b011f20c71b9607a07cb43ecc7044557c699022db91d1685ba4c886d5886854')\n",
        "\n",
        "\n",
        "backend = service.backend(backend_name)"
      ]
    },
    {
      "cell_type": "code",
      "execution_count": null,
      "metadata": {
        "id": "SLR592zoJzC8"
      },
      "outputs": [],
      "source": [
        "passmanager = generate_preset_pass_manager(optimization_level=optimization_level, backend=backend, initial_layout=qubit_use[:4])\n",
        "\n",
        "from qiskit.quantum_info import SparsePauliOp\n",
        "np.random.seed(30)\n",
        "theta = np.random.uniform(-3.14, 3.14, [100,len(trotterized_ising_circuit.parameters)])\n",
        "hamiltonian = SparsePauliOp.from_list([(\"ZIII\", 1), (\"IZII\", 1), (\"IIZI\", 1),(\"IIIZ\", 1)])\n",
        "qc_input = passmanager.run(trotterized_ising_circuit)\n",
        "isa_observables = hamiltonian.apply_layout(qc_input.layout)\n",
        "with Batch(backend=backend,):\n",
        "    estimator = EstimatorV2()\n",
        "    estimator.resilience_level = 2\n",
        "    estimator.twirlingoptions = T_options\n",
        "    job = estimator.run([(qc_input, isa_observables, theta[i]) for i in range(100)],precision=0.01)\n",
        "    job.update_tags(['ZNE'])"
      ]
    },
    {
      "cell_type": "code",
      "execution_count": null,
      "metadata": {
        "id": "_KsME_07JzC8"
      },
      "outputs": [],
      "source": [
        "job = service.job('csn3wqaea560008fdveg')\n",
        "job_result = job.result()\n",
        "temp_result = []\n",
        "for res in job_result:\n",
        "    temp_result.append(res.data.evs)\n",
        "temp_result = torch.tensor(np.array(temp_result),dtype=torch.float32)"
      ]
    },
    {
      "cell_type": "code",
      "execution_count": null,
      "metadata": {
        "colab": {
          "base_uri": "https://localhost:8080/"
        },
        "id": "B5UKkwN6IGQ2",
        "outputId": "f1c92c26-1501-4371-c5e3-86241ec12d0a"
      },
      "outputs": [
        {
          "data": {
            "text/plain": [
              "tensor(0.6260)"
            ]
          },
          "execution_count": 81,
          "metadata": {},
          "output_type": "execute_result"
        }
      ],
      "source": [
        "torch.nn.MSELoss()(temp_result,validation_label)"
      ]
    },
    {
      "cell_type": "code",
      "execution_count": null,
      "metadata": {
        "colab": {
          "base_uri": "https://localhost:8080/"
        },
        "id": "IiA-ANBKIUPs",
        "outputId": "dc8fcaba-1616-4d22-dfcb-8a248ee4012e"
      },
      "outputs": [
        {
          "data": {
            "text/plain": [
              "tensor(0.6688)"
            ]
          },
          "execution_count": 82,
          "metadata": {},
          "output_type": "execute_result"
        }
      ],
      "source": [
        "torch.nn.L1Loss()(temp_result,validation_label)"
      ]
    },
    {
      "cell_type": "code",
      "execution_count": null,
      "metadata": {
        "id": "5bT_horKAJwI"
      },
      "outputs": [],
      "source": []
    }
  ],
  "metadata": {
    "colab": {
      "provenance": []
    },
    "kernelspec": {
      "display_name": "Lee",
      "language": "python",
      "name": "python3"
    },
    "language_info": {
      "codemirror_mode": {
        "name": "ipython",
        "version": 3
      },
      "file_extension": ".py",
      "mimetype": "text/x-python",
      "name": "python",
      "nbconvert_exporter": "python",
      "pygments_lexer": "ipython3",
      "version": "3.11.9"
    }
  },
  "nbformat": 4,
  "nbformat_minor": 0
}