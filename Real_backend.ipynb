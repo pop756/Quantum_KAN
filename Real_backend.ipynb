{
  "cells": [
    {
      "cell_type": "code",
      "execution_count": 215,
      "metadata": {
        "colab": {
          "base_uri": "https://localhost:8080/",
          "height": 35
        },
        "id": "7Sm7jWIZ8dlJ",
        "outputId": "49edfdca-b4e5-4074-8585-408290477678"
      },
      "outputs": [
        {
          "output_type": "execute_result",
          "data": {
            "text/plain": [
              "'\\n!git clone -b EMT https://github.com/pop756/Quantum_KAN.git\\n%cd Quantum_KAN\\n!pip install -r requirements.txt'"
            ],
            "application/vnd.google.colaboratory.intrinsic+json": {
              "type": "string"
            }
          },
          "metadata": {},
          "execution_count": 215
        }
      ],
      "source": [
        "\"\"\"\n",
        "!git clone -b EMT https://github.com/pop756/Quantum_KAN.git\n",
        "%cd Quantum_KAN\n",
        "!pip install -r requirements.txt\"\"\""
      ]
    },
    {
      "cell_type": "code",
      "source": [
        "import qiskit\n",
        "from qiskit import QuantumCircuit\n",
        "from qiskit.circuit import Parameter\n",
        "import numpy as np\n",
        "from qiskit.compiler import transpile\n",
        "from qiskit_ibm_runtime.options import TwirlingOptions\n",
        "from qiskit.quantum_info import SparsePauliOp\n",
        "\n",
        "def create_trotterized_ising_model_circuit(num_qubits, trotter_steps, time):\n",
        "    \"\"\"\n",
        "    Trotterization을 사용하여 Ising 모델의 양자 서킷을 생성합니다.\n",
        "    각 Rz 게이트의 파라미터는 Qiskit Parameter로 동적으로 설정됩니다.\n",
        "\n",
        "    Parameters:\n",
        "    - num_qubits: 큐비트의 수\n",
        "    - trotter_steps: Trotterization 단계 수\n",
        "    - time: 진화 시간\n",
        "\n",
        "    Returns:\n",
        "    - QuantumCircuit: 생성된 양자 서킷\n",
        "    - dict: 서킷 파라미터 사전\n",
        "    \"\"\"\n",
        "    qc = QuantumCircuit(num_qubits)\n",
        "    delta_t = time / trotter_steps\n",
        "\n",
        "    # 파라미터 설정\n",
        "    h_params = [Parameter(f'h_{i}') for i in range(num_qubits)]\n",
        "    J_params = [[Parameter(f'J_{i}_{j}') for j in range(num_qubits)] for i in range(num_qubits)]\n",
        "\n",
        "    for _ in range(trotter_steps):\n",
        "        # 자기 상호작용 항목 추가\n",
        "        for i in range(num_qubits):\n",
        "            qc.rx(2 * h_params[i] * delta_t, i)\n",
        "\n",
        "        # 스핀 간 상호작용 항목 추가\n",
        "        for i in range(num_qubits-1):\n",
        "            if J_params[i][i+1] != 0:\n",
        "                qc.cx(i, i+1)\n",
        "                qc.rz(2 * J_params[i][i+1] * delta_t, i+1)\n",
        "                qc.cx(i, i+1)\n",
        "\n",
        "    return qc, h_params, J_params\n",
        "\n",
        "\n",
        "# ECR 게이트를 제거하는 함수\n",
        "def remove_ecr_gates(circuit):\n",
        "    new_circuit = QuantumCircuit(circuit.num_qubits)\n",
        "    for instr, qargs, cargs in circuit.data:\n",
        "        if instr.name != 'ecr':\n",
        "            new_circuit.append(instr, qargs, cargs)\n",
        "    return new_circuit\n",
        "\n",
        "# 파라미터 설정\n",
        "trotter_steps = 3  # Trotterization 단계 수\n",
        "time = 1.0  # 진화 시간\n",
        "num_qubits = 8\n",
        "init_p  =['I' for i in range(num_qubits)]\n",
        "p_list = []\n",
        "for i in range(num_qubits):\n",
        "  temp = init_p.copy()\n",
        "  temp[i] = 'X'\n",
        "  p_list.append(''.join(temp))\n",
        "\n",
        "\n",
        "hamiltonian = SparsePauliOp.from_list([(p_list[i],1) for i in range(num_qubits)])\n"
      ],
      "metadata": {
        "id": "Vgay4kcFsmVM"
      },
      "execution_count": 535,
      "outputs": []
    },
    {
      "cell_type": "code",
      "execution_count": 536,
      "metadata": {
        "notebookRunGroups": {
          "groupValue": "1"
        },
        "id": "d9zS4Z5-JzC0"
      },
      "outputs": [],
      "source": [
        "\n",
        "\n",
        "# Initialize your account\n",
        "from qiskit_ibm_runtime import QiskitRuntimeService\n",
        "import qiskit_ibm_provider\n",
        "from qiskit_aer import AerSimulator\n",
        "service = QiskitRuntimeService(channel='ibm_quantum',\n",
        "    instance='ibm-q-skku/skku/skku-students',\n",
        "    token = '06f802eeac992c43c4106753d7c5fc31414a13eb7d91c99d67fb49cc50569e5b4b011f20c71b9607a07cb43ecc7044557c699022db91d1685ba4c886d5886854')\n",
        "\n",
        "backend_name = 'ibm_sherbrooke'\n",
        "backend_error = service.backend(backend_name)\n",
        "\n",
        "qubit_use = [117,118,119,120,121,122,123,124]\n",
        "\n",
        "\n",
        "#qubit_use = [113,114,115,116,117,118,119,120]\n",
        "min = np.min(np.array(qubit_use))\n",
        "init_list_temp = []\n",
        "\n",
        "\n",
        "\n",
        "init_list = []\n",
        "for item in backend_error.target['ecr']:\n",
        "    if (item[0] in qubit_use) and (item[1] in qubit_use):\n",
        "        init_list.append(item)\n",
        "\n",
        "init_list_temp = []\n",
        "for item in backend_error.target['ecr']:\n",
        "    if (item[0] in qubit_use) and (item[1] in qubit_use):\n",
        "        init_list_temp.append((int(item[0]-min),int(item[1]-min)))\n",
        "\n",
        "\n",
        "trotterized_ising_circuit, h_params, J_params = create_trotterized_ising_model_circuit(8, trotter_steps, time)\n",
        "trotterized_ising_circuit = transpile(trotterized_ising_circuit,basis_gates=['rz','sx','x','ecr'],coupling_map=[list(i) for i in init_list_temp ],optimization_level=2,seed_transpiler=30)\n",
        "trotterized_ising_circuit_train = remove_ecr_gates(trotterized_ising_circuit)\n",
        "np.random.seed(30)\n",
        "theta = np.random.uniform(-3.14, 3.14, [100,len(trotterized_ising_circuit.parameters)])\n",
        "np.random.seed(60)\n",
        "theta_valid = np.random.uniform(-3.14, 3.14, [100,len(trotterized_ising_circuit.parameters)])"
      ]
    },
    {
      "cell_type": "code",
      "source": [
        "# Initialize your account\n",
        "from qiskit_ibm_runtime import QiskitRuntimeService\n",
        "import qiskit_ibm_provider\n",
        "from qiskit_aer import AerSimulator\n",
        "service = QiskitRuntimeService(channel='ibm_quantum',\n",
        "    instance='ibm-q-skku/skku/skku-students',\n",
        "    token = '06f802eeac992c43c4106753d7c5fc31414a13eb7d91c99d67fb49cc50569e5b4b011f20c71b9607a07cb43ecc7044557c699022db91d1685ba4c886d5886854')\n",
        "\n",
        "backend_name = backend_name\n",
        "backend = service.backend(backend_name)"
      ],
      "metadata": {
        "id": "Jfz-7fB3zSrA"
      },
      "execution_count": 537,
      "outputs": []
    },
    {
      "cell_type": "code",
      "source": [
        "#setting\n",
        "optimization_level = 0\n",
        "resilience_level = 1\n",
        "l = 0\n",
        "stretch = 3\n",
        "T_options = TwirlingOptions(enable_gates=True)"
      ],
      "metadata": {
        "id": "Jy4h6IuQsruv"
      },
      "execution_count": 602,
      "outputs": []
    },
    {
      "cell_type": "code",
      "execution_count": 603,
      "metadata": {
        "colab": {
          "base_uri": "https://localhost:8080/",
          "height": 702
        },
        "id": "aF-MVUz25qeI",
        "outputId": "61a8ff86-4de0-48b5-b063-31fce8bd234e"
      },
      "outputs": [
        {
          "output_type": "execute_result",
          "data": {
            "text/plain": [
              "<Figure size 1300x765 with 1 Axes>"
            ],
            "image/png": "[encoded data removed]"
          },
          "metadata": {},
          "execution_count": 603
        }
      ],
      "source": [
        "from qiskit import QuantumCircuit\n",
        "from qiskit import pulse\n",
        "from qiskit import schedule\n",
        "from qiskit.transpiler.preset_passmanagers import generate_preset_pass_manager\n",
        "from qiskit_ibm_runtime import Options\n",
        "from qiskit.pulse.library import Gaussian\n",
        "from qiskit_ibm_runtime import Batch, SamplerV2 as Sampler\n",
        "\n",
        "\n",
        "passmanager = generate_preset_pass_manager(optimization_level=0, backend=backend, initial_layout=[117,118])\n",
        "\n",
        "\n",
        "\n",
        "circ = QuantumCircuit(2, 2)\n",
        "circ.ecr(0, 1)\n",
        "from qiskit import transpile\n",
        "circ = passmanager.run(circ,backend)\n",
        "pulse_schedule = schedule(circ,backend=backend)\n",
        "pulse_schedule.draw()"
      ]
    },
    {
      "cell_type": "code",
      "execution_count": 540,
      "metadata": {
        "id": "NBTLMtDEDiFN"
      },
      "outputs": [],
      "source": [
        "import copy\n",
        "from qiskit_ibm_runtime.fake_provider import FakePerth\n",
        "from qiskit.circuit import QuantumCircuit, Gate\n",
        "from qiskit.pulse import builder, DriveChannel,Schedule,GaussianSquare,Drag,Play,ScheduleBlock,Delay\n",
        "from qiskit.transpiler import InstructionProperties\n",
        "from qiskit_ibm_runtime import QiskitRuntimeService, EstimatorV2 ,SamplerV2\n",
        "from qiskit_ibm_runtime import Session\n",
        "import numpy as np\n",
        "\n",
        "\n",
        "init = '11'\n",
        "\n",
        "\n",
        "error_gate = Gate(f\"error\", 2, [])\n",
        "qc1 = QuantumCircuit(2, 2)\n",
        "if init[0] == '1':\n",
        "  qc1.x(0)\n",
        "if init[1] == '1':\n",
        "  qc1.x(1)\n",
        "qc1.ecr(0,1)\n",
        "qc1.measure(0,0)\n",
        "qc1.measure(1,1)\n",
        "\n",
        "def ecr_to_error(pulse_schedule,l):\n",
        "  pulse_copy = copy.deepcopy(pulse_schedule)\n",
        "  duration = round(pulse_copy.instructions[0][1].pulse.duration/32*l)*16\n",
        "  width = round(pulse_copy.instructions[0][1].pulse._params['width']/32*l)*16\n",
        "  x_duration = pulse_copy.instructions[2][1].pulse.duration\n",
        "  sigma = round(pulse_copy.instructions[0][1].pulse._params['sigma']/32*l)*16\n",
        "  angle = pulse_copy.instructions[0][1].pulse._params['angle']\n",
        "  if sigma == 0:\n",
        "    sigma = 1\n",
        "  my_schedule = ScheduleBlock()\n",
        "  signal_params = {'width':width,'sigma':sigma}\n",
        "  for j in range(2):\n",
        "    pulse_copy = copy.deepcopy(pulse_schedule)\n",
        "    pulse_input_x_1 = pulse_copy.instructions[0][1]\n",
        "    pulse_input_x_2 = pulse_copy.instructions[3][1]\n",
        "    pulse_input_c_1 = pulse_copy.instructions[1][1]\n",
        "    #pulse_input_c_1.pulse._params['angle'] = 0\n",
        "    pulse_input_c_1.pulse._params.update(signal_params)\n",
        "    pulse_input_c_1.pulse.duration = duration\n",
        "    pulse_input_x_1.pulse._params.update(signal_params)\n",
        "    pulse_input_x_1.pulse.duration = duration\n",
        "    pulse_input_drag = pulse_copy.instructions[2][1]\n",
        "    if j == 1:\n",
        "        pulse_input_drag.pulse._params['angle'] = 3.14\n",
        "    pulse_input_c_2 = pulse_copy.instructions[4][1]\n",
        "    pulse_input_c_2.pulse.duration = duration\n",
        "    pulse_input_c_2.pulse._params.update(signal_params)\n",
        "    pulse_input_x_2.pulse._params.update(signal_params)\n",
        "    pulse_input_x_2.pulse.duration = duration\n",
        "    real_pulse = ScheduleBlock()\n",
        "    real_pulse += pulse_input_c_1\n",
        "    real_pulse += pulse_input_x_1\n",
        "    real_pulse += Delay(x_duration,pulse_input_c_1.channel)\n",
        "    real_pulse += Delay(x_duration,pulse_input_x_1.channel)\n",
        "    real_pulse +=  pulse_input_c_2\n",
        "    real_pulse += pulse_input_x_2\n",
        "    real_pulse += Delay(duration,pulse_input_drag.channel)\n",
        "    real_pulse += pulse_input_drag\n",
        "    my_schedule += real_pulse\n",
        "  return my_schedule\n",
        "\n",
        "\n",
        "def ecr_to_schedule(pulse_schedule):\n",
        "  pulse_copy = copy.deepcopy(pulse_schedule)\n",
        "  my_schedule = ScheduleBlock()\n",
        "  x_duration = pulse_copy.instructions[2][1].pulse.duration\n",
        "  duration = pulse_copy.instructions[0][1].pulse.duration\n",
        "  pulse_input_x_1 = pulse_copy.instructions[0][1]\n",
        "  pulse_input_x_2 = pulse_copy.instructions[3][1]\n",
        "  pulse_input_c_1 = pulse_copy.instructions[1][1]\n",
        "  pulse_input_drag = pulse_copy.instructions[2][1]\n",
        "  pulse_input_c_2 = pulse_copy.instructions[4][1]\n",
        "  real_pulse = ScheduleBlock()\n",
        "  real_pulse += pulse_input_c_1\n",
        "  real_pulse += pulse_input_x_1\n",
        "  real_pulse += Delay(x_duration,pulse_input_c_1.channel)\n",
        "  real_pulse += Delay(x_duration,pulse_input_x_1.channel)\n",
        "  real_pulse +=  pulse_input_c_2\n",
        "  real_pulse += pulse_input_x_2\n",
        "  real_pulse += Delay(duration,pulse_input_drag.channel)\n",
        "  real_pulse += pulse_input_drag\n",
        "  my_schedule += real_pulse\n",
        "  return my_schedule\n",
        "\n",
        "\n",
        "\n",
        "def update_ecr(l,init_list,backend):\n",
        "  backend_copy = copy.deepcopy(backend)\n",
        "  layouts = {}\n",
        "  for initial_layout in init_list:\n",
        "    custom_gate = Gate(f\"error\", 1, [])\n",
        "    pulse_schedule = backend_copy.target['ecr'][initial_layout].calibration\n",
        "    pulse_real = ecr_to_error(pulse_schedule,stretch)\n",
        "\n",
        "\n",
        "    if l == 0:\n",
        "      backend_copy.target.update_instruction_properties(f'ecr',initial_layout,properties = InstructionProperties(calibration=(pulse_real)))\n",
        "    else:\n",
        "      my_schedule = ecr_to_error(pulse_schedule,l)\n",
        "      backend_copy.target.update_instruction_properties(f'ecr',initial_layout,properties = InstructionProperties(calibration=(pulse_real+my_schedule)))\n",
        "\n",
        "\n",
        "\n",
        "  return backend_copy\n",
        "\n",
        "\n",
        "backend_error = update_ecr(l,init_list,backend)\n",
        "initial_layout = init_list[0]\n",
        "passmanager = generate_preset_pass_manager(optimization_level=0, backend=backend_error, initial_layout=list(initial_layout))\n",
        "qc1 = passmanager.run(qc1)\n"
      ]
    },
    {
      "cell_type": "code",
      "execution_count": 541,
      "metadata": {
        "colab": {
          "base_uri": "https://localhost:8080/",
          "height": 1000
        },
        "id": "18dWSU8XJzC4",
        "outputId": "1e9b78b9-3c67-4856-c552-cb059f7d4f51"
      },
      "outputs": [
        {
          "output_type": "execute_result",
          "data": {
            "text/plain": [
              "<Figure size 1300x1206.39 with 1 Axes>"
            ],
            "image/png": "[encoded data removed]"
          },
          "metadata": {},
          "execution_count": 541
        }
      ],
      "source": [
        "schedule(qc1,backend=backend_error).draw()"
      ]
    },
    {
      "cell_type": "code",
      "execution_count": 592,
      "metadata": {
        "id": "3f3aOetHQAbv"
      },
      "outputs": [],
      "source": [
        "\n",
        "passmanager = generate_preset_pass_manager(optimization_level=optimization_level, backend=backend_error, initial_layout=qubit_use)\n",
        "qc_input = passmanager.run(trotterized_ising_circuit)\n",
        "isa_observables = hamiltonian.apply_layout(qc_input.layout)\n",
        "with Batch(backend = backend_error):\n",
        "    estimator = EstimatorV2()\n",
        "    estimator.twirlingoptions = T_options\n",
        "    job = estimator.run([(qc_input, isa_observables, theta[i]) for i in range(100)])\n",
        "    job.update_tags(['ecr_train',f\"l={1+l}\",f\"stretch={stretch}\",\"exp = x\"])"
      ]
    },
    {
      "cell_type": "code",
      "execution_count": 604,
      "metadata": {
        "id": "o6ZAs4bgJPp3"
      },
      "outputs": [],
      "source": [
        "import copy\n",
        "from qiskit_ibm_runtime.fake_provider import FakePerth\n",
        "from qiskit.circuit import QuantumCircuit, Gate\n",
        "from qiskit.pulse import builder, DriveChannel\n",
        "from qiskit.transpiler import InstructionProperties\n",
        "from qiskit_ibm_runtime import QiskitRuntimeService, EstimatorV2,SamplerV2\n",
        "from qiskit_ibm_runtime import Session\n",
        "init = '11'\n",
        "\n",
        "\n",
        "error_gate = Gate(f\"error\", 2, [])\n",
        "qc1 = QuantumCircuit(2, 2)\n",
        "if init[0] == '1':\n",
        "  qc1.x(0)\n",
        "if init[1] == '1':\n",
        "  qc1.x(1)\n",
        "qc1.ecr(0,1)\n",
        "qc1.ecr(0,1)\n",
        "qc1.measure(0,0)\n",
        "qc1.measure(1,1)\n",
        "\n",
        "def update_ecr_real(l,init_list,backend):\n",
        "  backend_copy = copy.deepcopy(backend)\n",
        "  layouts = {}\n",
        "  for initial_layout in init_list:\n",
        "    pulse_schedule = backend_copy.target['ecr'][initial_layout].calibration\n",
        "    pulse_real = ecr_to_schedule(pulse_schedule)\n",
        "\n",
        "    if l == 0:\n",
        "      backend_copy.target.update_instruction_properties(f'ecr',initial_layout,properties = InstructionProperties(calibration=(pulse_real)))\n",
        "    else:\n",
        "      my_schedule = ecr_to_error(pulse_schedule,l)\n",
        "      backend_copy.target.update_instruction_properties(f'ecr',initial_layout,properties = InstructionProperties(calibration=(pulse_real+my_schedule)))\n",
        "\n",
        "\n",
        "\n",
        "  return backend_copy\n",
        "\n",
        "\n",
        "\n",
        "\n",
        "backend_ecr = update_ecr_real(l,init_list,backend)\n",
        "initial_layout = init_list[0]\n",
        "passmanager = generate_preset_pass_manager(optimization_level=0, backend=backend, initial_layout=list(initial_layout))\n",
        "qc1 = passmanager.run(qc1)\n"
      ]
    },
    {
      "cell_type": "code",
      "execution_count": 605,
      "metadata": {
        "colab": {
          "base_uri": "https://localhost:8080/",
          "height": 937
        },
        "id": "IESVIJ06JxoT",
        "outputId": "e9a3a0c2-201d-4031-ace5-b380f4c85bc0"
      },
      "outputs": [
        {
          "output_type": "execute_result",
          "data": {
            "text/plain": [
              "<Figure size 1300x1071.39 with 1 Axes>"
            ],
            "image/png": "[encoded data removed]"
          },
          "metadata": {},
          "execution_count": 605
        }
      ],
      "source": [
        "schedule(qc1,backend=backend_ecr).draw()"
      ]
    },
    {
      "cell_type": "code",
      "execution_count": 606,
      "metadata": {
        "id": "SyGb0u8YJzC5"
      },
      "outputs": [],
      "source": [
        "passmanager = generate_preset_pass_manager(optimization_level=optimization_level, backend=backend_ecr, initial_layout=qubit_use)\n",
        "\n",
        "from qiskit.quantum_info import SparsePauliOp\n",
        "qc_input = passmanager.run(trotterized_ising_circuit)\n",
        "isa_observables = hamiltonian.apply_layout(qc_input.layout)\n",
        "\n",
        "\n",
        "\n",
        "with Batch(backend = backend_ecr):\n",
        "    estimator = EstimatorV2()\n",
        "    estimator.resilience_level = resilience_level\n",
        "    estimator.twirlingoptions = T_options\n",
        "    job = estimator.run([(qc_input, isa_observables, theta_valid[i]) for i in range(100)])\n",
        "    #job = sampler.run(qc_list,shots=8000)\n",
        "    job.update_tags(['ecr',f\"l={1+l}\",\"x\"])"
      ]
    },
    {
      "cell_type": "code",
      "execution_count": 607,
      "metadata": {
        "id": "kbYkfp8PJzC5"
      },
      "outputs": [],
      "source": [
        "from qiskit.primitives import StatevectorEstimator\n",
        "import torch\n",
        "from qiskit.quantum_info import SparsePauliOp\n",
        "estimator = StatevectorEstimator()\n",
        "job_train = estimator.run([(trotterized_ising_circuit_train, hamiltonian, theta[i]) for i in range(100)])\n",
        "job_valid = estimator.run([(trotterized_ising_circuit, hamiltonian, theta_valid[i]) for i in range(100)])"
      ]
    },
    {
      "cell_type": "code",
      "execution_count": 608,
      "metadata": {
        "id": "OZcGkCZzJzC6"
      },
      "outputs": [],
      "source": [
        "train_label = torch.tensor(np.array([result.data.evs for result in job_train.result()]),dtype=torch.float32)\n",
        "validation_label = torch.tensor(np.array([result.data.evs for result in job_valid.result()]),dtype=torch.float32)\n",
        "train_label = torch.reshape(train_label,[-1,1])\n",
        "validation_label = torch.reshape(validation_label,[-1,1])"
      ]
    },
    {
      "cell_type": "code",
      "execution_count": 612,
      "metadata": {
        "id": "S11FQRseQ2TM",
        "outputId": "c9801b70-a9a1-4206-b91d-e865eb286fb1",
        "colab": {
          "base_uri": "https://localhost:8080/"
        }
      },
      "outputs": [
        {
          "output_type": "stream",
          "name": "stdout",
          "text": [
            "['exp = x', 'stretch=3', 'ecr_train', 'l=1']\n",
            "1\n",
            "1\n"
          ]
        }
      ],
      "source": [
        "import torch\n",
        "l_list = [1]\n",
        "train_set = []\n",
        "valid_set = []\n",
        "\n",
        "for l in l_list:\n",
        "  train_list = []\n",
        "  valid_list = []\n",
        "\n",
        "  job_train = service.jobs(backend_name=backend_name,job_tags=['ecr_train',f'l={l}'],pending=False)\n",
        "  job_valid = service.jobs(backend_name=backend_name,job_tags=['ecr',f'l={l}'],pending=False)\n",
        "  if len(job_train) != 0:\n",
        "    job = job_train[0]\n",
        "    print(job.tags)\n",
        "    for res in job.result():\n",
        "      train_list.append(res.data.evs)\n",
        "    print(l)\n",
        "    train_set.append(torch.tensor(np.array(train_list),dtype=torch.float32))\n",
        "\n",
        "\n",
        "  if len(job_valid) != 0:\n",
        "    for res in job_valid[0].result():\n",
        "      valid_list.append(res.data.evs)\n",
        "    print(l)\n",
        "    valid_set.append(torch.tensor(np.array(valid_list),dtype=torch.float32))\n",
        "\n"
      ]
    },
    {
      "cell_type": "code",
      "source": [
        "train_data = torch.stack(train_set,dim=1)\n",
        "train_data = train_data.to(torch.float32)\n",
        "validation_data = torch.stack(valid_set,dim=1)\n",
        "validation_data = validation_data.to(torch.float32)\n",
        "\n",
        "print(f\"Raw train loss : {float(torch.nn.MSELoss()(train_data[:,0],torch.squeeze(train_label))):.4f}\")\n",
        "print(f\"Raw valid loss : {float(torch.nn.MSELoss()(validation_data[:,0],torch.squeeze(validation_label))):.4f}\")\n",
        "\n",
        "for i in range(len(train_set)-1):\n",
        "  print(f\"Train difference {i,i+1} : {float(torch.nn.MSELoss()(train_data[:,i],train_data[:,i+1])):.4f}\")\n",
        "  print(f\"Validation difference {i,i+1} : {float(torch.nn.MSELoss()(validation_data[:,i],validation_data[:,i+1])):.4f}\")\n",
        "#train_data = validation_data[:50]\n",
        "#validation_data = validation_data[50:]\n",
        "#train_label = validation_label[:50]\n",
        "#validation_label = validation_label[50:]"
      ],
      "metadata": {
        "id": "pLRVZivrUuVy",
        "outputId": "c747aa63-5911-49f1-9925-a7cce10fc753",
        "colab": {
          "base_uri": "https://localhost:8080/"
        }
      },
      "execution_count": 616,
      "outputs": [
        {
          "output_type": "stream",
          "name": "stdout",
          "text": [
            "Raw train loss : 1.0064\n",
            "Raw valid loss : 2.3919\n"
          ]
        }
      ]
    },
    {
      "cell_type": "code",
      "source": [
        "train_data[:,0]"
      ],
      "metadata": {
        "id": "f5mTx5pnz1UA",
        "outputId": "95f56ffc-97b9-4237-a81a-2908644fbbdd",
        "colab": {
          "base_uri": "https://localhost:8080/"
        }
      },
      "execution_count": 567,
      "outputs": [
        {
          "output_type": "execute_result",
          "data": {
            "text/plain": [
              "tensor([-1.3975,  0.6229,  0.4945, -0.3699, -1.4530,  0.1051,  0.5066, -1.4512,\n",
              "         0.0028, -0.2069, -0.3207, -0.6457, -0.5732, -1.4832, -1.3608, -1.8368,\n",
              "        -1.4241,  0.9718,  0.4989,  0.1530,  0.6107, -1.4069, -0.7159, -0.7303,\n",
              "        -0.4394, -0.2924, -2.3214, -1.1002,  1.2785,  0.7714,  0.2355, -0.8103,\n",
              "        -0.0553,  0.4297,  0.1382,  0.7241, -0.6193, -1.5607,  0.0635, -1.1801,\n",
              "         0.7538, -0.9594, -0.2045, -1.6229, -0.7086, -0.2899,  0.0581,  1.2658,\n",
              "         0.9490, -0.7149,  0.2358, -0.3036, -0.0549,  0.8227, -1.6125, -0.8525,\n",
              "        -0.8177,  1.0672,  0.4779, -0.3872, -1.5744, -0.6061,  0.5658, -1.8574,\n",
              "         0.8317, -0.4781, -0.6508, -0.8775, -0.5234,  0.8604, -1.0978,  0.0771,\n",
              "        -0.2013,  1.2512, -0.6273, -0.9444, -1.3179, -0.8763,  0.3858, -0.0914,\n",
              "        -0.2298,  0.0071,  0.1774, -0.1752,  0.2634, -0.8667,  1.4661, -0.4916,\n",
              "         0.2410, -0.3428, -0.7483,  0.1585,  0.3459, -1.3854,  0.8553, -0.9898,\n",
              "         1.2432, -0.2571, -0.6306, -0.9828])"
            ]
          },
          "metadata": {},
          "execution_count": 567
        }
      ]
    },
    {
      "cell_type": "code",
      "source": [
        "LSTM_list_MSE = []\n",
        "LSTM_list_L1 = []"
      ],
      "metadata": {
        "id": "uO8EXOowxeAr"
      },
      "execution_count": 569,
      "outputs": []
    },
    {
      "cell_type": "code",
      "execution_count": 588,
      "metadata": {
        "colab": {
          "base_uri": "https://localhost:8080/",
          "height": 1000
        },
        "id": "-WVt9ej4Sa1m",
        "outputId": "2eafa858-baf7-42e9-aeba-1337312ac7b1"
      },
      "outputs": [
        {
          "output_type": "stream",
          "name": "stderr",
          "text": [
            "<ipython-input-588-45ba8ab1703b>:20: UserWarning: To copy construct from a tensor, it is recommended to use sourceTensor.clone().detach() or sourceTensor.clone().detach().requires_grad_(True), rather than torch.tensor(sourceTensor).\n",
            "  train_dataset = TensorDataset(torch.tensor(train_data), torch.tensor(train_label))\n",
            "<ipython-input-588-45ba8ab1703b>:21: UserWarning: To copy construct from a tensor, it is recommended to use sourceTensor.clone().detach() or sourceTensor.clone().detach().requires_grad_(True), rather than torch.tensor(sourceTensor).\n",
            "  validation_dataset = TensorDataset(torch.tensor(validation_data), torch.tensor(validation_label))\n"
          ]
        },
        {
          "output_type": "stream",
          "name": "stdout",
          "text": [
            "Epoch 1/500, Training Loss: 2.489232063293457, Validation Loss: 3.3324737548828125\n",
            "Epoch 2/500, Training Loss: 2.441312789916992, Validation Loss: 3.369264841079712\n",
            "Epoch 3/500, Training Loss: 2.400261878967285, Validation Loss: 3.3892900943756104\n",
            "Epoch 4/500, Training Loss: 2.3643605709075928, Validation Loss: 3.388859272003174\n",
            "Epoch 5/500, Training Loss: 2.3316004276275635, Validation Loss: 3.3689281940460205\n",
            "Epoch 6/500, Training Loss: 2.3006339073181152, Validation Loss: 3.3328487873077393\n",
            "Epoch 7/500, Training Loss: 2.2707247734069824, Validation Loss: 3.28427791595459\n",
            "Epoch 8/500, Training Loss: 2.2415289878845215, Validation Loss: 3.2261552810668945\n",
            "Epoch 9/500, Training Loss: 2.212877035140991, Validation Loss: 3.160510778427124\n",
            "Epoch 10/500, Training Loss: 2.1846487522125244, Validation Loss: 3.0885748863220215\n",
            "Epoch 11/500, Training Loss: 2.1567275524139404, Validation Loss: 3.011354923248291\n",
            "Epoch 12/500, Training Loss: 2.129035711288452, Validation Loss: 2.929955244064331\n",
            "Epoch 13/500, Training Loss: 2.101550340652466, Validation Loss: 2.845627546310425\n",
            "Epoch 14/500, Training Loss: 2.074310064315796, Validation Loss: 2.759831190109253\n",
            "Epoch 15/500, Training Loss: 2.04742431640625, Validation Loss: 2.6742708683013916\n",
            "Epoch 16/500, Training Loss: 2.0210793018341064, Validation Loss: 2.590907573699951\n",
            "Epoch 17/500, Training Loss: 1.9955297708511353, Validation Loss: 2.511932373046875\n",
            "Epoch 18/500, Training Loss: 1.9710803031921387, Validation Loss: 2.4397029876708984\n",
            "Epoch 19/500, Training Loss: 1.9480434656143188, Validation Loss: 2.3766469955444336\n",
            "Epoch 20/500, Training Loss: 1.9266784191131592, Validation Loss: 2.3251149654388428\n",
            "Epoch 21/500, Training Loss: 1.9071117639541626, Validation Loss: 2.2871508598327637\n",
            "Epoch 22/500, Training Loss: 1.8892576694488525, Validation Loss: 2.2641687393188477\n",
            "Epoch 23/500, Training Loss: 1.8727989196777344, Validation Loss: 2.2566003799438477\n",
            "Epoch 24/500, Training Loss: 1.8572916984558105, Validation Loss: 2.263702392578125\n",
            "Epoch 25/500, Training Loss: 1.8423978090286255, Validation Loss: 2.2836806774139404\n",
            "Epoch 26/500, Training Loss: 1.8281062841415405, Validation Loss: 2.3140316009521484\n",
            "Epoch 27/500, Training Loss: 1.8147677183151245, Validation Loss: 2.351862668991089\n",
            "Epoch 28/500, Training Loss: 1.8028969764709473, Validation Loss: 2.3940932750701904\n",
            "Epoch 29/500, Training Loss: 1.792862892150879, Validation Loss: 2.437687635421753\n",
            "Epoch 30/500, Training Loss: 1.7846566438674927, Validation Loss: 2.4800450801849365\n",
            "Epoch 31/500, Training Loss: 1.7778865098953247, Validation Loss: 2.5194578170776367\n",
            "Epoch 32/500, Training Loss: 1.7720104455947876, Validation Loss: 2.5553853511810303\n",
            "Epoch 33/500, Training Loss: 1.766645073890686, Validation Loss: 2.58837890625\n",
            "Epoch 34/500, Training Loss: 1.761753797531128, Validation Loss: 2.6196160316467285\n",
            "Epoch 35/500, Training Loss: 1.7575867176055908, Validation Loss: 2.650225877761841\n",
            "Epoch 36/500, Training Loss: 1.7544047832489014, Validation Loss: 2.680656671524048\n",
            "Epoch 37/500, Training Loss: 1.7521591186523438, Validation Loss: 2.710378408432007\n",
            "Epoch 38/500, Training Loss: 1.7503914833068848, Validation Loss: 2.7381436824798584\n",
            "Epoch 39/500, Training Loss: 1.7485334873199463, Validation Loss: 2.7626214027404785\n",
            "Epoch 40/500, Training Loss: 1.746375560760498, Validation Loss: 2.7827987670898438\n",
            "Epoch 41/500, Training Loss: 1.744168996810913, Validation Loss: 2.797794818878174\n",
            "Epoch 42/500, Training Loss: 1.742224931716919, Validation Loss: 2.8065459728240967\n",
            "Epoch 43/500, Training Loss: 1.7404841184616089, Validation Loss: 2.8080193996429443\n",
            "Epoch 44/500, Training Loss: 1.7385563850402832, Validation Loss: 2.8018441200256348\n",
            "Epoch 45/500, Training Loss: 1.736159086227417, Validation Loss: 2.788673162460327\n",
            "Epoch 46/500, Training Loss: 1.7334049940109253, Validation Loss: 2.7699670791625977\n",
            "Epoch 47/500, Training Loss: 1.730623483657837, Validation Loss: 2.747481107711792\n",
            "Epoch 48/500, Training Loss: 1.7279467582702637, Validation Loss: 2.722874641418457\n",
            "Epoch 49/500, Training Loss: 1.7251721620559692, Validation Loss: 2.6975460052490234\n",
            "Epoch 50/500, Training Loss: 1.7220864295959473, Validation Loss: 2.6724274158477783\n",
            "Epoch 51/500, Training Loss: 1.7188119888305664, Validation Loss: 2.6475653648376465\n",
            "Epoch 52/500, Training Loss: 1.715647578239441, Validation Loss: 2.6219396591186523\n",
            "Epoch 53/500, Training Loss: 1.7126693725585938, Validation Loss: 2.594154119491577\n",
            "Epoch 54/500, Training Loss: 1.7096970081329346, Validation Loss: 2.563636541366577\n",
            "Epoch 55/500, Training Loss: 1.7066339254379272, Validation Loss: 2.531317710876465\n",
            "Epoch 56/500, Training Loss: 1.7036306858062744, Validation Loss: 2.499335527420044\n",
            "Epoch 57/500, Training Loss: 1.7008538246154785, Validation Loss: 2.470116376876831\n",
            "Epoch 58/500, Training Loss: 1.6982415914535522, Validation Loss: 2.4453725814819336\n",
            "Epoch 59/500, Training Loss: 1.6956349611282349, Validation Loss: 2.4253647327423096\n",
            "Epoch 60/500, Training Loss: 1.6930514574050903, Validation Loss: 2.4086880683898926\n",
            "Epoch 61/500, Training Loss: 1.6906274557113647, Validation Loss: 2.392853021621704\n",
            "Epoch 62/500, Training Loss: 1.6883593797683716, Validation Loss: 2.375701904296875\n",
            "Epoch 63/500, Training Loss: 1.6861141920089722, Validation Loss: 2.3567872047424316\n",
            "Epoch 64/500, Training Loss: 1.6838563680648804, Validation Loss: 2.337651014328003\n",
            "Epoch 65/500, Training Loss: 1.6816737651824951, Validation Loss: 2.3208255767822266\n",
            "Epoch 66/500, Training Loss: 1.6795803308486938, Validation Loss: 2.3082938194274902\n",
            "Epoch 67/500, Training Loss: 1.6774756908416748, Validation Loss: 2.300326108932495\n",
            "Epoch 68/500, Training Loss: 1.6753240823745728, Validation Loss: 2.295261859893799\n",
            "Epoch 69/500, Training Loss: 1.6731948852539062, Validation Loss: 2.290386915206909\n",
            "Epoch 70/500, Training Loss: 1.6711000204086304, Validation Loss: 2.283576011657715\n",
            "Epoch 71/500, Training Loss: 1.668969988822937, Validation Loss: 2.2746663093566895\n",
            "Epoch 72/500, Training Loss: 1.6667954921722412, Validation Loss: 2.265467643737793\n",
            "Epoch 73/500, Training Loss: 1.6646348237991333, Validation Loss: 2.258404493331909\n",
            "Epoch 74/500, Training Loss: 1.6624850034713745, Validation Loss: 2.2548258304595947\n",
            "Epoch 75/500, Training Loss: 1.6602981090545654, Validation Loss: 2.2541184425354004\n",
            "Epoch 76/500, Training Loss: 1.6580939292907715, Validation Loss: 2.2541048526763916\n",
            "Epoch 77/500, Training Loss: 1.6559163331985474, Validation Loss: 2.2525136470794678\n",
            "Epoch 78/500, Training Loss: 1.6537452936172485, Validation Loss: 2.2485969066619873\n",
            "Epoch 79/500, Training Loss: 1.6515612602233887, Validation Loss: 2.2436046600341797\n",
            "Epoch 80/500, Training Loss: 1.6493995189666748, Validation Loss: 2.239683151245117\n",
            "Epoch 81/500, Training Loss: 1.6472702026367188, Validation Loss: 2.238152027130127\n",
            "Epoch 82/500, Training Loss: 1.6451455354690552, Validation Loss: 2.2385082244873047\n",
            "Epoch 83/500, Training Loss: 1.643035888671875, Validation Loss: 2.238823890686035\n",
            "Epoch 84/500, Training Loss: 1.6409635543823242, Validation Loss: 2.237248659133911\n",
            "Epoch 85/500, Training Loss: 1.6389120817184448, Validation Loss: 2.233502149581909\n",
            "Epoch 86/500, Training Loss: 1.6368727684020996, Validation Loss: 2.229008674621582\n",
            "Epoch 87/500, Training Loss: 1.6348649263381958, Validation Loss: 2.2255516052246094\n",
            "Epoch 88/500, Training Loss: 1.6328799724578857, Validation Loss: 2.2236976623535156\n",
            "Epoch 89/500, Training Loss: 1.6309036016464233, Validation Loss: 2.2223381996154785\n",
            "Epoch 90/500, Training Loss: 1.628949761390686, Validation Loss: 2.2196924686431885\n",
            "Epoch 91/500, Training Loss: 1.627016305923462, Validation Loss: 2.214942693710327\n",
            "Epoch 92/500, Training Loss: 1.6250903606414795, Validation Loss: 2.208977699279785\n",
            "Epoch 93/500, Training Loss: 1.6231811046600342, Validation Loss: 2.203477144241333\n",
            "Epoch 94/500, Training Loss: 1.6212892532348633, Validation Loss: 2.199281692504883\n",
            "Epoch 95/500, Training Loss: 1.6194044351577759, Validation Loss: 2.195646286010742\n",
            "Epoch 96/500, Training Loss: 1.61753511428833, Validation Loss: 2.1910436153411865\n",
            "Epoch 97/500, Training Loss: 1.6156829595565796, Validation Loss: 2.184772253036499\n",
            "Epoch 98/500, Training Loss: 1.6138412952423096, Validation Loss: 2.1776998043060303\n",
            "Epoch 99/500, Training Loss: 1.6120175123214722, Validation Loss: 2.1713335514068604\n",
            "Epoch 100/500, Training Loss: 1.6102122068405151, Validation Loss: 2.166252851486206\n",
            "Epoch 101/500, Training Loss: 1.6084213256835938, Validation Loss: 2.161574125289917\n",
            "Epoch 102/500, Training Loss: 1.6066513061523438, Validation Loss: 2.155998945236206\n",
            "Epoch 103/500, Training Loss: 1.6049013137817383, Validation Loss: 2.149306297302246\n",
            "Epoch 104/500, Training Loss: 1.603169560432434, Validation Loss: 2.142601728439331\n",
            "Epoch 105/500, Training Loss: 1.6014609336853027, Validation Loss: 2.1370344161987305\n",
            "Epoch 106/500, Training Loss: 1.5997719764709473, Validation Loss: 2.132514476776123\n",
            "Epoch 107/500, Training Loss: 1.5981040000915527, Validation Loss: 2.1278884410858154\n",
            "Epoch 108/500, Training Loss: 1.596458911895752, Validation Loss: 2.122352361679077\n",
            "Epoch 109/500, Training Loss: 1.594833493232727, Validation Loss: 2.116412878036499\n",
            "Epoch 110/500, Training Loss: 1.5932296514511108, Validation Loss: 2.111219882965088\n",
            "Epoch 111/500, Training Loss: 1.591647744178772, Validation Loss: 2.1071393489837646\n",
            "Epoch 112/500, Training Loss: 1.590085506439209, Validation Loss: 2.103336811065674\n",
            "Epoch 113/500, Training Loss: 1.588545322418213, Validation Loss: 2.098867416381836\n",
            "Epoch 114/500, Training Loss: 1.587025761604309, Validation Loss: 2.0938634872436523\n",
            "Epoch 115/500, Training Loss: 1.5855271816253662, Validation Loss: 2.0893027782440186\n",
            "Epoch 116/500, Training Loss: 1.5840502977371216, Validation Loss: 2.0856876373291016\n",
            "Epoch 117/500, Training Loss: 1.5825937986373901, Validation Loss: 2.082402467727661\n",
            "Epoch 118/500, Training Loss: 1.5811594724655151, Validation Loss: 2.0785629749298096\n",
            "Epoch 119/500, Training Loss: 1.5797466039657593, Validation Loss: 2.074195146560669\n",
            "Epoch 120/500, Training Loss: 1.5783549547195435, Validation Loss: 2.0701377391815186\n",
            "Epoch 121/500, Training Loss: 1.576985478401184, Validation Loss: 2.066835403442383\n",
            "Epoch 122/500, Training Loss: 1.5756374597549438, Validation Loss: 2.0637362003326416\n",
            "Epoch 123/500, Training Loss: 1.5743114948272705, Validation Loss: 2.060098886489868\n",
            "Epoch 124/500, Training Loss: 1.5730071067810059, Validation Loss: 2.056036949157715\n",
            "Epoch 125/500, Training Loss: 1.5717239379882812, Validation Loss: 2.052300453186035\n",
            "Epoch 126/500, Training Loss: 1.5704623460769653, Validation Loss: 2.049154043197632\n",
            "Epoch 127/500, Training Loss: 1.5692216157913208, Validation Loss: 2.046015739440918\n",
            "Epoch 128/500, Training Loss: 1.568002462387085, Validation Loss: 2.0423543453216553\n",
            "Epoch 129/500, Training Loss: 1.5668034553527832, Validation Loss: 2.038478136062622\n",
            "Epoch 130/500, Training Loss: 1.5656251907348633, Validation Loss: 2.0350234508514404\n",
            "Epoch 131/500, Training Loss: 1.5644673109054565, Validation Loss: 2.0319790840148926\n",
            "Epoch 132/500, Training Loss: 1.5633292198181152, Validation Loss: 2.02874755859375\n",
            "Epoch 133/500, Training Loss: 1.5622111558914185, Validation Loss: 2.0251052379608154\n",
            "Epoch 134/500, Training Loss: 1.561112642288208, Validation Loss: 2.021538019180298\n",
            "Epoch 135/500, Training Loss: 1.5600340366363525, Validation Loss: 2.018444776535034\n",
            "Epoch 136/500, Training Loss: 1.5589748620986938, Validation Loss: 2.0155179500579834\n",
            "Epoch 137/500, Training Loss: 1.5579347610473633, Validation Loss: 2.012286424636841\n",
            "Epoch 138/500, Training Loss: 1.5569137334823608, Validation Loss: 2.0088932514190674\n",
            "Epoch 139/500, Training Loss: 1.555911660194397, Validation Loss: 2.0058319568634033\n",
            "Epoch 140/500, Training Loss: 1.5549284219741821, Validation Loss: 2.0031211376190186\n",
            "Epoch 141/500, Training Loss: 1.5539636611938477, Validation Loss: 2.000309467315674\n",
            "Epoch 142/500, Training Loss: 1.5530173778533936, Validation Loss: 1.9972575902938843\n",
            "Epoch 143/500, Training Loss: 1.5520890951156616, Validation Loss: 1.9943571090698242\n",
            "Epoch 144/500, Training Loss: 1.5511785745620728, Validation Loss: 1.9918334484100342\n",
            "Epoch 145/500, Training Loss: 1.550285816192627, Validation Loss: 1.989372968673706\n",
            "Epoch 146/500, Training Loss: 1.5494102239608765, Validation Loss: 1.9866938591003418\n",
            "Epoch 147/500, Training Loss: 1.5485517978668213, Validation Loss: 1.98403000831604\n",
            "Epoch 148/500, Training Loss: 1.5477107763290405, Validation Loss: 1.9816884994506836\n",
            "Epoch 149/500, Training Loss: 1.5468857288360596, Validation Loss: 1.9795005321502686\n",
            "Epoch 150/500, Training Loss: 1.5460772514343262, Validation Loss: 1.9771472215652466\n",
            "Epoch 151/500, Training Loss: 1.5452849864959717, Validation Loss: 1.974737524986267\n",
            "Epoch 152/500, Training Loss: 1.5445088148117065, Validation Loss: 1.9725784063339233\n",
            "Epoch 153/500, Training Loss: 1.5437480211257935, Validation Loss: 1.9706040620803833\n",
            "Epoch 154/500, Training Loss: 1.543002724647522, Validation Loss: 1.9685173034667969\n",
            "Epoch 155/500, Training Loss: 1.542272925376892, Validation Loss: 1.9663490056991577\n",
            "Epoch 156/500, Training Loss: 1.5415576696395874, Validation Loss: 1.9643762111663818\n",
            "Epoch 157/500, Training Loss: 1.5408574342727661, Validation Loss: 1.9625874757766724\n",
            "Epoch 158/500, Training Loss: 1.540171504020691, Validation Loss: 1.9607242345809937\n",
            "Epoch 159/500, Training Loss: 1.5394997596740723, Validation Loss: 1.9587838649749756\n",
            "Epoch 160/500, Training Loss: 1.538841962814331, Validation Loss: 1.9570050239562988\n",
            "Epoch 161/500, Training Loss: 1.5381979942321777, Validation Loss: 1.955397367477417\n",
            "Epoch 162/500, Training Loss: 1.5375672578811646, Validation Loss: 1.9537369012832642\n",
            "Epoch 163/500, Training Loss: 1.536949872970581, Validation Loss: 1.9520158767700195\n",
            "Epoch 164/500, Training Loss: 1.5363454818725586, Validation Loss: 1.9504438638687134\n",
            "Epoch 165/500, Training Loss: 1.5357537269592285, Validation Loss: 1.9490196704864502\n",
            "Epoch 166/500, Training Loss: 1.53517484664917, Validation Loss: 1.9475491046905518\n",
            "Epoch 167/500, Training Loss: 1.5346081256866455, Validation Loss: 1.9460445642471313\n",
            "Epoch 168/500, Training Loss: 1.5340534448623657, Validation Loss: 1.944682002067566\n",
            "Epoch 169/500, Training Loss: 1.5335109233856201, Validation Loss: 1.9434380531311035\n",
            "Epoch 170/500, Training Loss: 1.5329797267913818, Validation Loss: 1.9421484470367432\n",
            "Epoch 171/500, Training Loss: 1.5324597358703613, Validation Loss: 1.9408509731292725\n",
            "Epoch 172/500, Training Loss: 1.5319515466690063, Validation Loss: 1.9396908283233643\n",
            "Epoch 173/500, Training Loss: 1.5314537286758423, Validation Loss: 1.9386131763458252\n",
            "Epoch 174/500, Training Loss: 1.530967354774475, Validation Loss: 1.9374879598617554\n",
            "Epoch 175/500, Training Loss: 1.5304912328720093, Validation Loss: 1.936385154724121\n",
            "Epoch 176/500, Training Loss: 1.5300254821777344, Validation Loss: 1.935410737991333\n",
            "Epoch 177/500, Training Loss: 1.5295698642730713, Validation Loss: 1.9344788789749146\n",
            "Epoch 178/500, Training Loss: 1.5291246175765991, Validation Loss: 1.9335061311721802\n",
            "Epoch 179/500, Training Loss: 1.528688669204712, Validation Loss: 1.9325857162475586\n",
            "Epoch 180/500, Training Loss: 1.528262734413147, Validation Loss: 1.9317753314971924\n",
            "Epoch 181/500, Training Loss: 1.527846097946167, Validation Loss: 1.9309719800949097\n",
            "Epoch 182/500, Training Loss: 1.5274385213851929, Validation Loss: 1.9301459789276123\n",
            "Epoch 183/500, Training Loss: 1.5270402431488037, Validation Loss: 1.9293999671936035\n",
            "Epoch 184/500, Training Loss: 1.5266505479812622, Validation Loss: 1.9287307262420654\n",
            "Epoch 185/500, Training Loss: 1.526269793510437, Validation Loss: 1.928047776222229\n",
            "Epoch 186/500, Training Loss: 1.5258973836898804, Validation Loss: 1.9273730516433716\n",
            "Epoch 187/500, Training Loss: 1.5255337953567505, Validation Loss: 1.9267879724502563\n",
            "Epoch 188/500, Training Loss: 1.5251775979995728, Validation Loss: 1.9262440204620361\n",
            "Epoch 189/500, Training Loss: 1.5248299837112427, Validation Loss: 1.9256800413131714\n",
            "Epoch 190/500, Training Loss: 1.5244899988174438, Validation Loss: 1.9251595735549927\n",
            "Epoch 191/500, Training Loss: 1.5241578817367554, Validation Loss: 1.9247186183929443\n",
            "Epoch 192/500, Training Loss: 1.5238330364227295, Validation Loss: 1.9242830276489258\n",
            "Epoch 193/500, Training Loss: 1.5235154628753662, Validation Loss: 1.923843264579773\n",
            "Epoch 194/500, Training Loss: 1.5232053995132446, Validation Loss: 1.9234721660614014\n",
            "Epoch 195/500, Training Loss: 1.522902011871338, Validation Loss: 1.9231481552124023\n",
            "Epoch 196/500, Training Loss: 1.5226058959960938, Validation Loss: 1.9228100776672363\n",
            "Epoch 197/500, Training Loss: 1.5223164558410645, Validation Loss: 1.922499418258667\n",
            "Epoch 198/500, Training Loss: 1.52203369140625, Validation Loss: 1.9222558736801147\n",
            "Epoch 199/500, Training Loss: 1.5217574834823608, Validation Loss: 1.9220216274261475\n",
            "Epoch 200/500, Training Loss: 1.5214872360229492, Validation Loss: 1.9217811822891235\n",
            "Epoch 201/500, Training Loss: 1.521223545074463, Validation Loss: 1.9215953350067139\n",
            "Epoch 202/500, Training Loss: 1.5209659337997437, Validation Loss: 1.921445369720459\n",
            "Epoch 203/500, Training Loss: 1.520714282989502, Validation Loss: 1.921286940574646\n",
            "Epoch 204/500, Training Loss: 1.5204684734344482, Validation Loss: 1.9211517572402954\n",
            "Epoch 205/500, Training Loss: 1.5202281475067139, Validation Loss: 1.9210659265518188\n",
            "Epoch 206/500, Training Loss: 1.5199934244155884, Validation Loss: 1.9209866523742676\n",
            "Epoch 207/500, Training Loss: 1.5197645425796509, Validation Loss: 1.920908808708191\n",
            "Epoch 208/500, Training Loss: 1.5195406675338745, Validation Loss: 1.9208741188049316\n",
            "Epoch 209/500, Training Loss: 1.5193219184875488, Validation Loss: 1.920863151550293\n",
            "Epoch 210/500, Training Loss: 1.519108772277832, Validation Loss: 1.9208484888076782\n",
            "Epoch 211/500, Training Loss: 1.5189000368118286, Validation Loss: 1.9208608865737915\n",
            "Epoch 212/500, Training Loss: 1.5186965465545654, Validation Loss: 1.9209080934524536\n",
            "Epoch 213/500, Training Loss: 1.5184979438781738, Validation Loss: 1.9209579229354858\n",
            "Epoch 214/500, Training Loss: 1.5183038711547852, Validation Loss: 1.9210165739059448\n",
            "Epoch 215/500, Training Loss: 1.5181143283843994, Validation Loss: 1.9211126565933228\n",
            "Epoch 216/500, Training Loss: 1.5179294347763062, Validation Loss: 1.9212225675582886\n",
            "Epoch 217/500, Training Loss: 1.5177487134933472, Validation Loss: 1.9213309288024902\n",
            "Epoch 218/500, Training Loss: 1.517572283744812, Validation Loss: 1.9214694499969482\n",
            "Epoch 219/500, Training Loss: 1.5174002647399902, Validation Loss: 1.9216307401657104\n",
            "Epoch 220/500, Training Loss: 1.5172319412231445, Validation Loss: 1.921788215637207\n",
            "Epoch 221/500, Training Loss: 1.5170683860778809, Validation Loss: 1.9219647645950317\n",
            "Epoch 222/500, Training Loss: 1.5169079303741455, Validation Loss: 1.9221686124801636\n",
            "Epoch 223/500, Training Loss: 1.5167515277862549, Validation Loss: 1.9223726987838745\n",
            "Epoch 224/500, Training Loss: 1.5165988206863403, Validation Loss: 1.9225835800170898\n",
            "Epoch 225/500, Training Loss: 1.5164499282836914, Validation Loss: 1.9228233098983765\n",
            "Epoch 226/500, Training Loss: 1.5163047313690186, Validation Loss: 1.9230678081512451\n",
            "Epoch 227/500, Training Loss: 1.5161627531051636, Validation Loss: 1.9233108758926392\n",
            "Epoch 228/500, Training Loss: 1.5160243511199951, Validation Loss: 1.9235813617706299\n",
            "Epoch 229/500, Training Loss: 1.515889286994934, Validation Loss: 1.923858642578125\n",
            "Epoch 230/500, Training Loss: 1.515757441520691, Validation Loss: 1.9241328239440918\n",
            "Epoch 231/500, Training Loss: 1.5156288146972656, Validation Loss: 1.9244301319122314\n",
            "Epoch 232/500, Training Loss: 1.5155030488967896, Validation Loss: 1.9247361421585083\n",
            "Epoch 233/500, Training Loss: 1.5153805017471313, Validation Loss: 1.9250385761260986\n",
            "Epoch 234/500, Training Loss: 1.515261173248291, Validation Loss: 1.9253579378128052\n",
            "Epoch 235/500, Training Loss: 1.5151444673538208, Validation Loss: 1.9256924390792847\n",
            "Epoch 236/500, Training Loss: 1.515030860900879, Validation Loss: 1.926018238067627\n",
            "Epoch 237/500, Training Loss: 1.514919638633728, Validation Loss: 1.9263595342636108\n",
            "Epoch 238/500, Training Loss: 1.5148110389709473, Validation Loss: 1.926716923713684\n",
            "Epoch 239/500, Training Loss: 1.5147053003311157, Validation Loss: 1.9270657300949097\n",
            "Epoch 240/500, Training Loss: 1.5146023035049438, Validation Loss: 1.9274280071258545\n",
            "Epoch 241/500, Training Loss: 1.5145013332366943, Validation Loss: 1.9278029203414917\n",
            "Epoch 242/500, Training Loss: 1.5144035816192627, Validation Loss: 1.9281742572784424\n",
            "Epoch 243/500, Training Loss: 1.5143077373504639, Validation Loss: 1.9285529851913452\n",
            "Epoch 244/500, Training Loss: 1.514214277267456, Validation Loss: 1.9289439916610718\n",
            "Epoch 245/500, Training Loss: 1.5141229629516602, Validation Loss: 1.929335117340088\n",
            "Epoch 246/500, Training Loss: 1.5140342712402344, Validation Loss: 1.9297266006469727\n",
            "Epoch 247/500, Training Loss: 1.5139474868774414, Validation Loss: 1.9301334619522095\n",
            "Epoch 248/500, Training Loss: 1.5138626098632812, Validation Loss: 1.9305381774902344\n",
            "Epoch 249/500, Training Loss: 1.513779878616333, Validation Loss: 1.930942416191101\n",
            "Epoch 250/500, Training Loss: 1.5136995315551758, Validation Loss: 1.9313604831695557\n",
            "Epoch 251/500, Training Loss: 1.5136208534240723, Validation Loss: 1.9317761659622192\n",
            "Epoch 252/500, Training Loss: 1.5135442018508911, Validation Loss: 1.9321908950805664\n",
            "Epoch 253/500, Training Loss: 1.5134695768356323, Validation Loss: 1.9326176643371582\n",
            "Epoch 254/500, Training Loss: 1.5133965015411377, Validation Loss: 1.9330421686172485\n",
            "Epoch 255/500, Training Loss: 1.5133252143859863, Validation Loss: 1.9334650039672852\n",
            "Epoch 256/500, Training Loss: 1.5132557153701782, Validation Loss: 1.9338971376419067\n",
            "Epoch 257/500, Training Loss: 1.513188123703003, Validation Loss: 1.9343301057815552\n",
            "Epoch 258/500, Training Loss: 1.5131218433380127, Validation Loss: 1.934759259223938\n",
            "Epoch 259/500, Training Loss: 1.5130577087402344, Validation Loss: 1.9351965188980103\n",
            "Epoch 260/500, Training Loss: 1.512994647026062, Validation Loss: 1.935633897781372\n",
            "Epoch 261/500, Training Loss: 1.5129332542419434, Validation Loss: 1.936068058013916\n",
            "Epoch 262/500, Training Loss: 1.5128731727600098, Validation Loss: 1.9365088939666748\n",
            "Epoch 263/500, Training Loss: 1.512814998626709, Validation Loss: 1.936949610710144\n",
            "Epoch 264/500, Training Loss: 1.5127578973770142, Validation Loss: 1.9373881816864014\n",
            "Epoch 265/500, Training Loss: 1.5127019882202148, Validation Loss: 1.9378308057785034\n",
            "Epoch 266/500, Training Loss: 1.5126478672027588, Validation Loss: 1.9382736682891846\n",
            "Epoch 267/500, Training Loss: 1.5125949382781982, Validation Loss: 1.9387158155441284\n",
            "Epoch 268/500, Training Loss: 1.5125432014465332, Validation Loss: 1.9391562938690186\n",
            "Epoch 269/500, Training Loss: 1.5124926567077637, Validation Loss: 1.9396029710769653\n",
            "Epoch 270/500, Training Loss: 1.5124435424804688, Validation Loss: 1.9400429725646973\n",
            "Epoch 271/500, Training Loss: 1.5123953819274902, Validation Loss: 1.9404857158660889\n",
            "Epoch 272/500, Training Loss: 1.5123486518859863, Validation Loss: 1.9409295320510864\n",
            "Epoch 273/500, Training Loss: 1.5123027563095093, Validation Loss: 1.9413690567016602\n",
            "Epoch 274/500, Training Loss: 1.5122578144073486, Validation Loss: 1.9418102502822876\n",
            "Epoch 275/500, Training Loss: 1.512214183807373, Validation Loss: 1.9422513246536255\n",
            "Epoch 276/500, Training Loss: 1.5121716260910034, Validation Loss: 1.9426896572113037\n",
            "Epoch 277/500, Training Loss: 1.512129783630371, Validation Loss: 1.9431265592575073\n",
            "Epoch 278/500, Training Loss: 1.5120892524719238, Validation Loss: 1.9435663223266602\n",
            "Epoch 279/500, Training Loss: 1.5120495557785034, Validation Loss: 1.9439979791641235\n",
            "Epoch 280/500, Training Loss: 1.5120108127593994, Validation Loss: 1.944434642791748\n",
            "Epoch 281/500, Training Loss: 1.5119727849960327, Validation Loss: 1.944868803024292\n",
            "Epoch 282/500, Training Loss: 1.5119357109069824, Validation Loss: 1.945295810699463\n",
            "Epoch 283/500, Training Loss: 1.5118995904922485, Validation Loss: 1.9457290172576904\n",
            "Epoch 284/500, Training Loss: 1.5118643045425415, Validation Loss: 1.9461578130722046\n",
            "Epoch 285/500, Training Loss: 1.5118297338485718, Validation Loss: 1.9465786218643188\n",
            "Epoch 286/500, Training Loss: 1.511795997619629, Validation Loss: 1.9470086097717285\n",
            "Epoch 287/500, Training Loss: 1.5117627382278442, Validation Loss: 1.9474307298660278\n",
            "Epoch 288/500, Training Loss: 1.5117305517196655, Validation Loss: 1.9478466510772705\n",
            "Epoch 289/500, Training Loss: 1.5116989612579346, Validation Loss: 1.9482700824737549\n",
            "Epoch 290/500, Training Loss: 1.511668086051941, Validation Loss: 1.9486843347549438\n",
            "Epoch 291/500, Training Loss: 1.5116376876831055, Validation Loss: 1.9490982294082642\n",
            "Epoch 292/500, Training Loss: 1.5116081237792969, Validation Loss: 1.9495124816894531\n",
            "Epoch 293/500, Training Loss: 1.5115792751312256, Validation Loss: 1.949918508529663\n",
            "Epoch 294/500, Training Loss: 1.5115505456924438, Validation Loss: 1.9503273963928223\n",
            "Epoch 295/500, Training Loss: 1.5115231275558472, Validation Loss: 1.950734257698059\n",
            "Epoch 296/500, Training Loss: 1.5114957094192505, Validation Loss: 1.9511315822601318\n",
            "Epoch 297/500, Training Loss: 1.5114693641662598, Validation Loss: 1.9515354633331299\n",
            "Epoch 298/500, Training Loss: 1.5114433765411377, Validation Loss: 1.951932430267334\n",
            "Epoch 299/500, Training Loss: 1.5114177465438843, Validation Loss: 1.9523229598999023\n",
            "Epoch 300/500, Training Loss: 1.5113924741744995, Validation Loss: 1.9527184963226318\n",
            "Epoch 301/500, Training Loss: 1.5113681554794312, Validation Loss: 1.95310640335083\n",
            "Epoch 302/500, Training Loss: 1.5113439559936523, Validation Loss: 1.9534913301467896\n",
            "Epoch 303/500, Training Loss: 1.5113199949264526, Validation Loss: 1.9538769721984863\n",
            "Epoch 304/500, Training Loss: 1.511297345161438, Validation Loss: 1.9542558193206787\n",
            "Epoch 305/500, Training Loss: 1.5112745761871338, Validation Loss: 1.954634428024292\n",
            "Epoch 306/500, Training Loss: 1.5112519264221191, Validation Loss: 1.95500910282135\n",
            "Epoch 307/500, Training Loss: 1.5112301111221313, Validation Loss: 1.9553805589675903\n",
            "Epoch 308/500, Training Loss: 1.5112082958221436, Validation Loss: 1.955751895904541\n",
            "Epoch 309/500, Training Loss: 1.5111874341964722, Validation Loss: 1.9561145305633545\n",
            "Epoch 310/500, Training Loss: 1.5111665725708008, Validation Loss: 1.95648193359375\n",
            "Epoch 311/500, Training Loss: 1.511146068572998, Validation Loss: 1.9568384885787964\n",
            "Epoch 312/500, Training Loss: 1.5111260414123535, Validation Loss: 1.9571967124938965\n",
            "Epoch 313/500, Training Loss: 1.5111061334609985, Validation Loss: 1.9575529098510742\n",
            "Epoch 314/500, Training Loss: 1.5110867023468018, Validation Loss: 1.957900047302246\n",
            "Epoch 315/500, Training Loss: 1.511067509651184, Validation Loss: 1.9582531452178955\n",
            "Epoch 316/500, Training Loss: 1.5110487937927246, Validation Loss: 1.9585931301116943\n",
            "Epoch 317/500, Training Loss: 1.5110303163528442, Validation Loss: 1.958937406539917\n",
            "Epoch 318/500, Training Loss: 1.5110118389129639, Validation Loss: 1.9592784643173218\n",
            "Epoch 319/500, Training Loss: 1.5109939575195312, Validation Loss: 1.959609866142273\n",
            "Epoch 320/500, Training Loss: 1.5109755992889404, Validation Loss: 1.9599453210830688\n",
            "Epoch 321/500, Training Loss: 1.510958194732666, Validation Loss: 1.9602766036987305\n",
            "Epoch 322/500, Training Loss: 1.5109411478042603, Validation Loss: 1.9605969190597534\n",
            "Epoch 323/500, Training Loss: 1.5109237432479858, Validation Loss: 1.9609280824661255\n",
            "Epoch 324/500, Training Loss: 1.5109069347381592, Validation Loss: 1.9612433910369873\n",
            "Epoch 325/500, Training Loss: 1.510890245437622, Validation Loss: 1.9615613222122192\n",
            "Epoch 326/500, Training Loss: 1.5108736753463745, Validation Loss: 1.9618782997131348\n",
            "Epoch 327/500, Training Loss: 1.5108572244644165, Validation Loss: 1.962186574935913\n",
            "Epoch 328/500, Training Loss: 1.5108410120010376, Validation Loss: 1.9624943733215332\n",
            "Epoch 329/500, Training Loss: 1.5108253955841064, Validation Loss: 1.962803840637207\n",
            "Epoch 330/500, Training Loss: 1.510809302330017, Validation Loss: 1.963099718093872\n",
            "Epoch 331/500, Training Loss: 1.5107935667037964, Validation Loss: 1.9634003639221191\n",
            "Epoch 332/500, Training Loss: 1.5107781887054443, Validation Loss: 1.9637013673782349\n",
            "Epoch 333/500, Training Loss: 1.5107629299163818, Validation Loss: 1.9639850854873657\n",
            "Epoch 334/500, Training Loss: 1.5107476711273193, Validation Loss: 1.9642826318740845\n",
            "Epoch 335/500, Training Loss: 1.5107324123382568, Validation Loss: 1.9645670652389526\n",
            "Epoch 336/500, Training Loss: 1.5107172727584839, Validation Loss: 1.9648470878601074\n",
            "Epoch 337/500, Training Loss: 1.5107024908065796, Validation Loss: 1.9651358127593994\n",
            "Epoch 338/500, Training Loss: 1.5106877088546753, Validation Loss: 1.9654059410095215\n",
            "Epoch 339/500, Training Loss: 1.5106730461120605, Validation Loss: 1.9656857252120972\n",
            "Epoch 340/500, Training Loss: 1.5106583833694458, Validation Loss: 1.9659560918807983\n",
            "Epoch 341/500, Training Loss: 1.5106439590454102, Validation Loss: 1.9662243127822876\n",
            "Epoch 342/500, Training Loss: 1.510629415512085, Validation Loss: 1.9664934873580933\n",
            "Epoch 343/500, Training Loss: 1.5106151103973389, Validation Loss: 1.966752052307129\n",
            "Epoch 344/500, Training Loss: 1.5106006860733032, Validation Loss: 1.9670188426971436\n",
            "Epoch 345/500, Training Loss: 1.5105865001678467, Validation Loss: 1.9672693014144897\n",
            "Epoch 346/500, Training Loss: 1.5105721950531006, Validation Loss: 1.9675291776657104\n",
            "Epoch 347/500, Training Loss: 1.5105583667755127, Validation Loss: 1.967779278755188\n",
            "Epoch 348/500, Training Loss: 1.5105443000793457, Validation Loss: 1.968027949333191\n",
            "Epoch 349/500, Training Loss: 1.5105301141738892, Validation Loss: 1.968278169631958\n",
            "Epoch 350/500, Training Loss: 1.5105160474777222, Validation Loss: 1.9685152769088745\n",
            "Epoch 351/500, Training Loss: 1.5105018615722656, Validation Loss: 1.9687649011611938\n",
            "Epoch 352/500, Training Loss: 1.5104880332946777, Validation Loss: 1.9689950942993164\n",
            "Epoch 353/500, Training Loss: 1.5104742050170898, Validation Loss: 1.969236135482788\n",
            "Epoch 354/500, Training Loss: 1.5104604959487915, Validation Loss: 1.9694697856903076\n",
            "Epoch 355/500, Training Loss: 1.510446310043335, Validation Loss: 1.9696929454803467\n",
            "Epoch 356/500, Training Loss: 1.510432481765747, Validation Loss: 1.9699320793151855\n",
            "Epoch 357/500, Training Loss: 1.5104186534881592, Validation Loss: 1.9701461791992188\n",
            "Epoch 358/500, Training Loss: 1.5104047060012817, Validation Loss: 1.9703781604766846\n",
            "Epoch 359/500, Training Loss: 1.5103908777236938, Validation Loss: 1.9705932140350342\n",
            "Epoch 360/500, Training Loss: 1.510377049446106, Validation Loss: 1.9708106517791748\n",
            "Epoch 361/500, Training Loss: 1.5103631019592285, Validation Loss: 1.9710302352905273\n",
            "Epoch 362/500, Training Loss: 1.5103492736816406, Validation Loss: 1.9712367057800293\n",
            "Epoch 363/500, Training Loss: 1.5103354454040527, Validation Loss: 1.9714529514312744\n",
            "Epoch 364/500, Training Loss: 1.5103213787078857, Validation Loss: 1.9716569185256958\n",
            "Epoch 365/500, Training Loss: 1.5103074312210083, Validation Loss: 1.9718650579452515\n",
            "Epoch 366/500, Training Loss: 1.5102932453155518, Validation Loss: 1.9720678329467773\n",
            "Epoch 367/500, Training Loss: 1.5102794170379639, Validation Loss: 1.9722672700881958\n",
            "Epoch 368/500, Training Loss: 1.5102652311325073, Validation Loss: 1.9724704027175903\n",
            "Epoch 369/500, Training Loss: 1.5102511644363403, Validation Loss: 1.972660779953003\n",
            "Epoch 370/500, Training Loss: 1.5102370977401733, Validation Loss: 1.9728610515594482\n",
            "Epoch 371/500, Training Loss: 1.5102227926254272, Validation Loss: 1.9730503559112549\n",
            "Epoch 372/500, Training Loss: 1.5102087259292603, Validation Loss: 1.9732388257980347\n",
            "Epoch 373/500, Training Loss: 1.5101944208145142, Validation Loss: 1.9734312295913696\n",
            "Epoch 374/500, Training Loss: 1.5101799964904785, Validation Loss: 1.973610520362854\n",
            "Epoch 375/500, Training Loss: 1.5101654529571533, Validation Loss: 1.9738003015518188\n",
            "Epoch 376/500, Training Loss: 1.5101510286331177, Validation Loss: 1.9739792346954346\n",
            "Epoch 377/500, Training Loss: 1.5101367235183716, Validation Loss: 1.974157452583313\n",
            "Epoch 378/500, Training Loss: 1.5101220607757568, Validation Loss: 1.974339246749878\n",
            "Epoch 379/500, Training Loss: 1.510107398033142, Validation Loss: 1.9745097160339355\n",
            "Epoch 380/500, Training Loss: 1.5100926160812378, Validation Loss: 1.9746880531311035\n",
            "Epoch 381/500, Training Loss: 1.510077953338623, Validation Loss: 1.974858045578003\n",
            "Epoch 382/500, Training Loss: 1.5100630521774292, Validation Loss: 1.9750263690948486\n",
            "Epoch 383/500, Training Loss: 1.5100480318069458, Validation Loss: 1.9751989841461182\n",
            "Epoch 384/500, Training Loss: 1.510033130645752, Validation Loss: 1.9753581285476685\n",
            "Epoch 385/500, Training Loss: 1.510017991065979, Validation Loss: 1.975530743598938\n",
            "Epoch 386/500, Training Loss: 1.5100027322769165, Validation Loss: 1.9756863117218018\n",
            "Epoch 387/500, Training Loss: 1.509987473487854, Validation Loss: 1.9758517742156982\n",
            "Epoch 388/500, Training Loss: 1.509972095489502, Validation Loss: 1.9760100841522217\n",
            "Epoch 389/500, Training Loss: 1.50995671749115, Validation Loss: 1.9761658906936646\n",
            "Epoch 390/500, Training Loss: 1.5099411010742188, Validation Loss: 1.976324439048767\n",
            "Epoch 391/500, Training Loss: 1.509925365447998, Validation Loss: 1.9764764308929443\n",
            "Epoch 392/500, Training Loss: 1.5099098682403564, Validation Loss: 1.97663152217865\n",
            "Epoch 393/500, Training Loss: 1.5098938941955566, Validation Loss: 1.976780652999878\n",
            "Epoch 394/500, Training Loss: 1.5098780393600464, Validation Loss: 1.9769315719604492\n",
            "Epoch 395/500, Training Loss: 1.5098620653152466, Validation Loss: 1.9770797491073608\n",
            "Epoch 396/500, Training Loss: 1.5098457336425781, Validation Loss: 1.9772262573242188\n",
            "Epoch 397/500, Training Loss: 1.5098297595977783, Validation Loss: 1.9773708581924438\n",
            "Epoch 398/500, Training Loss: 1.5098129510879517, Validation Loss: 1.9775149822235107\n",
            "Epoch 399/500, Training Loss: 1.5097966194152832, Validation Loss: 1.9776593446731567\n",
            "Epoch 400/500, Training Loss: 1.5097801685333252, Validation Loss: 1.9777952432632446\n",
            "Epoch 401/500, Training Loss: 1.509763479232788, Validation Loss: 1.9779422283172607\n",
            "Epoch 402/500, Training Loss: 1.5097465515136719, Validation Loss: 1.978071689605713\n",
            "Epoch 403/500, Training Loss: 1.5097296237945557, Validation Loss: 1.9782181978225708\n",
            "Epoch 404/500, Training Loss: 1.5097126960754395, Validation Loss: 1.9783483743667603\n",
            "Epoch 405/500, Training Loss: 1.5096951723098755, Validation Loss: 1.9784830808639526\n",
            "Epoch 406/500, Training Loss: 1.5096778869628906, Validation Loss: 1.9786220788955688\n",
            "Epoch 407/500, Training Loss: 1.5096604824066162, Validation Loss: 1.978745698928833\n",
            "Epoch 408/500, Training Loss: 1.5096429586410522, Validation Loss: 1.9788861274719238\n",
            "Epoch 409/500, Training Loss: 1.5096251964569092, Validation Loss: 1.9790089130401611\n",
            "Epoch 410/500, Training Loss: 1.509607195854187, Validation Loss: 1.9791432619094849\n",
            "Epoch 411/500, Training Loss: 1.509589433670044, Validation Loss: 1.9792680740356445\n",
            "Epoch 412/500, Training Loss: 1.5095711946487427, Validation Loss: 1.9793962240219116\n",
            "Epoch 413/500, Training Loss: 1.509553074836731, Validation Loss: 1.9795238971710205\n",
            "Epoch 414/500, Training Loss: 1.5095345973968506, Validation Loss: 1.9796446561813354\n",
            "Epoch 415/500, Training Loss: 1.5095160007476807, Validation Loss: 1.979774832725525\n",
            "Epoch 416/500, Training Loss: 1.5094971656799316, Validation Loss: 1.9798898696899414\n",
            "Epoch 417/500, Training Loss: 1.5094785690307617, Validation Loss: 1.9800219535827637\n",
            "Epoch 418/500, Training Loss: 1.5094597339630127, Validation Loss: 1.9801324605941772\n",
            "Epoch 419/500, Training Loss: 1.509440302848816, Validation Loss: 1.9802645444869995\n",
            "Epoch 420/500, Training Loss: 1.5094211101531982, Validation Loss: 1.980372667312622\n",
            "Epoch 421/500, Training Loss: 1.509401559829712, Validation Loss: 1.9805015325546265\n",
            "Epoch 422/500, Training Loss: 1.5093821287155151, Validation Loss: 1.9806127548217773\n",
            "Epoch 423/500, Training Loss: 1.5093622207641602, Validation Loss: 1.9807348251342773\n",
            "Epoch 424/500, Training Loss: 1.5093423128128052, Validation Loss: 1.9808485507965088\n",
            "Epoch 425/500, Training Loss: 1.5093225240707397, Validation Loss: 1.9809666872024536\n",
            "Epoch 426/500, Training Loss: 1.5093022584915161, Validation Loss: 1.9810802936553955\n",
            "Epoch 427/500, Training Loss: 1.509281873703003, Validation Loss: 1.981197476387024\n",
            "Epoch 428/500, Training Loss: 1.509261131286621, Validation Loss: 1.981309175491333\n",
            "Epoch 429/500, Training Loss: 1.5092406272888184, Validation Loss: 1.9814265966415405\n",
            "Epoch 430/500, Training Loss: 1.5092195272445679, Validation Loss: 1.9815351963043213\n",
            "Epoch 431/500, Training Loss: 1.5091984272003174, Validation Loss: 1.9816550016403198\n",
            "Epoch 432/500, Training Loss: 1.5091772079467773, Validation Loss: 1.9817577600479126\n",
            "Epoch 433/500, Training Loss: 1.5091558694839478, Validation Loss: 1.9818813800811768\n",
            "Epoch 434/500, Training Loss: 1.5091345310211182, Validation Loss: 1.9819800853729248\n",
            "Epoch 435/500, Training Loss: 1.5091125965118408, Validation Loss: 1.9821035861968994\n",
            "Epoch 436/500, Training Loss: 1.5090904235839844, Validation Loss: 1.9822033643722534\n",
            "Epoch 437/500, Training Loss: 1.509068489074707, Validation Loss: 1.982322335243225\n",
            "Epoch 438/500, Training Loss: 1.5090460777282715, Validation Loss: 1.982425332069397\n",
            "Epoch 439/500, Training Loss: 1.5090234279632568, Validation Loss: 1.9825401306152344\n",
            "Epoch 440/500, Training Loss: 1.5090008974075317, Validation Loss: 1.9826465845108032\n",
            "Epoch 441/500, Training Loss: 1.5089781284332275, Validation Loss: 1.9827548265457153\n",
            "Epoch 442/500, Training Loss: 1.5089551210403442, Validation Loss: 1.9828702211380005\n",
            "Epoch 443/500, Training Loss: 1.5089318752288818, Validation Loss: 1.982967495918274\n",
            "Epoch 444/500, Training Loss: 1.5089082717895508, Validation Loss: 1.983090877532959\n",
            "Epoch 445/500, Training Loss: 1.5088847875595093, Validation Loss: 1.9831827878952026\n",
            "Epoch 446/500, Training Loss: 1.5088608264923096, Validation Loss: 1.9833084344863892\n",
            "Epoch 447/500, Training Loss: 1.5088369846343994, Validation Loss: 1.9833999872207642\n",
            "Epoch 448/500, Training Loss: 1.5088125467300415, Validation Loss: 1.983524203300476\n",
            "Epoch 449/500, Training Loss: 1.5087881088256836, Validation Loss: 1.9836174249649048\n",
            "Epoch 450/500, Training Loss: 1.5087635517120361, Validation Loss: 1.9837397336959839\n",
            "Epoch 451/500, Training Loss: 1.5087385177612305, Validation Loss: 1.9838356971740723\n",
            "Epoch 452/500, Training Loss: 1.508713722229004, Validation Loss: 1.9839539527893066\n",
            "Epoch 453/500, Training Loss: 1.5086884498596191, Validation Loss: 1.9840580224990845\n",
            "Epoch 454/500, Training Loss: 1.5086628198623657, Validation Loss: 1.9841647148132324\n",
            "Epoch 455/500, Training Loss: 1.5086374282836914, Validation Loss: 1.984281301498413\n",
            "Epoch 456/500, Training Loss: 1.5086114406585693, Validation Loss: 1.9843783378601074\n",
            "Epoch 457/500, Training Loss: 1.5085853338241577, Validation Loss: 1.9845037460327148\n",
            "Epoch 458/500, Training Loss: 1.508558988571167, Validation Loss: 1.9845939874649048\n",
            "Epoch 459/500, Training Loss: 1.5085325241088867, Validation Loss: 1.9847241640090942\n",
            "Epoch 460/500, Training Loss: 1.5085058212280273, Validation Loss: 1.984815239906311\n",
            "Epoch 461/500, Training Loss: 1.5084786415100098, Validation Loss: 1.9849423170089722\n",
            "Epoch 462/500, Training Loss: 1.5084517002105713, Validation Loss: 1.985039234161377\n",
            "Epoch 463/500, Training Loss: 1.5084242820739746, Validation Loss: 1.985161542892456\n",
            "Epoch 464/500, Training Loss: 1.5083967447280884, Validation Loss: 1.9852643013000488\n",
            "Epoch 465/500, Training Loss: 1.508368730545044, Validation Loss: 1.9853830337524414\n",
            "Epoch 466/500, Training Loss: 1.50834059715271, Validation Loss: 1.9854915142059326\n",
            "Epoch 467/500, Training Loss: 1.5083122253417969, Validation Loss: 1.9856070280075073\n",
            "Epoch 468/500, Training Loss: 1.5082834959030151, Validation Loss: 1.9857205152511597\n",
            "Epoch 469/500, Training Loss: 1.508254885673523, Validation Loss: 1.9858314990997314\n",
            "Epoch 470/500, Training Loss: 1.508225917816162, Validation Loss: 1.9859527349472046\n",
            "Epoch 471/500, Training Loss: 1.5081967115402222, Validation Loss: 1.9860587120056152\n",
            "Epoch 472/500, Training Loss: 1.5081671476364136, Validation Loss: 1.9861880540847778\n",
            "Epoch 473/500, Training Loss: 1.5081373453140259, Validation Loss: 1.9862877130508423\n",
            "Epoch 474/500, Training Loss: 1.508107304573059, Validation Loss: 1.9864271879196167\n",
            "Epoch 475/500, Training Loss: 1.5080769062042236, Validation Loss: 1.9865200519561768\n",
            "Epoch 476/500, Training Loss: 1.5080463886260986, Validation Loss: 1.9866665601730347\n",
            "Epoch 477/500, Training Loss: 1.508015751838684, Validation Loss: 1.986759066581726\n",
            "Epoch 478/500, Training Loss: 1.5079846382141113, Validation Loss: 1.9869089126586914\n",
            "Epoch 479/500, Training Loss: 1.5079535245895386, Validation Loss: 1.9870021343231201\n",
            "Epoch 480/500, Training Loss: 1.5079220533370972, Validation Loss: 1.987152099609375\n",
            "Epoch 481/500, Training Loss: 1.507889986038208, Validation Loss: 1.9872506856918335\n",
            "Epoch 482/500, Training Loss: 1.5078579187393188, Validation Loss: 1.9874006509780884\n",
            "Epoch 483/500, Training Loss: 1.5078256130218506, Validation Loss: 1.987499713897705\n",
            "Epoch 484/500, Training Loss: 1.5077933073043823, Validation Loss: 1.9876567125320435\n",
            "Epoch 485/500, Training Loss: 1.5077601671218872, Validation Loss: 1.9877532720565796\n",
            "Epoch 486/500, Training Loss: 1.507727026939392, Validation Loss: 1.9879156351089478\n",
            "Epoch 487/500, Training Loss: 1.5076937675476074, Validation Loss: 1.9880131483078003\n",
            "Epoch 488/500, Training Loss: 1.5076600313186646, Validation Loss: 1.9881775379180908\n",
            "Epoch 489/500, Training Loss: 1.5076260566711426, Validation Loss: 1.9882800579071045\n",
            "Epoch 490/500, Training Loss: 1.5075918436050415, Validation Loss: 1.9884426593780518\n",
            "Epoch 491/500, Training Loss: 1.5075573921203613, Validation Loss: 1.9885528087615967\n",
            "Epoch 492/500, Training Loss: 1.5075225830078125, Validation Loss: 1.9887151718139648\n",
            "Epoch 493/500, Training Loss: 1.5074875354766846, Validation Loss: 1.9888293743133545\n",
            "Epoch 494/500, Training Loss: 1.507452130317688, Validation Loss: 1.9889953136444092\n",
            "Epoch 495/500, Training Loss: 1.5074164867401123, Validation Loss: 1.989111065864563\n",
            "Epoch 496/500, Training Loss: 1.507380723953247, Validation Loss: 1.989280104637146\n",
            "Epoch 497/500, Training Loss: 1.507344365119934, Validation Loss: 1.9894018173217773\n",
            "Epoch 498/500, Training Loss: 1.507307767868042, Validation Loss: 1.9895683526992798\n",
            "Epoch 499/500, Training Loss: 1.50727117061615, Validation Loss: 1.9897006750106812\n",
            "Epoch 500/500, Training Loss: 1.5072340965270996, Validation Loss: 1.9898642301559448\n"
          ]
        },
        {
          "output_type": "display_data",
          "data": {
            "text/plain": [
              "<Figure size 640x480 with 1 Axes>"
            ],
            "image/png": "[encoded data removed]"
          },
          "metadata": {}
        },
        {
          "output_type": "stream",
          "name": "stdout",
          "text": [
            "<built-in method stack of type object at 0x7b372a881760>\n",
            "MSELoss : 1.9899\n",
            "L1Loss : 1.1719\n"
          ]
        },
        {
          "output_type": "stream",
          "name": "stderr",
          "text": [
            "<ipython-input-588-45ba8ab1703b>:111: UserWarning: To copy construct from a tensor, it is recommended to use sourceTensor.clone().detach() or sourceTensor.clone().detach().requires_grad_(True), rather than torch.tensor(sourceTensor).\n",
            "  validation_inputs = torch.tensor(validation_data)\n"
          ]
        }
      ],
      "source": [
        "import torch\n",
        "import torch.nn as nn\n",
        "import torch.optim as optim\n",
        "from torch.utils.data import DataLoader, TensorDataset\n",
        "import numpy as np\n",
        "import matplotlib.pyplot as plt\n",
        "from sklearn.preprocessing import StandardScaler\n",
        "from kan import KAN\n",
        "class Model(nn.Module):\n",
        "    def __init__(self):\n",
        "        super(Model, self).__init__()\n",
        "        self.KAN = KAN([len(train_set),1,1],grid=1,grid_range=[-8,8])\n",
        "    def forward(self, x):\n",
        "        output = self.KAN(x)\n",
        "        #output = nn.Sigmoid()(output)\n",
        "        return output\n",
        "\n",
        "\n",
        "# 데이터셋 및 데이터로더\n",
        "train_dataset = TensorDataset(torch.tensor(train_data), torch.tensor(train_label))\n",
        "validation_dataset = TensorDataset(torch.tensor(validation_data), torch.tensor(validation_label))\n",
        "train_loader = DataLoader(train_dataset, batch_size=100, shuffle=True)\n",
        "validation_loader = DataLoader(validation_dataset, batch_size=100, shuffle=False)\n",
        "train_dict = {'train_input':train_data,'train_label':train_label,'test_input':validation_data,'test_label':validation_label}\n",
        "validation_dict = {'validation_input':validation_data,'validation_label':validation_label}\n",
        "# MLP 모델 정의\n",
        "class MLP(nn.Module):\n",
        "    def __init__(self):\n",
        "        super(MLP, self).__init__()\n",
        "        self.layer1 = nn.Linear(len(train_set), 32)\n",
        "        self.layer2 = nn.Linear(32, 32)\n",
        "        self.output = nn.Linear(32, 1)\n",
        "        self.relu = nn.ReLU()\n",
        "\n",
        "    def forward(self, x):\n",
        "        x = self.relu(self.layer1(x))\n",
        "        x = self.relu(self.layer2(x))\n",
        "        x = self.output(x)\n",
        "        return x\n",
        "\n",
        "# LSTM 모델 정의\n",
        "class LSTMModel(nn.Module):\n",
        "    def __init__(self, input_size, hidden_size, output_size):\n",
        "        super(LSTMModel, self).__init__()\n",
        "        self.hidden_size = hidden_size\n",
        "        self.lstm = nn.LSTM(input_size, hidden_size, batch_first=True,dropout=0.3)\n",
        "        self.fc = nn.Linear(hidden_size, output_size)\n",
        "\n",
        "    def forward(self, x):\n",
        "        x = torch.unsqueeze(x,2)\n",
        "        h0 = torch.zeros(1, x.size(0), self.hidden_size)  # LSTM의 초기 은닉 상태 초기화\n",
        "        c0 = torch.zeros(1, x.size(0), self.hidden_size)  # LSTM의 초기 셀 상태 초기화\n",
        "        out, _ = self.lstm(x, (h0, c0))  # LSTM을 통해 시퀀스 처리\n",
        "        out = nn.Dropout(0.3)(out)\n",
        "        out = self.fc(out[:, -1, :])  # 마지막 시퀀스의 출력을 fully connected layer에 적용하여 출력 생성\n",
        "        return out\n",
        "\n",
        "# 모델 초기화\n",
        "#model =  LSTMModel(1,32,1)\n",
        "#model =  MLP()\n",
        "model =  Model()\n",
        "#model.KAN.train(train_dict, steps=20, lamb=0.01, lamb_entropy=10.0)\n",
        "# 손실 함수 및 옵티마이저\n",
        "criterion = nn.MSELoss()\n",
        "optimizer = optim.Adam(model.parameters(), lr=0.02)\n",
        "\n",
        "# 모델 학습\n",
        "num_epochs = 500\n",
        "train_losses = []\n",
        "validation_losses = []\n",
        "\n",
        "for epoch in range(num_epochs):\n",
        "    #model = model.train()\n",
        "    running_loss = 0.0\n",
        "    for inputs, labels in train_loader:\n",
        "\n",
        "        optimizer.zero_grad()\n",
        "        outputs = model(inputs)\n",
        "        loss = criterion(outputs, labels)\n",
        "        loss.backward()\n",
        "        optimizer.step()\n",
        "        running_loss += loss.item()\n",
        "\n",
        "    train_losses.append(running_loss / len(train_loader))\n",
        "\n",
        "\n",
        "    validation_loss = 0.0\n",
        "    #model = model.eval()\n",
        "    with torch.no_grad():\n",
        "        for inputs, labels in validation_loader:\n",
        "            outputs = model(inputs)\n",
        "            loss = criterion(outputs, labels)\n",
        "            validation_loss += loss.item()\n",
        "\n",
        "    validation_losses.append(validation_loss / len(validation_loader))\n",
        "\n",
        "    print(f'Epoch {epoch+1}/{num_epochs}, Training Loss: {train_losses[-1]}, Validation Loss: {validation_losses[-1]}')\n",
        "\n",
        "# 손실(loss) 그래프\n",
        "plt.plot(train_losses, label='train_loss')\n",
        "plt.plot(validation_losses, label='val_loss')\n",
        "plt.xlabel('Epoch')\n",
        "plt.ylabel('Loss')\n",
        "plt.legend()\n",
        "plt.title('Training and Validation Loss')\n",
        "plt.show()\n",
        "\n",
        "# 검증 데이터로 예측\n",
        "with torch.no_grad():\n",
        "    #model = model.eval()\n",
        "    validation_inputs = torch.tensor(validation_data)\n",
        "    predictions = model(validation_inputs)\n",
        "    print(torch.stack)\n",
        "print(f'MSELoss : {float(torch.nn.MSELoss()(predictions,validation_label)):.4f}')\n",
        "print(f'L1Loss : {float(torch.nn.L1Loss()(predictions,validation_label)):.4f}')\n",
        "LSTM_list_MSE.append(float(torch.nn.MSELoss()(predictions,validation_label)))\n",
        "LSTM_list_L1.append(float(torch.nn.L1Loss()(predictions,validation_label)))"
      ]
    },
    {
      "cell_type": "code",
      "source": [
        "\n",
        "formula, var = model.KAN.symbolic_formula(floating_digit=5)\n",
        "formula[0]"
      ],
      "metadata": {
        "id": "6eLBkY9O7qG5",
        "outputId": "9f0fa6f2-b7f2-4a72-df17-7eceac88e8ff",
        "colab": {
          "base_uri": "https://localhost:8080/",
          "height": 41
        }
      },
      "execution_count": 586,
      "outputs": [
        {
          "output_type": "execute_result",
          "data": {
            "text/plain": [
              "8.00729 - 12.64638*exp(-0.95799*(-0.80032*atan(0.18968*x_1 - 0.41496) - 1)**2)"
            ],
            "text/latex": "$\\displaystyle 8.00729 - 12.64638 e^{- 0.95799 \\left(- 0.80032 \\operatorname{atan}{\\left(0.18968 x_{1} - 0.41496 \\right)} - 1\\right)^{2}}$"
          },
          "metadata": {},
          "execution_count": 586
        }
      ]
    },
    {
      "cell_type": "code",
      "source": [
        "torch.stack([predictions,validation_data[:,0],validation_label],dim=1)"
      ],
      "metadata": {
        "id": "Xyy1FXs7YpH8",
        "outputId": "7eebbb95-a9eb-435a-dfd7-3d492f4ab679",
        "colab": {
          "base_uri": "https://localhost:8080/"
        }
      },
      "execution_count": 252,
      "outputs": [
        {
          "output_type": "execute_result",
          "data": {
            "text/plain": [
              "tensor([[ 1.3136,  0.4279,  0.7940],\n",
              "        [ 4.2394,  2.6071,  5.2146],\n",
              "        [ 3.5142,  2.0962,  4.0141],\n",
              "        [ 2.6401,  1.4431,  3.4236],\n",
              "        [ 4.4394,  2.7455,  5.1412],\n",
              "        [ 2.3853,  1.2507,  4.1436],\n",
              "        [ 1.9889,  0.9519,  3.1511],\n",
              "        [ 1.9264,  0.9043,  1.6495],\n",
              "        [ 2.0538,  1.0011,  3.3418],\n",
              "        [ 3.0908,  1.7848,  3.4617],\n",
              "        [ 3.9350,  2.3949,  5.1024],\n",
              "        [ 5.0272,  3.1493,  5.8597],\n",
              "        [ 2.5232,  1.3546,  2.6959],\n",
              "        [ 3.7858,  2.2898,  4.3727],\n",
              "        [ 1.5156,  0.5871,  3.2778],\n",
              "        [ 3.4551,  2.0536,  4.3911],\n",
              "        [ 2.3242,  1.2047,  2.0668],\n",
              "        [ 2.3599,  1.2315,  2.3113],\n",
              "        [ 1.4806,  0.5597,  0.6475],\n",
              "        [ 1.0449,  0.2136,  1.1359],\n",
              "        [ 0.9297,  0.1215,  0.7001],\n",
              "        [ 3.6010,  2.1585,  3.9027],\n",
              "        [ 4.4142,  2.7281,  4.7688],\n",
              "        [ 2.4537,  1.3021,  3.0240],\n",
              "        [ 3.9928,  2.4354,  4.4468],\n",
              "        [ 4.4530,  2.7549,  5.1162],\n",
              "        [ 3.5778,  2.1419,  4.3479],\n",
              "        [ 3.7695,  2.2783,  3.3664],\n",
              "        [ 4.7374,  2.9506,  4.9962],\n",
              "        [ 4.2615,  2.6224,  5.2321],\n",
              "        [ 0.8649,  0.0698,  0.8798],\n",
              "        [ 3.9424,  2.4001,  4.1107],\n",
              "        [ 3.8257,  2.3180,  4.5020],\n",
              "        [ 3.3715,  1.9928,  4.2365],\n",
              "        [ 1.6489,  0.6910,  1.2805],\n",
              "        [ 5.3335,  3.3586,  7.3173],\n",
              "        [ 1.7369,  0.7591,  2.3083],\n",
              "        [ 4.3112,  2.6569,  5.2494],\n",
              "        [ 1.7272,  0.7516,  2.4878],\n",
              "        [ 4.7483,  2.9581,  3.8419],\n",
              "        [ 0.4672, -0.2411,  1.7996],\n",
              "        [-0.1305, -0.6651,  1.1004],\n",
              "        [ 0.4271, -0.2716,  1.3080],\n",
              "        [ 3.6279,  2.1777,  3.9681],\n",
              "        [ 0.7325, -0.0351,  0.5463],\n",
              "        [ 2.5622,  1.3841,  4.3994],\n",
              "        [ 1.6022,  0.6547,  3.6076],\n",
              "        [ 1.3924,  0.4902,  2.4260],\n",
              "        [-0.1843, -0.6996,  0.7508],\n",
              "        [ 0.5198, -0.2009,  1.1402],\n",
              "        [ 0.2312, -0.4167,  0.1264],\n",
              "        [ 2.3464,  1.2214,  1.9923],\n",
              "        [ 2.1401,  1.0662,  2.5786],\n",
              "        [ 2.9094,  1.6476,  2.2803],\n",
              "        [ 1.9773,  0.9431,  1.7443],\n",
              "        [ 0.5979, -0.1405,  1.5622],\n",
              "        [ 2.3239,  1.2044,  2.8007],\n",
              "        [ 4.1712,  2.5597,  4.3328],\n",
              "        [ 2.9056,  1.6447,  2.5107],\n",
              "        [ 5.3234,  3.3517,  6.0873],\n",
              "        [ 3.1731,  1.8464,  3.8876],\n",
              "        [ 1.9511,  0.9231,  0.0630],\n",
              "        [ 2.8496,  1.6022,  3.5990],\n",
              "        [-0.5180, -0.9007,  0.3345],\n",
              "        [ 2.5224,  1.3541,  2.3759],\n",
              "        [ 1.6897,  0.7226,  3.2971],\n",
              "        [ 1.7848,  0.7960,  1.9639],\n",
              "        [ 1.8764,  0.8662,  2.7635],\n",
              "        [ 1.1961,  0.3344,  0.9882],\n",
              "        [ 2.8740,  1.6207,  3.7106],\n",
              "        [ 1.9872,  0.9506,  2.5524],\n",
              "        [-0.2818, -0.7607,  0.0136],\n",
              "        [ 2.0579,  1.0042,  3.0408],\n",
              "        [ 0.3432, -0.3345,  0.2432],\n",
              "        [ 3.6995,  2.2287,  4.0956],\n",
              "        [ 1.2058,  0.3422,  2.9246],\n",
              "        [ 2.1354,  1.0626,  1.4171],\n",
              "        [ 3.8450,  2.3316,  4.8970],\n",
              "        [ 3.0614,  1.7627,  3.6763],\n",
              "        [-0.4466, -0.8595, -0.2216],\n",
              "        [ 2.7837,  1.5521,  2.7337],\n",
              "        [ 3.5212,  2.1013,  3.4101],\n",
              "        [ 1.5837,  0.6403,  2.9442],\n",
              "        [ 3.4821,  2.0731,  2.5251],\n",
              "        [ 4.7171,  2.9366,  5.6453],\n",
              "        [ 0.0148, -0.5687, -0.9574],\n",
              "        [ 0.4720, -0.2375,  1.9101],\n",
              "        [ 0.9077,  0.1040,  1.9601],\n",
              "        [ 4.0431,  2.4705,  5.4835],\n",
              "        [ 2.5935,  1.4078,  2.7335],\n",
              "        [ 2.1095,  1.0431,  3.3879],\n",
              "        [ 3.6550,  2.1971,  3.8867],\n",
              "        [ 2.7770,  1.5470,  3.9716],\n",
              "        [ 2.8133,  1.5746,  3.5690],\n",
              "        [ 2.6055,  1.4169,  3.6791],\n",
              "        [ 4.7049,  2.9283,  5.7775],\n",
              "        [ 3.7438,  2.2601,  6.2060],\n",
              "        [ 2.7515,  1.5277,  2.7879],\n",
              "        [ 3.8677,  2.3476,  4.4470],\n",
              "        [ 1.5756,  0.6339,  1.5585]])"
            ]
          },
          "metadata": {},
          "execution_count": 252
        }
      ]
    },
    {
      "cell_type": "code",
      "source": [
        "np.mean(LSTM_list_L1),np.mean(LSTM_list_MSE)"
      ],
      "metadata": {
        "id": "vLNDMZ9NxSAv",
        "outputId": "f6114167-f523-413a-abca-8cd1267500da",
        "colab": {
          "base_uri": "https://localhost:8080/"
        }
      },
      "execution_count": 233,
      "outputs": [
        {
          "output_type": "execute_result",
          "data": {
            "text/plain": [
              "(0.6926884651184082, 0.7676637172698975)"
            ]
          },
          "metadata": {},
          "execution_count": 233
        }
      ]
    },
    {
      "cell_type": "code",
      "execution_count": 79,
      "metadata": {
        "id": "jRUrjdRqSdWn",
        "colab": {
          "base_uri": "https://localhost:8080/"
        },
        "outputId": "54696a3f-a2f9-4347-dfa8-3899d3c2af0f"
      },
      "outputs": [
        {
          "output_type": "stream",
          "name": "stdout",
          "text": [
            "tensor([[ 7.7501e-01,  2.1546e+00,  2.6882e+00,  7.9396e-01],\n",
            "        [ 1.8048e+00,  2.8134e+00,  2.5310e+00,  5.2146e+00],\n",
            "        [ 4.6046e-01, -5.4833e-01,  6.3021e-01,  4.0141e+00],\n",
            "        [ 4.1368e-01,  1.9859e+00,  4.7512e-01,  3.4236e+00],\n",
            "        [ 1.7001e+00,  2.9055e+00,  3.2933e+00,  5.1412e+00],\n",
            "        [ 2.3156e+00,  1.5186e+00,  3.2061e+00,  4.1436e+00],\n",
            "        [ 1.7443e+00,  1.2393e+00,  3.0154e+00,  3.1511e+00],\n",
            "        [ 6.6244e-01,  5.2147e-01,  7.0023e-01,  1.6495e+00],\n",
            "        [-2.0011e-01,  1.0335e+00, -7.3144e-02,  3.3418e+00],\n",
            "        [-1.1591e+00, -1.3740e-01, -7.4610e-01,  3.4617e+00],\n",
            "        [ 1.0728e-01,  2.3382e-01,  9.9830e-01,  5.1024e+00],\n",
            "        [ 1.4007e+00,  1.9659e+00,  2.8248e+00,  5.8597e+00],\n",
            "        [ 1.6371e+00,  1.8955e+00,  2.3303e+00,  2.6959e+00],\n",
            "        [ 1.7929e+00,  2.8913e+00,  3.0954e+00,  4.3727e+00],\n",
            "        [ 1.6286e+00,  2.5482e+00,  3.0098e+00,  3.2778e+00],\n",
            "        [ 2.5474e+00,  3.8220e+00,  4.1650e+00,  4.3911e+00],\n",
            "        [ 2.6740e-01,  1.7372e+00,  1.2549e+00,  2.0668e+00],\n",
            "        [ 2.1999e+00,  9.0419e-01,  2.3681e+00,  2.3113e+00],\n",
            "        [ 3.2175e-01, -2.9968e-01,  8.4576e-01,  6.4745e-01],\n",
            "        [ 7.1815e-01,  2.0152e+00,  1.7441e+00,  1.1359e+00],\n",
            "        [ 2.8322e+00,  4.2719e+00,  5.2095e+00,  7.0013e-01],\n",
            "        [ 2.0244e+00,  4.0451e+00,  4.0389e+00,  3.9027e+00],\n",
            "        [ 1.6725e+00,  2.0229e+00,  2.3576e+00,  4.7688e+00],\n",
            "        [-5.5630e-01,  5.5046e-01, -3.6140e-01,  3.0240e+00],\n",
            "        [ 2.9448e-01,  1.0011e+00,  1.5136e+00,  4.4468e+00],\n",
            "        [ 3.7345e-01,  1.7626e+00,  5.8433e-01,  5.1162e+00],\n",
            "        [ 1.8683e+00,  2.0967e+00,  3.6695e+00,  4.3479e+00],\n",
            "        [ 1.0762e+00,  2.6510e+00,  2.0549e+00,  3.3664e+00],\n",
            "        [ 7.1776e-01,  2.8280e+00,  1.7253e+00,  4.9962e+00],\n",
            "        [ 4.6212e-01,  1.4576e+00,  1.3243e-01,  5.2321e+00],\n",
            "        [ 1.1184e+00,  2.2368e+00,  1.7423e+00,  8.7980e-01],\n",
            "        [ 2.1146e+00,  3.2041e+00,  3.8773e+00,  4.1107e+00],\n",
            "        [ 1.6928e+00,  1.7659e+00,  2.0875e+00,  4.5020e+00],\n",
            "        [ 1.6429e+00,  2.4705e+00,  3.1923e+00,  4.2365e+00],\n",
            "        [ 5.2022e-01,  1.3009e+00,  2.2092e+00,  1.2805e+00],\n",
            "        [ 8.0482e-01,  1.4874e+00,  1.7717e+00,  7.3173e+00],\n",
            "        [ 1.9010e+00,  2.6205e+00,  2.5373e+00,  2.3083e+00],\n",
            "        [ 1.9556e+00,  3.1040e+00,  3.6843e+00,  5.2494e+00],\n",
            "        [ 2.2299e+00,  2.9293e+00,  3.9730e+00,  2.4878e+00],\n",
            "        [-1.6886e+00, -4.0904e-01, -1.5030e+00,  3.8419e+00],\n",
            "        [ 2.3492e+00,  3.9738e+00,  3.8013e+00,  1.7996e+00],\n",
            "        [-9.6600e-01, -1.3442e-01,  4.3862e-02,  1.1004e+00],\n",
            "        [ 4.4363e-01,  1.2739e+00,  1.2165e+00,  1.3080e+00],\n",
            "        [ 1.1870e+00,  1.4160e+00,  2.6504e+00,  3.9681e+00],\n",
            "        [ 2.0808e+00,  3.7430e+00,  3.3173e+00,  5.4627e-01],\n",
            "        [ 9.6585e-01,  1.6613e+00,  1.8677e+00,  4.3994e+00],\n",
            "        [ 2.4537e+00,  2.1941e+00,  2.9854e+00,  3.6076e+00],\n",
            "        [ 5.5568e-01,  1.7681e+00,  1.4192e+00,  2.4260e+00],\n",
            "        [ 9.3930e-01,  2.2814e+00,  2.6198e+00,  7.5077e-01],\n",
            "        [ 7.4947e-02,  1.5062e+00,  8.4196e-01,  1.1402e+00],\n",
            "        [ 1.4486e+00,  1.1120e+00,  1.6981e+00,  1.2645e-01],\n",
            "        [ 1.0199e-01,  6.2917e-01,  6.0918e-01,  1.9923e+00],\n",
            "        [ 1.3106e+00,  2.1520e+00,  3.0894e+00,  2.5786e+00],\n",
            "        [ 1.4707e+00,  1.7547e+00,  1.3411e+00,  2.2803e+00],\n",
            "        [ 3.7519e-02,  1.3857e+00,  1.5407e+00,  1.7443e+00],\n",
            "        [ 1.2498e+00,  1.7028e+00,  2.8107e+00,  1.5622e+00],\n",
            "        [ 9.8904e-01,  1.4506e+00,  2.2756e+00,  2.8007e+00],\n",
            "        [ 2.0471e+00,  3.2460e+00,  2.5115e+00,  4.3328e+00],\n",
            "        [ 1.0903e+00,  1.9738e+00,  1.8302e+00,  2.5107e+00],\n",
            "        [ 2.1586e+00,  2.3997e+00,  3.2153e+00,  6.0873e+00],\n",
            "        [-1.7965e-01,  6.4018e-01,  2.8659e-01,  3.8876e+00],\n",
            "        [-1.6108e-01,  8.3276e-01,  3.5663e-01,  6.3032e-02],\n",
            "        [ 9.7009e-01,  1.1888e+00,  1.7489e+00,  3.5990e+00],\n",
            "        [ 2.2752e+00,  3.7097e+00,  4.5111e+00,  3.3452e-01],\n",
            "        [ 1.1018e+00,  1.9817e+00,  1.5253e+00,  2.3759e+00],\n",
            "        [ 2.5224e-01,  1.3245e+00,  1.1791e+00,  3.2971e+00],\n",
            "        [ 6.5964e-01,  1.7072e+00,  1.6519e+00,  1.9639e+00],\n",
            "        [ 7.5117e-01,  1.5703e+00,  1.4020e+00,  2.7635e+00],\n",
            "        [ 8.0444e-01,  1.4305e+00,  1.8738e+00,  9.8822e-01],\n",
            "        [ 6.6903e-01,  1.3598e+00,  1.1788e+00,  3.7106e+00],\n",
            "        [ 1.0168e+00,  2.2407e+00,  3.3479e+00,  2.5524e+00],\n",
            "        [-6.2104e-03,  1.6543e+00,  1.8242e+00,  1.3603e-02],\n",
            "        [ 1.1999e+00,  1.4103e+00,  1.8103e+00,  3.0408e+00],\n",
            "        [ 1.2619e+00,  9.4088e-01,  2.0216e+00,  2.4319e-01],\n",
            "        [ 3.8722e-01,  1.9594e+00,  1.5545e+00,  4.0956e+00],\n",
            "        [ 2.1064e-01,  2.2654e-01,  7.6795e-01,  2.9246e+00],\n",
            "        [ 8.9357e-01,  2.1992e+00,  1.3351e+00,  1.4171e+00],\n",
            "        [ 1.1384e+00,  2.7058e+00,  2.3499e+00,  4.8970e+00],\n",
            "        [ 2.2644e+00,  4.2129e+00,  3.7990e+00,  3.6763e+00],\n",
            "        [ 1.7128e+00,  2.0077e+00,  1.9138e+00, -2.2162e-01],\n",
            "        [-3.1843e-01,  5.3704e-01, -1.6340e-01,  2.7337e+00],\n",
            "        [ 5.4445e-01, -3.1309e-01,  6.7347e-01,  3.4101e+00],\n",
            "        [ 3.2432e+00,  3.5725e+00,  4.8604e+00,  2.9442e+00],\n",
            "        [ 1.4979e+00,  2.3676e+00,  1.7760e+00,  2.5251e+00],\n",
            "        [ 6.1713e-01,  1.7710e+00,  1.5542e+00,  5.6453e+00],\n",
            "        [ 7.4662e-01,  8.5705e-01,  1.0031e+00, -9.5742e-01],\n",
            "        [ 1.5383e+00,  1.9380e+00,  2.2931e+00,  1.9101e+00],\n",
            "        [ 1.6757e+00, -3.3043e-01,  1.7221e+00,  1.9601e+00],\n",
            "        [ 2.4120e+00,  1.3154e+00,  3.4818e+00,  5.4835e+00],\n",
            "        [ 1.0799e+00,  2.0515e+00,  3.2031e+00,  2.7335e+00],\n",
            "        [ 3.1215e+00,  4.0527e+00,  4.9665e+00,  3.3879e+00],\n",
            "        [ 1.5606e+00,  2.1574e+00,  2.3754e+00,  3.8867e+00],\n",
            "        [ 2.3841e+00,  3.7336e+00,  4.1674e+00,  3.9716e+00],\n",
            "        [ 1.3967e+00,  3.4111e+00,  2.9143e+00,  3.5690e+00],\n",
            "        [ 9.6407e-02,  9.1974e-01,  7.9182e-01,  3.6791e+00],\n",
            "        [ 1.2651e+00,  2.6738e+00,  3.1866e+00,  5.7775e+00],\n",
            "        [ 2.4672e+00,  3.7912e+00,  4.3610e+00,  6.2060e+00],\n",
            "        [ 2.5001e+00,  3.2130e+00,  4.2635e+00,  2.7879e+00],\n",
            "        [ 4.0371e-01,  8.7509e-01,  5.7443e-01,  4.4470e+00],\n",
            "        [ 2.6686e+00,  3.0381e+00,  4.1575e+00,  1.5585e+00]])\n"
          ]
        },
        {
          "output_type": "stream",
          "name": "stderr",
          "text": [
            "<ipython-input-79-20d70c153bb3>:2: UserWarning: To copy construct from a tensor, it is recommended to use sourceTensor.clone().detach() or sourceTensor.clone().detach().requires_grad_(True), rather than torch.tensor(sourceTensor).\n",
            "  validation_inputs = torch.tensor(validation_data)\n"
          ]
        }
      ],
      "source": [
        "with torch.no_grad():\n",
        "    validation_inputs = torch.tensor(validation_data)\n",
        "    predictions = torch.squeeze(model(validation_inputs))\n",
        "    print(torch.stack([validation_data[:,2],validation_data[:,1],validation_data[:,0],validation_label],dim=1))"
      ]
    },
    {
      "cell_type": "code",
      "source": [
        "from Quantum_KAN.functions.Error_mitigation import extrapolate_values\n",
        "linear_data = []\n",
        "exp_data = []\n",
        "\n",
        "for data in validation_data:\n",
        "  y_linear_0,y_exp_0,_,_ = extrapolate_values(data,np.array(l_list))\n",
        "  linear_data.append(y_linear_0)\n",
        "  exp_data.append(y_exp_0)\n",
        "\n",
        "linear_data = torch.tensor(np.array(linear_data),dtype=torch.float32)\n",
        "exp_data = torch.tensor(np.array(exp_data),dtype=torch.float32)\n"
      ],
      "metadata": {
        "id": "7svlHGynFsNf",
        "outputId": "b0c934c9-13e2-4595-9bb2-984da0a05448",
        "colab": {
          "base_uri": "https://localhost:8080/",
          "height": 373
        }
      },
      "execution_count": 234,
      "outputs": [
        {
          "output_type": "error",
          "ename": "TypeError",
          "evalue": "Improper input: func input vector length N=2 must not exceed func output vector length M=1",
          "traceback": [
            "\u001b[0;31m---------------------------------------------------------------------------\u001b[0m",
            "\u001b[0;31mTypeError\u001b[0m                                 Traceback (most recent call last)",
            "\u001b[0;32m<ipython-input-234-5d550525e224>\u001b[0m in \u001b[0;36m<cell line: 5>\u001b[0;34m()\u001b[0m\n\u001b[1;32m      4\u001b[0m \u001b[0;34m\u001b[0m\u001b[0m\n\u001b[1;32m      5\u001b[0m \u001b[0;32mfor\u001b[0m \u001b[0mdata\u001b[0m \u001b[0;32min\u001b[0m \u001b[0mvalidation_data\u001b[0m\u001b[0;34m:\u001b[0m\u001b[0;34m\u001b[0m\u001b[0;34m\u001b[0m\u001b[0m\n\u001b[0;32m----> 6\u001b[0;31m   \u001b[0my_linear_0\u001b[0m\u001b[0;34m,\u001b[0m\u001b[0my_exp_0\u001b[0m\u001b[0;34m,\u001b[0m\u001b[0m_\u001b[0m\u001b[0;34m,\u001b[0m\u001b[0m_\u001b[0m \u001b[0;34m=\u001b[0m \u001b[0mextrapolate_values\u001b[0m\u001b[0;34m(\u001b[0m\u001b[0mdata\u001b[0m\u001b[0;34m,\u001b[0m\u001b[0mnp\u001b[0m\u001b[0;34m.\u001b[0m\u001b[0marray\u001b[0m\u001b[0;34m(\u001b[0m\u001b[0ml_list\u001b[0m\u001b[0;34m)\u001b[0m\u001b[0;34m)\u001b[0m\u001b[0;34m\u001b[0m\u001b[0;34m\u001b[0m\u001b[0m\n\u001b[0m\u001b[1;32m      7\u001b[0m   \u001b[0mlinear_data\u001b[0m\u001b[0;34m.\u001b[0m\u001b[0mappend\u001b[0m\u001b[0;34m(\u001b[0m\u001b[0my_linear_0\u001b[0m\u001b[0;34m)\u001b[0m\u001b[0;34m\u001b[0m\u001b[0;34m\u001b[0m\u001b[0m\n\u001b[1;32m      8\u001b[0m   \u001b[0mexp_data\u001b[0m\u001b[0;34m.\u001b[0m\u001b[0mappend\u001b[0m\u001b[0;34m(\u001b[0m\u001b[0my_exp_0\u001b[0m\u001b[0;34m)\u001b[0m\u001b[0;34m\u001b[0m\u001b[0;34m\u001b[0m\u001b[0m\n",
            "\u001b[0;32m/content/Quantum_KAN/functions/Error_mitigation.py\u001b[0m in \u001b[0;36mextrapolate_values\u001b[0;34m(y_data, x_data)\u001b[0m\n\u001b[1;32m    155\u001b[0m \u001b[0;32mdef\u001b[0m \u001b[0mextrapolate_values\u001b[0m\u001b[0;34m(\u001b[0m\u001b[0my_data\u001b[0m\u001b[0;34m,\u001b[0m\u001b[0mx_data\u001b[0m \u001b[0;34m=\u001b[0m \u001b[0mnp\u001b[0m\u001b[0;34m.\u001b[0m\u001b[0marray\u001b[0m\u001b[0;34m(\u001b[0m\u001b[0;34m[\u001b[0m\u001b[0;36m1\u001b[0m\u001b[0;34m,\u001b[0m \u001b[0;36m3\u001b[0m\u001b[0;34m,\u001b[0m \u001b[0;36m5\u001b[0m\u001b[0;34m,\u001b[0m \u001b[0;36m7\u001b[0m\u001b[0;34m]\u001b[0m\u001b[0;34m)\u001b[0m\u001b[0;34m)\u001b[0m\u001b[0;34m:\u001b[0m\u001b[0;34m\u001b[0m\u001b[0;34m\u001b[0m\u001b[0m\n\u001b[1;32m    156\u001b[0m     \u001b[0;31m# 선형 함수 피팅\u001b[0m\u001b[0;34m\u001b[0m\u001b[0;34m\u001b[0m\u001b[0m\n\u001b[0;32m--> 157\u001b[0;31m     \u001b[0mparams_linear\u001b[0m\u001b[0;34m,\u001b[0m \u001b[0m_\u001b[0m \u001b[0;34m=\u001b[0m \u001b[0mcurve_fit\u001b[0m\u001b[0;34m(\u001b[0m\u001b[0mlinear_func\u001b[0m\u001b[0;34m,\u001b[0m \u001b[0mx_data\u001b[0m\u001b[0;34m,\u001b[0m \u001b[0my_data\u001b[0m\u001b[0;34m)\u001b[0m\u001b[0;34m\u001b[0m\u001b[0;34m\u001b[0m\u001b[0m\n\u001b[0m\u001b[1;32m    158\u001b[0m     \u001b[0ma_linear\u001b[0m\u001b[0;34m,\u001b[0m \u001b[0mb_linear\u001b[0m \u001b[0;34m=\u001b[0m \u001b[0mparams_linear\u001b[0m\u001b[0;34m\u001b[0m\u001b[0;34m\u001b[0m\u001b[0m\n\u001b[1;32m    159\u001b[0m     \u001b[0my_linear_0\u001b[0m \u001b[0;34m=\u001b[0m \u001b[0mlinear_func\u001b[0m\u001b[0;34m(\u001b[0m\u001b[0;36m0\u001b[0m\u001b[0;34m,\u001b[0m \u001b[0ma_linear\u001b[0m\u001b[0;34m,\u001b[0m \u001b[0mb_linear\u001b[0m\u001b[0;34m)\u001b[0m\u001b[0;34m\u001b[0m\u001b[0;34m\u001b[0m\u001b[0m\n",
            "\u001b[0;32m/usr/local/lib/python3.10/dist-packages/scipy/optimize/_minpack_py.py\u001b[0m in \u001b[0;36mcurve_fit\u001b[0;34m(f, xdata, ydata, p0, sigma, absolute_sigma, check_finite, bounds, method, jac, full_output, nan_policy, **kwargs)\u001b[0m\n\u001b[1;32m    961\u001b[0m             raise TypeError(f\"The number of func parameters={n} must not\"\n\u001b[1;32m    962\u001b[0m                             f\" exceed the number of data points={ydata.size}\")\n\u001b[0;32m--> 963\u001b[0;31m         \u001b[0mres\u001b[0m \u001b[0;34m=\u001b[0m \u001b[0mleastsq\u001b[0m\u001b[0;34m(\u001b[0m\u001b[0mfunc\u001b[0m\u001b[0;34m,\u001b[0m \u001b[0mp0\u001b[0m\u001b[0;34m,\u001b[0m \u001b[0mDfun\u001b[0m\u001b[0;34m=\u001b[0m\u001b[0mjac\u001b[0m\u001b[0;34m,\u001b[0m \u001b[0mfull_output\u001b[0m\u001b[0;34m=\u001b[0m\u001b[0;36m1\u001b[0m\u001b[0;34m,\u001b[0m \u001b[0;34m**\u001b[0m\u001b[0mkwargs\u001b[0m\u001b[0;34m)\u001b[0m\u001b[0;34m\u001b[0m\u001b[0;34m\u001b[0m\u001b[0m\n\u001b[0m\u001b[1;32m    964\u001b[0m         \u001b[0mpopt\u001b[0m\u001b[0;34m,\u001b[0m \u001b[0mpcov\u001b[0m\u001b[0;34m,\u001b[0m \u001b[0minfodict\u001b[0m\u001b[0;34m,\u001b[0m \u001b[0merrmsg\u001b[0m\u001b[0;34m,\u001b[0m \u001b[0mier\u001b[0m \u001b[0;34m=\u001b[0m \u001b[0mres\u001b[0m\u001b[0;34m\u001b[0m\u001b[0;34m\u001b[0m\u001b[0m\n\u001b[1;32m    965\u001b[0m         \u001b[0mysize\u001b[0m \u001b[0;34m=\u001b[0m \u001b[0mlen\u001b[0m\u001b[0;34m(\u001b[0m\u001b[0minfodict\u001b[0m\u001b[0;34m[\u001b[0m\u001b[0;34m'fvec'\u001b[0m\u001b[0;34m]\u001b[0m\u001b[0;34m)\u001b[0m\u001b[0;34m\u001b[0m\u001b[0;34m\u001b[0m\u001b[0m\n",
            "\u001b[0;32m/usr/local/lib/python3.10/dist-packages/scipy/optimize/_minpack_py.py\u001b[0m in \u001b[0;36mleastsq\u001b[0;34m(func, x0, args, Dfun, full_output, col_deriv, ftol, xtol, gtol, maxfev, epsfcn, factor, diag)\u001b[0m\n\u001b[1;32m    417\u001b[0m \u001b[0;34m\u001b[0m\u001b[0m\n\u001b[1;32m    418\u001b[0m     \u001b[0;32mif\u001b[0m \u001b[0mn\u001b[0m \u001b[0;34m>\u001b[0m \u001b[0mm\u001b[0m\u001b[0;34m:\u001b[0m\u001b[0;34m\u001b[0m\u001b[0;34m\u001b[0m\u001b[0m\n\u001b[0;32m--> 419\u001b[0;31m         raise TypeError(f\"Improper input: func input vector length N={n} must\"\n\u001b[0m\u001b[1;32m    420\u001b[0m                         f\" not exceed func output vector length M={m}\")\n\u001b[1;32m    421\u001b[0m \u001b[0;34m\u001b[0m\u001b[0m\n",
            "\u001b[0;31mTypeError\u001b[0m: Improper input: func input vector length N=2 must not exceed func output vector length M=1"
          ]
        }
      ]
    },
    {
      "cell_type": "code",
      "source": [
        "print(f'L1 loss : {torch.nn.L1Loss()(linear_data,validation_label)}')\n",
        "print(f'MSE loss : {torch.nn.MSELoss()(linear_data,validation_label)}')"
      ],
      "metadata": {
        "colab": {
          "base_uri": "https://localhost:8080/"
        },
        "id": "ofsYtWh_GhxB",
        "outputId": "1c50ac83-b241-422b-a1aa-fa6885fddfd9"
      },
      "execution_count": 81,
      "outputs": [
        {
          "output_type": "stream",
          "name": "stdout",
          "text": [
            "L1 loss : 1.8249717950820923\n",
            "MSE loss : 5.189857006072998\n"
          ]
        }
      ]
    },
    {
      "cell_type": "code",
      "source": [
        "torch.nn.L1Loss()(exp_data,validation_label)"
      ],
      "metadata": {
        "colab": {
          "base_uri": "https://localhost:8080/"
        },
        "id": "lhT6Ow7iG6XA",
        "outputId": "8aa3f0b6-5040-48b9-ddcf-039ec6ad9c3a"
      },
      "execution_count": 37,
      "outputs": [
        {
          "output_type": "execute_result",
          "data": {
            "text/plain": [
              "tensor(2.0201)"
            ]
          },
          "metadata": {},
          "execution_count": 37
        }
      ]
    },
    {
      "cell_type": "code",
      "source": [
        "with torch.no_grad():\n",
        "    validation_inputs = torch.tensor(validation_data)\n",
        "    predictions = torch.squeeze(model(validation_inputs))\n",
        "    print(torch.stack([predictions,validation_label],dim=1))"
      ],
      "metadata": {
        "colab": {
          "base_uri": "https://localhost:8080/"
        },
        "id": "3r8q4iPQATJF",
        "outputId": "6073eb42-1225-450b-f1a4-44cfc1a31535"
      },
      "execution_count": null,
      "outputs": [
        {
          "output_type": "stream",
          "name": "stdout",
          "text": [
            "tensor([[ 9.5834e-01,  1.0988e+00],\n",
            "        [ 1.9378e+00,  1.8975e+00],\n",
            "        [ 1.6031e+00,  9.6113e-01],\n",
            "        [ 1.5205e+00,  1.9424e+00],\n",
            "        [ 3.7185e+00,  3.8195e+00],\n",
            "        [-1.7447e-02, -5.8709e-01],\n",
            "        [ 7.9802e-03,  2.2420e-01],\n",
            "        [ 2.2131e+00,  2.3215e+00],\n",
            "        [ 2.7429e+00,  3.1681e+00],\n",
            "        [ 2.1032e+00,  1.7399e+00],\n",
            "        [-1.1638e+00, -7.9300e-01],\n",
            "        [ 3.7043e-01,  4.8473e-01],\n",
            "        [ 1.9792e+00,  2.2218e+00],\n",
            "        [ 2.8503e+00,  2.6846e+00],\n",
            "        [ 1.4229e+00,  1.3190e+00],\n",
            "        [ 2.4272e+00,  2.4113e+00],\n",
            "        [-1.0895e+00, -1.1371e+00],\n",
            "        [ 1.2315e+00,  1.6312e+00],\n",
            "        [ 1.1559e+00,  1.4788e+00],\n",
            "        [ 9.0486e-01,  1.4417e+00],\n",
            "        [-5.5545e-01, -1.7112e-02],\n",
            "        [ 6.5637e-01,  6.0807e-01],\n",
            "        [ 2.2913e+00,  2.3657e+00],\n",
            "        [-3.7699e-01,  4.3843e-03],\n",
            "        [-9.8820e-02, -5.0606e-01],\n",
            "        [ 6.5380e-01,  1.5706e+00],\n",
            "        [ 1.0517e+00,  9.0920e-01],\n",
            "        [ 1.9699e+00,  2.1598e+00],\n",
            "        [ 2.7581e+00,  2.3111e+00],\n",
            "        [ 1.5232e+00,  2.4206e+00],\n",
            "        [ 1.6999e+00,  2.1521e+00],\n",
            "        [ 5.7008e-01,  8.3703e-01],\n",
            "        [-6.7840e-01, -1.3536e+00],\n",
            "        [ 3.1734e+00,  3.7896e+00],\n",
            "        [ 2.1030e+00,  2.7812e+00],\n",
            "        [ 5.6778e-01,  1.3160e+00],\n",
            "        [ 3.2157e+00,  2.9523e+00],\n",
            "        [ 1.3931e+00,  1.1261e+00],\n",
            "        [ 2.1061e+00,  2.5021e+00],\n",
            "        [ 2.0285e+00,  2.5068e+00],\n",
            "        [ 1.2772e+00,  1.6999e+00],\n",
            "        [ 1.9722e+00,  2.1910e+00],\n",
            "        [ 1.4619e+00,  1.5295e+00],\n",
            "        [ 1.4125e+00,  1.5198e+00],\n",
            "        [ 2.0232e+00,  2.5625e+00],\n",
            "        [ 1.6254e+00,  1.8049e+00],\n",
            "        [ 1.6222e-01,  3.1265e-02],\n",
            "        [ 1.0412e+00,  4.2798e-01],\n",
            "        [ 1.3352e+00,  1.2921e+00],\n",
            "        [ 1.0127e+00,  9.3218e-01],\n",
            "        [ 1.6635e+00,  1.9381e+00],\n",
            "        [ 2.1681e+00,  2.3810e+00],\n",
            "        [ 2.9802e-03,  7.7314e-01],\n",
            "        [ 1.0208e+00,  1.7610e+00],\n",
            "        [ 4.5699e-01,  6.3892e-01],\n",
            "        [ 1.4307e+00,  1.9257e+00],\n",
            "        [ 1.7129e+00,  1.8956e+00],\n",
            "        [ 5.4803e-01,  2.5260e-01],\n",
            "        [ 2.9018e+00,  2.9874e+00],\n",
            "        [ 3.5645e+00,  3.6158e+00],\n",
            "        [ 7.7292e-01,  5.3563e-01],\n",
            "        [ 1.6800e+00,  1.6874e+00],\n",
            "        [ 1.5038e+00,  1.7034e+00],\n",
            "        [-7.4906e-01, -2.5253e-01],\n",
            "        [ 1.5318e-01,  5.4393e-01],\n",
            "        [ 3.2380e+00,  3.1948e+00],\n",
            "        [-7.0404e-02, -9.5102e-01],\n",
            "        [ 3.4981e+00,  2.8420e+00],\n",
            "        [-8.4012e-01, -1.1023e+00],\n",
            "        [-5.0033e-01, -5.4190e-01],\n",
            "        [ 2.4587e+00,  2.5186e+00],\n",
            "        [ 1.8546e+00,  2.3500e+00],\n",
            "        [ 2.3789e+00,  2.6151e+00],\n",
            "        [ 4.5916e-01, -5.5145e-01],\n",
            "        [ 8.6419e-01,  1.1148e+00],\n",
            "        [ 2.0472e+00,  2.7399e+00],\n",
            "        [ 1.0385e+00,  1.9517e+00],\n",
            "        [ 3.3141e+00,  3.1076e+00],\n",
            "        [ 3.5650e+00,  3.6550e+00],\n",
            "        [ 1.9715e+00,  2.2572e+00],\n",
            "        [ 1.8959e+00,  2.4217e+00],\n",
            "        [-6.0200e-01,  3.6210e-01],\n",
            "        [ 1.2744e+00,  9.7042e-01],\n",
            "        [ 2.9019e+00,  2.3700e+00],\n",
            "        [-2.0338e-01, -4.1169e-01],\n",
            "        [ 6.5431e-01,  3.7137e-01],\n",
            "        [-7.3790e-01, -7.0046e-01],\n",
            "        [ 3.0674e+00,  3.1109e+00],\n",
            "        [ 3.1058e+00,  3.6544e+00],\n",
            "        [ 1.6212e+00,  1.5187e+00],\n",
            "        [ 1.2158e+00,  1.5303e+00],\n",
            "        [-3.0239e-01,  5.5466e-02],\n",
            "        [-7.1148e-01, -4.9493e-01],\n",
            "        [ 1.0050e+00,  7.8224e-01],\n",
            "        [ 1.7349e+00,  2.0620e+00],\n",
            "        [ 6.0231e-02, -3.9946e-01],\n",
            "        [ 4.3511e-01, -2.4964e-01],\n",
            "        [ 3.1883e+00,  3.0870e+00],\n",
            "        [ 1.6397e+00,  1.9095e+00],\n",
            "        [ 2.8979e+00,  2.8225e+00]])\n"
          ]
        },
        {
          "output_type": "stream",
          "name": "stderr",
          "text": [
            "<ipython-input-67-577be693f5a7>:2: UserWarning: To copy construct from a tensor, it is recommended to use sourceTensor.clone().detach() or sourceTensor.clone().detach().requires_grad_(True), rather than torch.tensor(sourceTensor).\n",
            "  validation_inputs = torch.tensor(validation_data)\n"
          ]
        }
      ]
    },
    {
      "cell_type": "code",
      "source": [
        "torch.nn.MSELoss()(train_data[:,0],train_label)"
      ],
      "metadata": {
        "colab": {
          "base_uri": "https://localhost:8080/"
        },
        "id": "F66whGTST8Nb",
        "outputId": "231dbd21-8365-4bc2-939d-7037459021f2"
      },
      "execution_count": null,
      "outputs": [
        {
          "output_type": "execute_result",
          "data": {
            "text/plain": [
              "tensor(2.1884)"
            ]
          },
          "metadata": {},
          "execution_count": 193
        }
      ]
    },
    {
      "cell_type": "code",
      "source": [
        "torch.nn.MSELoss()(train_data[:,0],train_label)"
      ],
      "metadata": {
        "id": "MOEs94KkdbrB",
        "outputId": "32f40e9b-9244-4f6e-8116-a8c3e4573655",
        "colab": {
          "base_uri": "https://localhost:8080/"
        }
      },
      "execution_count": null,
      "outputs": [
        {
          "output_type": "execute_result",
          "data": {
            "text/plain": [
              "tensor(1.7280)"
            ]
          },
          "metadata": {},
          "execution_count": 293
        }
      ]
    },
    {
      "cell_type": "code",
      "source": [
        "torch.nn.L1Loss()(predictions,validation_label)"
      ],
      "metadata": {
        "colab": {
          "base_uri": "https://localhost:8080/"
        },
        "id": "sjhq2Ora_Woy",
        "outputId": "3b9e797b-4a88-4d0f-8bbe-cd45e2dbfba4"
      },
      "execution_count": null,
      "outputs": [
        {
          "output_type": "execute_result",
          "data": {
            "text/plain": [
              "tensor(0.5488)"
            ]
          },
          "metadata": {},
          "execution_count": 38
        }
      ]
    },
    {
      "cell_type": "code",
      "source": [
        "torch.nn.L1Loss()(predictions,validation_label)"
      ],
      "metadata": {
        "id": "8TnkEgIgExsj",
        "outputId": "b2b4ea84-3a75-48c8-eae2-56a1edb90978",
        "colab": {
          "base_uri": "https://localhost:8080/"
        }
      },
      "execution_count": null,
      "outputs": [
        {
          "output_type": "execute_result",
          "data": {
            "text/plain": [
              "tensor(2.4251)"
            ]
          },
          "metadata": {},
          "execution_count": 209
        }
      ]
    },
    {
      "cell_type": "code",
      "source": [
        "torch.nn.L1Loss()(validation_data[:,0],validation_label)"
      ],
      "metadata": {
        "id": "uU1IHmPfdfQx",
        "outputId": "cd9b6ba0-8cbe-4110-e7e3-270baff0ba7b",
        "colab": {
          "base_uri": "https://localhost:8080/"
        }
      },
      "execution_count": null,
      "outputs": [
        {
          "output_type": "execute_result",
          "data": {
            "text/plain": [
              "tensor(1.8753)"
            ]
          },
          "metadata": {},
          "execution_count": 184
        }
      ]
    },
    {
      "cell_type": "code",
      "source": [
        "torch.nn.MSELoss()(validation_data[:,0],validation_label)"
      ],
      "metadata": {
        "colab": {
          "base_uri": "https://localhost:8080/"
        },
        "id": "QiUqH4Mj9U-v",
        "outputId": "5e9205a6-2898-435a-f663-e568a034a6eb"
      },
      "execution_count": null,
      "outputs": [
        {
          "output_type": "execute_result",
          "data": {
            "text/plain": [
              "tensor(4.8845)"
            ]
          },
          "metadata": {},
          "execution_count": 201
        }
      ]
    },
    {
      "cell_type": "code",
      "execution_count": null,
      "metadata": {
        "id": "_ewpHedOJzC7"
      },
      "outputs": [],
      "source": [
        "with torch.no_grad():\n",
        "    validation_inputs = torch.tensor(train_data)\n",
        "    predictions = torch.squeeze(model(validation_inputs))\n",
        "    print(torch.stack([predictions,train_data[:,0],train_label],dim=1))"
      ]
    },
    {
      "cell_type": "code",
      "source": [
        "service = QiskitRuntimeService(channel='ibm_quantum',\n",
        "    instance='ibm-q-skku/skku/skku-students',\n",
        "    token = '06f802eeac992c43c4106753d7c5fc31414a13eb7d91c99d67fb49cc50569e5b4b011f20c71b9607a07cb43ecc7044557c699022db91d1685ba4c886d5886854')\n",
        "\n",
        "\n",
        "backend = service.backend(backend_name)"
      ],
      "metadata": {
        "id": "Qa_liG7tuTM6"
      },
      "execution_count": null,
      "outputs": []
    },
    {
      "cell_type": "code",
      "execution_count": null,
      "metadata": {
        "id": "SLR592zoJzC8"
      },
      "outputs": [],
      "source": [
        "passmanager = generate_preset_pass_manager(optimization_level=optimization_level, backend=backend, initial_layout=qubit_use[:4])\n",
        "\n",
        "from qiskit.quantum_info import SparsePauliOp\n",
        "np.random.seed(30)\n",
        "theta = np.random.uniform(-3.14, 3.14, [100,len(trotterized_ising_circuit.parameters)])\n",
        "hamiltonian = SparsePauliOp.from_list([(\"ZIII\", 1), (\"IZII\", 1), (\"IIZI\", 1),(\"IIIZ\", 1)])\n",
        "qc_input = passmanager.run(trotterized_ising_circuit)\n",
        "isa_observables = hamiltonian.apply_layout(qc_input.layout)\n",
        "with Batch(backend=backend,):\n",
        "    estimator = EstimatorV2()\n",
        "    estimator.resilience_level = 2\n",
        "    estimator.twirlingoptions = T_options\n",
        "    job = estimator.run([(qc_input, isa_observables, theta[i]) for i in range(100)],precision=0.01)\n",
        "    job.update_tags(['ZNE'])"
      ]
    },
    {
      "cell_type": "code",
      "execution_count": null,
      "metadata": {
        "id": "_KsME_07JzC8"
      },
      "outputs": [],
      "source": [
        "job = service.job('csn3wqaea560008fdveg')\n",
        "job_result = job.result()\n",
        "temp_result = []\n",
        "for res in job_result:\n",
        "    temp_result.append(res.data.evs)\n",
        "temp_result = torch.tensor(np.array(temp_result),dtype=torch.float32)"
      ]
    },
    {
      "cell_type": "code",
      "source": [
        "torch.nn.MSELoss()(temp_result,validation_label)"
      ],
      "metadata": {
        "colab": {
          "base_uri": "https://localhost:8080/"
        },
        "id": "B5UKkwN6IGQ2",
        "outputId": "f1c92c26-1501-4371-c5e3-86241ec12d0a"
      },
      "execution_count": null,
      "outputs": [
        {
          "output_type": "execute_result",
          "data": {
            "text/plain": [
              "tensor(0.6260)"
            ]
          },
          "metadata": {},
          "execution_count": 81
        }
      ]
    },
    {
      "cell_type": "code",
      "source": [
        "torch.nn.L1Loss()(temp_result,validation_label)"
      ],
      "metadata": {
        "colab": {
          "base_uri": "https://localhost:8080/"
        },
        "id": "IiA-ANBKIUPs",
        "outputId": "dc8fcaba-1616-4d22-dfcb-8a248ee4012e"
      },
      "execution_count": null,
      "outputs": [
        {
          "output_type": "execute_result",
          "data": {
            "text/plain": [
              "tensor(0.6688)"
            ]
          },
          "metadata": {},
          "execution_count": 82
        }
      ]
    },
    {
      "cell_type": "code",
      "source": [],
      "metadata": {
        "id": "5bT_horKAJwI"
      },
      "execution_count": null,
      "outputs": []
    }
  ],
  "metadata": {
    "colab": {
      "provenance": []
    },
    "kernelspec": {
      "display_name": "Lee",
      "language": "python",
      "name": "python3"
    },
    "language_info": {
      "codemirror_mode": {
        "name": "ipython",
        "version": 3
      },
      "file_extension": ".py",
      "mimetype": "text/x-python",
      "name": "python",
      "nbconvert_exporter": "python",
      "pygments_lexer": "ipython3",
      "version": "3.11.9"
    }
  },
  "nbformat": 4,
  "nbformat_minor": 0
}