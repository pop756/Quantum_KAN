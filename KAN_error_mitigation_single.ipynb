{
 "cells": [
  {
   "cell_type": "code",
   "execution_count": null,
   "metadata": {},
   "outputs": [],
   "source": [
    "\"\"\"\n",
    "!git clone -b EMT https://github.com/pop756/Quantum_KAN.git\n",
    "%cd Quantum_KAN\n",
    "!pip install -r requirements.txt\"\"\""
   ]
  },
  {
   "cell_type": "code",
   "execution_count": 8,
   "metadata": {},
   "outputs": [
    {
     "name": "stdout",
     "output_type": "stream",
     "text": [
      "(tensor(-0.21582379, requires_grad=True), tensor(0.22380323, requires_grad=True), tensor(-0.43240336, requires_grad=True), tensor(0.10357427, requires_grad=True))\n",
      "0: ──RX(1.79)─╭IsingZZ(0.50)──RY(0.25)─────────────────────╭IsingZZ(0.50)──RY(0.25)─────\n",
      "1: ──RX(4.59)─╰IsingZZ(0.50)─╭IsingZZ(0.50)──RY(0.25)──────╰IsingZZ(0.50)─╭IsingZZ(0.50)\n",
      "2: ──RX(2.10)────────────────╰IsingZZ(0.50)─╭IsingZZ(0.50)──RY(0.25)──────╰IsingZZ(0.50)\n",
      "3: ──RX(4.19)───────────────────────────────╰IsingZZ(0.50)──RY(0.25)────────────────────\n",
      "\n",
      "───────────────────────────┤  <X>\n",
      "───RY(0.25)────────────────┤  <X>\n",
      "──╭IsingZZ(0.50)──RY(0.25)─┤  <X>\n",
      "──╰IsingZZ(0.50)──RY(0.25)─┤  <X>\n"
     ]
    }
   ],
   "source": [
    "import pennylane as qml\n",
    "from pennylane import numpy as np\n",
    "import random\n",
    "\n",
    "def ising_model_circuit(num_qubits=4,num_layer = 2,single='X',double='ZZ',J=0.25,h=0.125):\n",
    "    \"\"\"\n",
    "    Creates a parameterized quantum circuit for simulating the Ising model\n",
    "    with specified number of qubits and layers. The circuit includes random \n",
    "    interaction strengths and external field strengths.\n",
    "    \n",
    "    Args:\n",
    "    num_qubits (int): Number of qubits in the circuit.\n",
    "    num_layer (int): Number of layers of Ising interactions and external field terms.\n",
    "    \n",
    "    Returns:\n",
    "    cost (function): The cost function which returns the expected value of the PauliZ observable on the first qubit.\n",
    "    \"\"\"\n",
    "        \n",
    "    # Define the device\n",
    "    dev = qml.device(\"default.mixed\", wires=num_qubits)\n",
    "    \n",
    "    # Define random interaction strengths and external field strengths\n",
    "    J = np.array(list([J])*num_qubits)\n",
    "    h = np.array(list([h])*num_qubits)\n",
    "\n",
    "    def circuit(params):\n",
    "        # Apply RX rotations with parameters\n",
    "        for i in range(num_qubits):\n",
    "            qml.RX(params[i], wires=i)\n",
    "        for j in range(num_layer):\n",
    "            # Apply Ising ZZ interactions\n",
    "            for i in range(num_qubits - 1):\n",
    "                getattr(qml,f\"Ising{double}\")(2 * J[i], wires=[i, i+1])\n",
    "\n",
    "            \n",
    "            # Apply external field X terms\n",
    "            for i in range(num_qubits):\n",
    "                getattr(qml,f\"R{single}\")(2 * h[i], wires=i)\n",
    "\n",
    "    @qml.qnode(dev,interface='torch')\n",
    "    def cost(params):\n",
    "        circuit(params)\n",
    "        return qml.expval(qml.PauliX(0)),qml.expval(qml.PauliX(1)),qml.expval(qml.PauliX(2)),qml.expval(qml.PauliX(3))\n",
    "    \n",
    "    return cost\n",
    "\n",
    "\n",
    "\n",
    "def ising_model_circuit_val(num_qubits=4,num_layer = 2,single='X',double='ZZ',J=0.25,h=0.125):\n",
    "    \"\"\"\n",
    "    Creates a parameterized quantum circuit for simulating the Ising model\n",
    "    with specified number of qubits and layers. The circuit includes random \n",
    "    interaction strengths and external field strengths.\n",
    "    \n",
    "    Args:\n",
    "    num_qubits (int): Number of qubits in the circuit.\n",
    "    num_layer (int): Number of layers of Ising interactions and external field terms.\n",
    "    \n",
    "    Returns:\n",
    "    cost (function): The cost function which returns the expected value of the PauliZ observable on the first qubit.\n",
    "    \"\"\"\n",
    "        \n",
    "    # Define the device\n",
    "    dev = qml.device(\"default.mixed\", wires=num_qubits)\n",
    "    \n",
    "    # Define random interaction strengths and external field strengths\n",
    "    J = np.array(list([J])*num_qubits)\n",
    "    h = np.array(list([h])*num_qubits)\n",
    "\n",
    "    def circuit(params):\n",
    "        # Apply RX rotations with parameters\n",
    "        for i in range(num_qubits):\n",
    "            qml.RX(params[i], wires=i)\n",
    "        for j in range(num_layer):\n",
    "            # Apply Ising ZZ interactions\n",
    "            for i in range(num_qubits - 1):\n",
    "                getattr(qml,f\"Ising{double}\")(2 * J[i], wires=[i, i+1])\n",
    "\n",
    "            \n",
    "            # Apply external field X terms\n",
    "            for i in range(num_qubits):\n",
    "                getattr(qml,f\"R{single}\")(2 * h[i], wires=i)\n",
    "\n",
    "    @qml.qnode(dev,interface='torch')\n",
    "    def cost(params):\n",
    "        circuit(params)\n",
    "        return qml.expval(qml.PauliX(0)),qml.expval(qml.PauliX(1)),qml.expval(qml.PauliX(2)),qml.expval(qml.PauliX(3))\n",
    "    \n",
    "    return cost\n",
    "\n",
    "# Example usage\n",
    "num_parameters = 4  # One parameter per qubit for RX rotations\n",
    "params = list(np.random.uniform(0, 2 * np.pi, num_parameters))\n",
    "random_circuit = ising_model_circuit(num_parameters ,2,single='Y',double='ZZ',J=0.25,h=0.125)\n",
    "train_circuit = ising_model_circuit(num_parameters ,2,single='Y',double='ZZ',J=0.,h=0.125)\n",
    "\n",
    "print(random_circuit(params))\n",
    "print(qml.draw(random_circuit)(params))\n"
   ]
  },
  {
   "cell_type": "code",
   "execution_count": 28,
   "metadata": {},
   "outputs": [
    {
     "name": "stderr",
     "output_type": "stream",
     "text": [
      "  0%|          | 0/50 [00:00<?, ?it/s]"
     ]
    },
    {
     "name": "stderr",
     "output_type": "stream",
     "text": [
      "100%|██████████| 50/50 [00:26<00:00,  1.91it/s]\n",
      "C:\\Users\\pop75\\AppData\\Local\\Temp\\ipykernel_19628\\3199084214.py:138: UserWarning: To copy construct from a tensor, it is recommended to use sourceTensor.clone().detach() or sourceTensor.clone().detach().requires_grad_(True), rather than torch.tensor(sourceTensor).\n",
      "  return torch.tensor(self.data[idx], dtype=torch.float32), torch.tensor(self.labels[idx], dtype=torch.float32)\n"
     ]
    },
    {
     "name": "stdout",
     "output_type": "stream",
     "text": [
      "Epoch 80 Loss 0.000092 acc : 0.000000 reg : 0.000000 stop count : 79"
     ]
    },
    {
     "name": "stderr",
     "output_type": "stream",
     "text": [
      "100%|██████████| 50/50 [00:18<00:00,  2.77it/s]\n"
     ]
    },
    {
     "name": "stdout",
     "output_type": "stream",
     "text": [
      "Epoch 80 Loss 0.000103 acc : 0.020000 reg : 0.000000 stop count : 79"
     ]
    },
    {
     "name": "stderr",
     "output_type": "stream",
     "text": [
      "100%|██████████| 50/50 [00:18<00:00,  2.73it/s]\n"
     ]
    },
    {
     "name": "stdout",
     "output_type": "stream",
     "text": [
      "Epoch 80 Loss 0.000175 acc : 0.000000 reg : 0.000000 stop count : 79"
     ]
    },
    {
     "name": "stderr",
     "output_type": "stream",
     "text": [
      "100%|██████████| 50/50 [00:16<00:00,  3.06it/s]\n"
     ]
    },
    {
     "name": "stdout",
     "output_type": "stream",
     "text": [
      "Epoch 80 Loss 0.000038 acc : 0.000000 reg : 0.000000 stop count : 79"
     ]
    },
    {
     "name": "stderr",
     "output_type": "stream",
     "text": [
      "100%|██████████| 50/50 [00:20<00:00,  2.49it/s]\n"
     ]
    },
    {
     "name": "stdout",
     "output_type": "stream",
     "text": [
      "Epoch 80 Loss 0.001048 acc : 0.020000 reg : 0.000000 stop count : 79"
     ]
    },
    {
     "name": "stderr",
     "output_type": "stream",
     "text": [
      "100%|██████████| 50/50 [00:17<00:00,  2.86it/s]\n"
     ]
    },
    {
     "name": "stdout",
     "output_type": "stream",
     "text": [
      "Epoch 80 Loss 0.000444 acc : 0.000000 reg : 0.000000 stop count : 79"
     ]
    },
    {
     "name": "stderr",
     "output_type": "stream",
     "text": [
      "100%|██████████| 50/50 [00:19<00:00,  2.51it/s]\n"
     ]
    },
    {
     "name": "stdout",
     "output_type": "stream",
     "text": [
      "Epoch 80 Loss 0.000032 acc : 0.000000 reg : 0.000000 stop count : 79"
     ]
    },
    {
     "name": "stderr",
     "output_type": "stream",
     "text": [
      "100%|██████████| 50/50 [00:22<00:00,  2.18it/s]\n"
     ]
    },
    {
     "name": "stdout",
     "output_type": "stream",
     "text": [
      "Epoch 80 Loss 0.000753 acc : 0.020000 reg : 0.000000 stop count : 79"
     ]
    },
    {
     "name": "stderr",
     "output_type": "stream",
     "text": [
      "100%|██████████| 50/50 [00:15<00:00,  3.32it/s]\n"
     ]
    },
    {
     "name": "stdout",
     "output_type": "stream",
     "text": [
      "Epoch 80 Loss 0.000400 acc : 0.000000 reg : 0.000000 stop count : 79"
     ]
    },
    {
     "name": "stderr",
     "output_type": "stream",
     "text": [
      "100%|██████████| 50/50 [00:16<00:00,  3.04it/s]\n"
     ]
    },
    {
     "name": "stdout",
     "output_type": "stream",
     "text": [
      "Epoch 80 Loss 0.000094 acc : 0.000000 reg : 0.000000 stop count : 79"
     ]
    },
    {
     "name": "stderr",
     "output_type": "stream",
     "text": [
      "100%|██████████| 50/50 [00:15<00:00,  3.16it/s]\n"
     ]
    },
    {
     "name": "stdout",
     "output_type": "stream",
     "text": [
      "Epoch 80 Loss 0.000111 acc : 0.020000 reg : 0.000000 stop count : 79"
     ]
    },
    {
     "name": "stderr",
     "output_type": "stream",
     "text": [
      "100%|██████████| 50/50 [00:14<00:00,  3.36it/s]\n"
     ]
    },
    {
     "name": "stdout",
     "output_type": "stream",
     "text": [
      "Epoch 80 Loss 0.000110 acc : 0.000000 reg : 0.000000 stop count : 79"
     ]
    }
   ],
   "source": [
    "from functions.Error_mitigation import extra_polation,extra_polation_time\n",
    "from torch.utils.data import Dataset, DataLoader\n",
    "import torch\n",
    "from tqdm import tqdm\n",
    "from torch.utils.data import random_split, DataLoader\n",
    "import pennylane as qml\n",
    "from torch import nn\n",
    "import copy\n",
    "\n",
    "\n",
    "# 데이터셋 생성 클래스\n",
    "class QuantumData_time(Dataset):\n",
    "    def __init__(self,circuit,meas,input_list = [1, 3, 5],size=50):\n",
    "        \"\"\"\n",
    "        QuantumData_time 클래스는 특정 양자 회로와 측정에 기반하여 데이터를 생성합니다.\n",
    "        주어진 크기(size)만큼의 데이터를 생성하며, 각 데이터는 일정한 노이즈 요인 하에서\n",
    "        양자 회로의 결과를 포함합니다.\n",
    "        \n",
    "        Args:\n",
    "        size (int): 생성할 데이터의 수\n",
    "        \"\"\"\n",
    "        np.random.seed(42)\n",
    "        para_num = len(circuit.device.wires)\n",
    "        self.data = []\n",
    "        self.labels = []\n",
    "        for _ in tqdm(range(size)):\n",
    "            # 0에서 2π 사이의 랜덤 theta 값 6개 생성\n",
    "            if _ ==  0:\n",
    "                theta = [0]*para_num\n",
    "            else:\n",
    "                theta = [np.random.uniform(0, 2 * np.pi) for i in range(para_num)]\n",
    "            # random_circuit 및 meas1 함수와 theta 값을 사용하여 노이즈 팩터와 결과 생성\n",
    "            noise_factor, result = extra_polation_time(circuit, meas, theta, noise_factor=input_list, p1=0.1, p2=0.1)\n",
    "            self.data.append(np.array(noise_factor))\n",
    "            self.labels.append(result)\n",
    "    \n",
    "    def __len__(self):\n",
    "        \"\"\"\n",
    "        데이터셋의 크기 반환\n",
    "        \"\"\"\n",
    "        return len(self.data)\n",
    "    \n",
    "    def __getitem__(self, idx):\n",
    "        \"\"\"\n",
    "        주어진 인덱스에 해당하는 데이터 및 레이블 반환\n",
    "        \n",
    "        Args:\n",
    "        idx (int): 인덱스\n",
    "        \n",
    "        Returns:\n",
    "        tuple: 데이터 (torch.tensor)와 레이블 (torch.tensor)\n",
    "        \"\"\"\n",
    "        return torch.tensor(self.data[idx], dtype=torch.float32), torch.tensor(self.labels[idx], dtype=torch.float32)\n",
    "\n",
    "# 데이터셋 생성 클래스\n",
    "class QuantumData_gate(Dataset):\n",
    "    def __init__(self,circuit,meas,input_list = [1, 1.2, 1.4],size=50):\n",
    "        \"\"\"\n",
    "        QuantumData_gate 클래스는 특정 양자 회로와 측정에 기반하여 데이터를 생성합니다.\n",
    "        주어진 크기(size)만큼의 데이터를 생성하며, 각 데이터는 일정한 노이즈 요인 하에서\n",
    "        양자 회로의 결과를 포함합니다.\n",
    "        \n",
    "        Args:\n",
    "        size (int): 생성할 데이터의 수\n",
    "        \"\"\"\n",
    "        np.random.seed(42)\n",
    "        para_num = len(circuit.device.wires)\n",
    "        self.data = []\n",
    "        self.labels = []\n",
    "        for _ in tqdm(range(size)):\n",
    "            # 0에서 2π 사이의 랜덤 theta 값 6개 생성\n",
    "            theta = [np.random.uniform(0, 2 * np.pi) for i in range(para_num)]\n",
    "            # random_circuit 및 meas1 함수와 theta 값을 사용하여 노이즈 팩터와 결과 생성\n",
    "            noise_factor, result = extra_polation(circuit, meas, theta, noise_factor=input_list, p1=0.05, p2=0.05)\n",
    "            self.data.append(np.array(noise_factor))\n",
    "            self.labels.append(result)\n",
    "    \n",
    "    def __len__(self):\n",
    "        \"\"\"\n",
    "        데이터셋의 크기 반환\n",
    "        \"\"\"\n",
    "        return len(self.data)\n",
    "    \n",
    "    def __getitem__(self, idx):\n",
    "        \"\"\"\n",
    "        주어진 인덱스에 해당하는 데이터 및 레이블 반환\n",
    "        \n",
    "        Args:\n",
    "        idx (int): 인덱스\n",
    "        \n",
    "        Returns:\n",
    "        tuple: 데이터 (torch.tensor)와 레이블 (torch.tensor)\n",
    "        \"\"\"\n",
    "        return torch.tensor(self.data[idx], dtype=torch.float32), torch.tensor(self.labels[idx], dtype=torch.float32)\n",
    "\n",
    "# 데이터셋 생성 클래스\n",
    "class QuantumData_time(Dataset):\n",
    "    def __init__(self,circuit,meas,input_list = [1, 3, 5],size=50):\n",
    "        \"\"\"\n",
    "        QuantumData_time 클래스는 특정 양자 회로와 측정에 기반하여 데이터를 생성합니다.\n",
    "        주어진 크기(size)만큼의 데이터를 생성하며, 각 데이터는 일정한 노이즈 요인 하에서\n",
    "        양자 회로의 결과를 포함합니다.\n",
    "        \n",
    "        Args:\n",
    "        size (int): 생성할 데이터의 수\n",
    "        \"\"\"\n",
    "        np.random.seed(42)\n",
    "        para_num = len(circuit.device.wires)\n",
    "        self.data = []\n",
    "        self.labels = []\n",
    "        for _ in tqdm(range(size)):\n",
    "            # 0에서 2π 사이의 랜덤 theta 값 6개 생성\n",
    "            if _ ==  0:\n",
    "                theta = [0]*para_num\n",
    "            else:\n",
    "                theta = [np.random.uniform(0, 2 * np.pi) for i in range(para_num)]\n",
    "            # random_circuit 및 meas1 함수와 theta 값을 사용하여 노이즈 팩터와 결과 생성\n",
    "            noise_factor, result = extra_polation_time(circuit, meas, theta, noise_factor=input_list, p1=0.1, p2=0.1)\n",
    "            self.data.append(np.array(noise_factor))\n",
    "            self.labels.append(result)\n",
    "    \n",
    "    def __len__(self):\n",
    "        \"\"\"\n",
    "        데이터셋의 크기 반환\n",
    "        \"\"\"\n",
    "        return len(self.data)\n",
    "    \n",
    "    def __getitem__(self, idx):\n",
    "        \"\"\"\n",
    "        주어진 인덱스에 해당하는 데이터 및 레이블 반환\n",
    "        \n",
    "        Args:\n",
    "        idx (int): 인덱스\n",
    "        \n",
    "        Returns:\n",
    "        tuple: 데이터 (torch.tensor)와 레이블 (torch.tensor)\n",
    "        \"\"\"\n",
    "        return torch.tensor(self.data[idx], dtype=torch.float32), torch.tensor(self.labels[idx], dtype=torch.float32)\n",
    "\n",
    "\n",
    "\n",
    "input_list1 = [0,0.25,0.5,0.75,9]\n",
    "input_list2 = [1,1.5,2,2.5,3]\n",
    "\n",
    "\n",
    "from kan import KAN\n",
    "class Model(nn.Module):\n",
    "    def __init__(self):\n",
    "        super(Model, self).__init__()\n",
    "        self.KAN = KAN([len(input_list2),1,1],grid=3)\n",
    "    def forward(self, x):\n",
    "        output = self.KAN(x)\n",
    "        #output = nn.Sigmoid()(output)\n",
    "        output = torch.squeeze(output)\n",
    "        return output\n",
    "\n",
    "model = Model()\n",
    "optimizer = torch.optim.Adam(model.parameters(), lr=0.05)\n",
    "criterion = nn.MSELoss()\n",
    "\n",
    "meas_val = qml.Hamiltonian([1,1,1], [qml.PauliY(1),qml.PauliY(0),qml.PauliZ(1)],grouping_type='qwc')\n",
    "\n",
    "\n",
    "#val_dataset = QuantumData_time(random_circuit,meas_val,input_list2,size=50)\n",
    "Pauli_set = ['X','Y','Z']\n",
    "\n",
    "\n",
    "models = {}\n",
    "for i in range(num_parameters):\n",
    "    for pauli in Pauli_set:\n",
    "        globals()['model_i_pauli'] = Model()\n",
    "        optimizer = torch.optim.Adam(globals()['model_i_pauli'].parameters(), lr=0.05)\n",
    "        criterion = nn.MSELoss()\n",
    "        meas_train  = qml.Hamiltonian([1],[getattr(qml,f'Pauli{pauli}')(i)])\n",
    "        # 데이터셋 및 데이터 로더 생성\n",
    "        train_dataset = QuantumData_time(train_circuit,meas_train,input_list2,size=50)\n",
    "        \n",
    "        #val_dataset_temp = QuantumData_time(random_circuit,meas1,input_list1,size=50)\n",
    "        # 데이터 로더\n",
    "        train_loader = DataLoader(train_dataset, batch_size=500, shuffle=True)\n",
    "\n",
    "\n",
    "\n",
    "        from functions.training import Early_stop_train_KAN\n",
    "        train_seq_KAN = Early_stop_train_KAN(globals()['model_i_pauli'],optimizer,criterion)\n",
    "        train_seq_KAN.train_model(train_loader,epochs=80,res=1000)\n",
    "        models[f'{i}_{pauli}'] = globals()['model_i_pauli']"
   ]
  },
  {
   "cell_type": "code",
   "execution_count": 101,
   "metadata": {},
   "outputs": [
    {
     "data": {
      "text/plain": [
       "[0,\n",
       " 0,\n",
       " 0,\n",
       " 0,\n",
       " 0,\n",
       " 0,\n",
       " 0,\n",
       " 0,\n",
       " 0,\n",
       " 0,\n",
       " 0,\n",
       " 0,\n",
       " 0,\n",
       " 0,\n",
       " 0,\n",
       " 0,\n",
       " 0,\n",
       " 0,\n",
       " 0,\n",
       " 0,\n",
       " 0,\n",
       " 0,\n",
       " 0,\n",
       " 0,\n",
       " 0,\n",
       " 0,\n",
       " 0,\n",
       " 0,\n",
       " 0,\n",
       " 0,\n",
       " 0,\n",
       " 0,\n",
       " 0,\n",
       " 0,\n",
       " 0,\n",
       " 0,\n",
       " 0,\n",
       " 0,\n",
       " 0,\n",
       " 0,\n",
       " 0,\n",
       " 0,\n",
       " 0,\n",
       " 0,\n",
       " 0,\n",
       " 0,\n",
       " 0,\n",
       " 0,\n",
       " 0,\n",
       " 0,\n",
       " 0,\n",
       " 0,\n",
       " 0,\n",
       " 0,\n",
       " 0,\n",
       " 0,\n",
       " 0,\n",
       " 0,\n",
       " 0,\n",
       " 0,\n",
       " 0,\n",
       " 0,\n",
       " 0,\n",
       " 0,\n",
       " 0,\n",
       " 0,\n",
       " 0,\n",
       " 0,\n",
       " 0,\n",
       " 0,\n",
       " 0,\n",
       " 0,\n",
       " 0,\n",
       " 0,\n",
       " 0,\n",
       " 0,\n",
       " 0,\n",
       " 0,\n",
       " 0,\n",
       " 0]"
      ]
     },
     "execution_count": 101,
     "metadata": {},
     "output_type": "execute_result"
    }
   ],
   "source": [
    "train_seq_KAN.loss_list"
   ]
  },
  {
   "cell_type": "code",
   "execution_count": 32,
   "metadata": {},
   "outputs": [],
   "source": [
    "meas_list = [qml.Hamiltonian([1], [qml.PauliY(1)],grouping_type='qwc'),qml.Hamiltonian([1], [qml.PauliY(2)],grouping_type='qwc'),qml.Hamiltonian([1], [qml.PauliY(3)],grouping_type='qwc')]"
   ]
  },
  {
   "cell_type": "code",
   "execution_count": 35,
   "metadata": {},
   "outputs": [],
   "source": [
    "\n",
    "# 데이터셋 생성 클래스\n",
    "class QuantumData_time_val(Dataset):\n",
    "    def __init__(self,circuit,meas_list,input_list = [1, 3, 5],size=50):\n",
    "        \"\"\"\n",
    "        QuantumData_time 클래스는 특정 양자 회로와 측정에 기반하여 데이터를 생성합니다.\n",
    "        주어진 크기(size)만큼의 데이터를 생성하며, 각 데이터는 일정한 노이즈 요인 하에서\n",
    "        양자 회로의 결과를 포함합니다.\n",
    "        \n",
    "        Args:\n",
    "        size (int): 생성할 데이터의 수\n",
    "        \"\"\"\n",
    "        np.random.seed(42)\n",
    "        para_num = len(circuit.device.wires)\n",
    "        self.data = []\n",
    "        self.labels = []\n",
    "        for _ in tqdm(range(size)):\n",
    "            # 0에서 2π 사이의 랜덤 theta 값 6개 생성\n",
    "            if _ ==  0:\n",
    "                theta = [0]*para_num\n",
    "            else:\n",
    "                theta = [np.random.uniform(0, 2 * np.pi) for i in range(para_num)]\n",
    "            # random_circuit 및 meas1 함수와 theta 값을 사용하여 노이즈 팩터와 결과 생성\n",
    "            for meas in meas_list:\n",
    "                noise_factor, result = extra_polation_time(circuit, meas, theta, noise_factor=input_list, p1=0.1, p2=0.1)\n",
    "                self.data.append(np.array(noise_factor))\n",
    "                self.labels.append(result)\n",
    "        \n",
    "    \n",
    "    def __len__(self):\n",
    "        \"\"\"\n",
    "        데이터셋의 크기 반환\n",
    "        \"\"\"\n",
    "        return len(self.data)\n",
    "    \n",
    "    def __getitem__(self, idx):\n",
    "        \"\"\"\n",
    "        주어진 인덱스에 해당하는 데이터 및 레이블 반환\n",
    "        \n",
    "        Args:\n",
    "        idx (int): 인덱스\n",
    "        \n",
    "        Returns:\n",
    "        tuple: 데이터 (torch.tensor)와 레이블 (torch.tensor)\n",
    "        \"\"\"\n",
    "        return torch.tensor(self.data[idx], dtype=torch.float32), torch.tensor(self.labels[idx], dtype=torch.float32)"
   ]
  },
  {
   "cell_type": "code",
   "execution_count": 36,
   "metadata": {},
   "outputs": [
    {
     "name": "stderr",
     "output_type": "stream",
     "text": [
      "100%|██████████| 50/50 [01:48<00:00,  2.16s/it]\n"
     ]
    }
   ],
   "source": [
    "val_dataset = QuantumData_time_val(random_circuit,meas_list,input_list2,size=50)"
   ]
  },
  {
   "cell_type": "code",
   "execution_count": 83,
   "metadata": {},
   "outputs": [],
   "source": [
    "labels = val_dataset.labels"
   ]
  },
  {
   "cell_type": "code",
   "execution_count": 60,
   "metadata": {},
   "outputs": [],
   "source": [
    "list_0 = [3*i for i in range(50)]\n",
    "list_1 = [3*i+1 for i in range(50) ]\n",
    "list_2 = [3*i+2 for i in range(50) ]"
   ]
  },
  {
   "cell_type": "code",
   "execution_count": 111,
   "metadata": {},
   "outputs": [],
   "source": [
    "data_1 = torch.tensor(np.array((val_dataset.data))[list_0],dtype=torch.float32)\n",
    "data_2 = torch.tensor(np.array((val_dataset.data))[list_1],dtype=torch.float32)\n",
    "data_3 = torch.tensor(np.array((val_dataset.data))[list_2],dtype=torch.float32)\n",
    "\n",
    "label_1 = torch.tensor(labels)[list_0]\n",
    "label_2 = torch.tensor(labels)[list_1]\n",
    "label_3 = torch.tensor(labels)[list_2]"
   ]
  },
  {
   "cell_type": "code",
   "execution_count": 82,
   "metadata": {},
   "outputs": [],
   "source": [
    "from torch import nn\n",
    "output_1 = models['1_Y'](data_1)\n",
    "output_2 = models['2_Y'](data_2)\n",
    "output_3 = models['3_Y'](data_3)"
   ]
  },
  {
   "cell_type": "code",
   "execution_count": 110,
   "metadata": {},
   "outputs": [
    {
     "data": {
      "text/plain": [
       "tensor(0.1400, dtype=torch.float64, grad_fn=<MseLossBackward0>)"
      ]
     },
     "execution_count": 110,
     "metadata": {},
     "output_type": "execute_result"
    }
   ],
   "source": [
    "nn.MSELoss()(output_1,label_1)"
   ]
  },
  {
   "cell_type": "code",
   "execution_count": 112,
   "metadata": {},
   "outputs": [
    {
     "data": {
      "text/plain": [
       "tensor(0.0966, dtype=torch.float64, grad_fn=<MseLossBackward0>)"
      ]
     },
     "execution_count": 112,
     "metadata": {},
     "output_type": "execute_result"
    }
   ],
   "source": [
    "nn.MSELoss()(output_2,label_2)"
   ]
  },
  {
   "cell_type": "code",
   "execution_count": 113,
   "metadata": {},
   "outputs": [
    {
     "data": {
      "text/plain": [
       "tensor(0.1457, dtype=torch.float64, grad_fn=<MseLossBackward0>)"
      ]
     },
     "execution_count": 113,
     "metadata": {},
     "output_type": "execute_result"
    }
   ],
   "source": [
    "nn.MSELoss()(output_3,label_3)"
   ]
  },
  {
   "cell_type": "code",
   "execution_count": null,
   "metadata": {},
   "outputs": [],
   "source": []
  }
 ],
 "metadata": {
  "kernelspec": {
   "display_name": "Lee",
   "language": "python",
   "name": "python3"
  },
  "language_info": {
   "codemirror_mode": {
    "name": "ipython",
    "version": 3
   },
   "file_extension": ".py",
   "mimetype": "text/x-python",
   "name": "python",
   "nbconvert_exporter": "python",
   "pygments_lexer": "ipython3",
   "version": "3.11.4"
  }
 },
 "nbformat": 4,
 "nbformat_minor": 2
}
