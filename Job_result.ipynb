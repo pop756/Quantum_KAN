{
 "cells": [
  {
   "cell_type": "code",
   "execution_count": 151,
   "metadata": {},
   "outputs": [
    {
     "ename": "TypeError",
     "evalue": "argument of type 'NoneType' is not iterable",
     "output_type": "error",
     "traceback": [
      "\u001b[1;31m---------------------------------------------------------------------------\u001b[0m",
      "\u001b[1;31mTypeError\u001b[0m                                 Traceback (most recent call last)",
      "Cell \u001b[1;32mIn[151], line 14\u001b[0m\n\u001b[0;32m     11\u001b[0m tag_to_search \u001b[38;5;241m=\u001b[39m [\u001b[38;5;124m'\u001b[39m\u001b[38;5;124mecr\u001b[39m\u001b[38;5;124m'\u001b[39m,\u001b[38;5;124m'\u001b[39m\u001b[38;5;124mecr_echo\u001b[39m\u001b[38;5;124m'\u001b[39m]\n\u001b[0;32m     13\u001b[0m \u001b[38;5;66;03m# 모든 작업을 가져와서 특정 태그를 가진 작업만 필터링\u001b[39;00m\n\u001b[1;32m---> 14\u001b[0m jobs_with_tag \u001b[38;5;241m=\u001b[39m \u001b[43m[\u001b[49m\u001b[43mjob\u001b[49m\u001b[43m \u001b[49m\u001b[38;5;28;43;01mfor\u001b[39;49;00m\u001b[43m \u001b[49m\u001b[43mjob\u001b[49m\u001b[43m \u001b[49m\u001b[38;5;129;43;01min\u001b[39;49;00m\u001b[43m \u001b[49m\u001b[43mservice\u001b[49m\u001b[38;5;241;43m.\u001b[39;49m\u001b[43mjobs\u001b[49m\u001b[43m(\u001b[49m\u001b[43m)\u001b[49m\u001b[43m \u001b[49m\u001b[38;5;28;43;01mif\u001b[39;49;00m\u001b[43m \u001b[49m\u001b[43m(\u001b[49m\u001b[38;5;124;43m'\u001b[39;49m\u001b[38;5;124;43mecr\u001b[39;49m\u001b[38;5;124;43m'\u001b[39;49m\u001b[43m \u001b[49m\u001b[38;5;129;43;01min\u001b[39;49;00m\u001b[43m \u001b[49m\u001b[43mjob\u001b[49m\u001b[38;5;241;43m.\u001b[39;49m\u001b[43mtags\u001b[49m\u001b[43m \u001b[49m\u001b[38;5;129;43;01mor\u001b[39;49;00m\u001b[43m \u001b[49m\u001b[38;5;124;43m'\u001b[39;49m\u001b[38;5;124;43mecr_echo\u001b[39;49m\u001b[38;5;124;43m'\u001b[39;49m\u001b[43m \u001b[49m\u001b[38;5;129;43;01min\u001b[39;49;00m\u001b[43m \u001b[49m\u001b[43mjob\u001b[49m\u001b[38;5;241;43m.\u001b[39;49m\u001b[43mtags\u001b[49m\u001b[43m)\u001b[49m\u001b[43m \u001b[49m\u001b[43m]\u001b[49m\n\u001b[0;32m     16\u001b[0m \u001b[38;5;66;03m# 작업 정보 출력\u001b[39;00m\n\u001b[0;32m     17\u001b[0m \u001b[38;5;28;01mfor\u001b[39;00m job \u001b[38;5;129;01min\u001b[39;00m jobs_with_tag:\n",
      "Cell \u001b[1;32mIn[151], line 14\u001b[0m, in \u001b[0;36m<listcomp>\u001b[1;34m(.0)\u001b[0m\n\u001b[0;32m     11\u001b[0m tag_to_search \u001b[38;5;241m=\u001b[39m [\u001b[38;5;124m'\u001b[39m\u001b[38;5;124mecr\u001b[39m\u001b[38;5;124m'\u001b[39m,\u001b[38;5;124m'\u001b[39m\u001b[38;5;124mecr_echo\u001b[39m\u001b[38;5;124m'\u001b[39m]\n\u001b[0;32m     13\u001b[0m \u001b[38;5;66;03m# 모든 작업을 가져와서 특정 태그를 가진 작업만 필터링\u001b[39;00m\n\u001b[1;32m---> 14\u001b[0m jobs_with_tag \u001b[38;5;241m=\u001b[39m [job \u001b[38;5;28;01mfor\u001b[39;00m job \u001b[38;5;129;01min\u001b[39;00m service\u001b[38;5;241m.\u001b[39mjobs() \u001b[38;5;28;01mif\u001b[39;00m (\u001b[38;5;124;43m'\u001b[39;49m\u001b[38;5;124;43mecr\u001b[39;49m\u001b[38;5;124;43m'\u001b[39;49m\u001b[43m \u001b[49m\u001b[38;5;129;43;01min\u001b[39;49;00m\u001b[43m \u001b[49m\u001b[43mjob\u001b[49m\u001b[38;5;241;43m.\u001b[39;49m\u001b[43mtags\u001b[49m \u001b[38;5;129;01mor\u001b[39;00m \u001b[38;5;124m'\u001b[39m\u001b[38;5;124mecr_echo\u001b[39m\u001b[38;5;124m'\u001b[39m \u001b[38;5;129;01min\u001b[39;00m job\u001b[38;5;241m.\u001b[39mtags) ]\n\u001b[0;32m     16\u001b[0m \u001b[38;5;66;03m# 작업 정보 출력\u001b[39;00m\n\u001b[0;32m     17\u001b[0m \u001b[38;5;28;01mfor\u001b[39;00m job \u001b[38;5;129;01min\u001b[39;00m jobs_with_tag:\n",
      "\u001b[1;31mTypeError\u001b[0m: argument of type 'NoneType' is not iterable"
     ]
    }
   ],
   "source": [
    "from qiskit_ibm_runtime import QiskitRuntimeService\n",
    "\n",
    "\n",
    "\n",
    "# QiskitRuntimeService 인스턴스 생성\n",
    "service = QiskitRuntimeService(channel='ibm_quantum',\n",
    "    instance='ibm-q/open/main',\n",
    "    #token='66f31661ef50e4445acd90ad9c79beda0f25adf297fc1082be7659596b31f08daf9ccf8c5fac93d92edaa1e08b9376efabd86d406b8fed6f45e1f1c334d73cf8')\n",
    "    token = '06f802eeac992c43c4106753d7c5fc31414a13eb7d91c99d67fb49cc50569e5b4b011f20c71b9607a07cb43ecc7044557c699022db91d1685ba4c886d5886854')\n",
    "# 특정 태그를 가진 작업들을 가져오기\n",
    "tag_to_search = ['ecr','ecr_echo']\n",
    "\n",
    "# 모든 작업을 가져와서 특정 태그를 가진 작업만 필터링\n",
    "jobs_with_tag = [job for job in service.jobs() if ('ecr' in job.tags or 'ecr_echo' in job.tags) ]\n",
    "\n",
    "# 작업 정보 출력\n",
    "for job in jobs_with_tag:\n",
    "    if ('ecr' == job.tags[0] or 'ecr_echo' == job.tags[0]):\n",
    "        job.update_tags(job.tags)\n",
    "    print(f\"Job ID: {job.job_id()}\")\n",
    "    print(f\"Job status: {job.status()}\")\n",
    "    print(f\"Job backend: {job.backend()}\")\n",
    "    print(f\"Job tags: {job.tags}\")\n",
    "    print()\n",
    "\n",
    "\n",
    "\n",
    "\n"
   ]
  },
  {
   "cell_type": "code",
   "execution_count": 256,
   "metadata": {},
   "outputs": [],
   "source": [
    "from qiskit_ibm_runtime import QiskitRuntimeService\n",
    "\n",
    "service = QiskitRuntimeService(\n",
    "    channel='ibm_quantum',\n",
    "    instance='ibm-q-skku/skku/skku-students',\n",
    "    token='06f802eeac992c43c4106753d7c5fc31414a13eb7d91c99d67fb49cc50569e5b4b011f20c71b9607a07cb43ecc7044557c699022db91d1685ba4c886d5886854'\n",
    ")\n",
    "job = service.job('cshvc0rea560008f1en0')\n",
    "job_result = job.result()\n",
    "\n",
    "# To get counts for a particular pub result, use \n",
    "#\n",
    "# pub_result = job_result[<idx>].data.<classical register>.get_counts()\n",
    "#\n",
    "# where <idx> is the index of the pub and <classical register> is the name of the classical register. \n",
    "# You can use circuit.cregs to find the name of the classical registers."
   ]
  },
  {
   "cell_type": "code",
   "execution_count": 257,
   "metadata": {},
   "outputs": [],
   "source": [
    "from qiskit.quantum_info import Pauli, Statevector\n",
    "import numpy as np\n",
    "# 10진수 형식의 측정 결과를 2진수 형식으로 변환\n",
    "def convert_counts_to_binary(counts, num_qubits):\n",
    "    binary_counts = {}\n",
    "    for key, value in counts.items():\n",
    "        binary_key = format(key, f'0{num_qubits}b')\n",
    "        binary_counts[binary_key] = value\n",
    "    return binary_counts\n",
    "# 개별 큐비트의 기대값 계산 함수\n",
    "\n",
    "def calculate_individual_expectation_values(counts, num_qubits):\n",
    "\n",
    "    bitstrings = list(counts.keys())\n",
    "    total_counts = sum(counts.values())\n",
    "    \n",
    "    individual_expectation_values = np.zeros(num_qubits)\n",
    "    \n",
    "    for i in range(num_qubits):\n",
    "        p0 = sum(counts[bitstring] for bitstring in bitstrings if bitstring[i] == '0') / total_counts\n",
    "        p1 = sum(counts[bitstring] for bitstring in bitstrings if bitstring[i] == '1') / total_counts\n",
    "        individual_expectation_values[i] = p0 - p1  # E[Z_i] = P(0) - P(1)\n",
    "    \n",
    "    return np.sum(individual_expectation_values)\n",
    "\n",
    "def sampler_to_estimator(job, num_qubits):\n",
    "    \"\"\"Sampler job이 있을때 그 값을 expectaion value로 바꿔주는 함수\n",
    "    단 여기서는 single measure기저의 합\n",
    "\n",
    "    Args:\n",
    "        job (_type_): _{qiskit job}_\n",
    "        num_qubits (_int_): _int_\n",
    "\n",
    "    Returns:\n",
    "        _list_: _exp_list_\n",
    "    \"\"\"\n",
    "    result = []\n",
    "    for index,dist in enumerate(job.result()):\n",
    "        exp_val = calculate_individual_expectation_values(dist.data['c'].get_counts(), num_qubits)\n",
    "        result.append(exp_val)\n",
    "    return result"
   ]
  },
  {
   "cell_type": "code",
   "execution_count": 258,
   "metadata": {},
   "outputs": [
    {
     "name": "stdout",
     "output_type": "stream",
     "text": [
      "['11', '(42, 43)', 'ecr']\n",
      "{'11': 6151, '10': 738, '01': 866, '00': 245}\n"
     ]
    },
    {
     "data": {
      "text/plain": [
       "[-1.95425,\n",
       " -1.9280000000000002,\n",
       " -1.9012499999999999,\n",
       " -1.8865,\n",
       " -1.8622500000000002,\n",
       " -1.82775,\n",
       " -1.79375,\n",
       " -1.80025,\n",
       " -1.749,\n",
       " -1.726,\n",
       " -1.68625,\n",
       " -1.663,\n",
       " -1.64025,\n",
       " -1.6195000000000002,\n",
       " -1.582,\n",
       " -1.5765,\n",
       " -1.50975,\n",
       " -1.49175,\n",
       " -1.4765000000000001,\n",
       " -1.43475]"
      ]
     },
     "execution_count": 258,
     "metadata": {},
     "output_type": "execute_result"
    }
   ],
   "source": [
    "job = service.job('cshvc0rea560008f1en0')\n",
    "job_result = job.result()\n",
    "print(job.tags)\n",
    "print(job_result[18].data['c'].get_counts())\n",
    "sampler_to_estimator(job, 2)"
   ]
  },
  {
   "cell_type": "code",
   "execution_count": 259,
   "metadata": {},
   "outputs": [
    {
     "name": "stdout",
     "output_type": "stream",
     "text": [
      "['11', 'ecr_echo', '(42, 43)', 'l=1.2']\n",
      "{'11': 5864, '10': 755, '01': 1043, '00': 338}\n"
     ]
    },
    {
     "data": {
      "text/plain": [
       "[-1.94475,\n",
       " -1.91125,\n",
       " -1.88325,\n",
       " -1.83775,\n",
       " -1.802,\n",
       " -1.7797500000000002,\n",
       " -1.7465000000000002,\n",
       " -1.7192500000000002,\n",
       " -1.6792500000000001,\n",
       " -1.652,\n",
       " -1.6247500000000001,\n",
       " -1.5830000000000002,\n",
       " -1.55925,\n",
       " -1.52925,\n",
       " -1.4995,\n",
       " -1.45475,\n",
       " -1.44475,\n",
       " -1.41575,\n",
       " -1.3815,\n",
       " -1.36425]"
      ]
     },
     "execution_count": 259,
     "metadata": {},
     "output_type": "execute_result"
    }
   ],
   "source": [
    "\n",
    "job = service.job('cshvbtz1k2e0008npqt0')\n",
    "job_result = job.result()\n",
    "print(job.tags)\n",
    "print(job_result[18].data['c'].get_counts())\n",
    "sampler_to_estimator(job, 2)"
   ]
  },
  {
   "cell_type": "code",
   "execution_count": 260,
   "metadata": {},
   "outputs": [
    {
     "name": "stdout",
     "output_type": "stream",
     "text": [
      "['11', 'ecr_echo', '(42, 43)', 'l=1']\n",
      "{'11': 5987, '00': 237, '10': 709, '01': 1067}\n"
     ]
    },
    {
     "data": {
      "text/plain": [
       "[-1.9534999999999998,\n",
       " -1.929,\n",
       " -1.88275,\n",
       " -1.88725,\n",
       " -1.847,\n",
       " -1.8114999999999999,\n",
       " -1.80225,\n",
       " -1.77125,\n",
       " -1.738,\n",
       " -1.7035,\n",
       " -1.6820000000000002,\n",
       " -1.6675,\n",
       " -1.649,\n",
       " -1.6147500000000001,\n",
       " -1.57225,\n",
       " -1.54125,\n",
       " -1.502,\n",
       " -1.47475,\n",
       " -1.4375,\n",
       " -1.4080000000000001]"
      ]
     },
     "execution_count": 260,
     "metadata": {},
     "output_type": "execute_result"
    }
   ],
   "source": [
    "job = service.job('cshvddd3fxq0008c0p00')\n",
    "job_result = job.result()\n",
    "print(job.tags)\n",
    "job_result[18].data['c'].get_counts()\n",
    "print(job_result[18].data['c'].get_counts())\n",
    "sampler_to_estimator(job, 2)"
   ]
  },
  {
   "cell_type": "code",
   "execution_count": 261,
   "metadata": {},
   "outputs": [
    {
     "name": "stdout",
     "output_type": "stream",
     "text": [
      "['11', 'ecr_echo', '(42, 43)', 'l=1.4']\n",
      "{'11': 5843, '10': 821, '01': 808, '00': 528}\n"
     ]
    },
    {
     "data": {
      "text/plain": [
       "[-1.938,\n",
       " -1.8945,\n",
       " -1.86175,\n",
       " -1.813,\n",
       " -1.7705,\n",
       " -1.7432500000000002,\n",
       " -1.708,\n",
       " -1.6787500000000002,\n",
       " -1.6295,\n",
       " -1.5975,\n",
       " -1.5465,\n",
       " -1.53375,\n",
       " -1.51975,\n",
       " -1.47,\n",
       " -1.4495,\n",
       " -1.4075,\n",
       " -1.3965,\n",
       " -1.34825,\n",
       " -1.3287499999999999,\n",
       " -1.2865]"
      ]
     },
     "execution_count": 261,
     "metadata": {},
     "output_type": "execute_result"
    }
   ],
   "source": [
    "job = service.job('cshvdpp3fxq0008c0p1g')\n",
    "job_result = job.result()\n",
    "print(job.tags)\n",
    "job_result[18].data['c'].get_counts()\n",
    "print(job_result[18].data['c'].get_counts())\n",
    "sampler_to_estimator(job, 2)"
   ]
  },
  {
   "cell_type": "code",
   "execution_count": 263,
   "metadata": {},
   "outputs": [
    {
     "name": "stdout",
     "output_type": "stream",
     "text": [
      "['11', 'ecr_echo', '(42, 43)', 'l=1']\n",
      "{'10': 681, '11': 6046, '00': 222, '01': 1051}\n"
     ]
    },
    {
     "data": {
      "text/plain": [
       "[-1.9525000000000001,\n",
       " -1.9312500000000001,\n",
       " -1.90175,\n",
       " -1.87625,\n",
       " -1.8507500000000001,\n",
       " -1.82775,\n",
       " -1.7950000000000002,\n",
       " -1.77325,\n",
       " -1.74425,\n",
       " -1.71475,\n",
       " -1.6815,\n",
       " -1.6849999999999998,\n",
       " -1.6325,\n",
       " -1.59175,\n",
       " -1.5785,\n",
       " -1.5557500000000002,\n",
       " -1.52375,\n",
       " -1.47525,\n",
       " -1.4560000000000002,\n",
       " -1.416]"
      ]
     },
     "execution_count": 263,
     "metadata": {},
     "output_type": "execute_result"
    }
   ],
   "source": [
    "job = service.job('cshvj89ea560008f1f10')\n",
    "job_result = job.result()\n",
    "print(job.tags)\n",
    "print(job_result[18].data['c'].get_counts())\n",
    "sampler_to_estimator(job, 2)\n"
   ]
  },
  {
   "cell_type": "code",
   "execution_count": 264,
   "metadata": {},
   "outputs": [
    {
     "name": "stdout",
     "output_type": "stream",
     "text": [
      "['11', 'ecr_echo', 'l=1', '(37, 38)']\n",
      "{'11': 5684, '00': 359, '01': 1413, '10': 544}\n"
     ]
    },
    {
     "data": {
      "text/plain": [
       "[-1.832,\n",
       " -1.74625,\n",
       " -1.7045000000000001,\n",
       " -1.6995,\n",
       " -1.6915,\n",
       " -1.659,\n",
       " -1.646,\n",
       " -1.62325,\n",
       " -1.58425,\n",
       " -1.573,\n",
       " -1.53225,\n",
       " -1.5175,\n",
       " -1.508,\n",
       " -1.4935,\n",
       " -1.47075,\n",
       " -1.4227500000000002,\n",
       " -1.38175,\n",
       " -1.3567500000000001,\n",
       " -1.33125,\n",
       " -1.28525]"
      ]
     },
     "execution_count": 264,
     "metadata": {},
     "output_type": "execute_result"
    }
   ],
   "source": [
    "job = service.job('cshvnbnp1vzg0089wk70')\n",
    "job_result = job.result()\n",
    "print(job.tags)\n",
    "print(job_result[18].data['c'].get_counts())\n",
    "sampler_to_estimator(job, 2)"
   ]
  },
  {
   "cell_type": "code",
   "execution_count": 265,
   "metadata": {},
   "outputs": [
    {
     "name": "stdout",
     "output_type": "stream",
     "text": [
      "['11', 'ecr', '(37, 38)']\n",
      "{'11': 3509, '00': 1312, '01': 1852, '10': 1327}\n"
     ]
    },
    {
     "data": {
      "text/plain": [
       "[-1.86625,\n",
       " -1.8267499999999999,\n",
       " -1.7715,\n",
       " -1.71875,\n",
       " -1.65075,\n",
       " -1.58925,\n",
       " -1.50125,\n",
       " -1.4445,\n",
       " -1.38725,\n",
       " -1.3175,\n",
       " -1.2309999999999999,\n",
       " -1.163,\n",
       " -1.0762500000000002,\n",
       " -1.005,\n",
       " -0.88575,\n",
       " -0.8140000000000001,\n",
       " -0.73875,\n",
       " -0.6579999999999999,\n",
       " -0.54925,\n",
       " -0.47525000000000006]"
      ]
     },
     "execution_count": 265,
     "metadata": {},
     "output_type": "execute_result"
    }
   ],
   "source": [
    "job = service.job('cshvngp1k2e0008npr80')\n",
    "job_result = job.result()\n",
    "print(job.tags)\n",
    "print(job_result[18].data['c'].get_counts())\n",
    "sampler_to_estimator(job, 2)"
   ]
  },
  {
   "cell_type": "code",
   "execution_count": 266,
   "metadata": {},
   "outputs": [
    {
     "name": "stdout",
     "output_type": "stream",
     "text": [
      "['11', 'ecr', '(37, 38)']\n",
      "{'11': 3349, '01': 2051, '00': 1153, '10': 1447}\n"
     ]
    },
    {
     "data": {
      "text/plain": [
       "[-1.87625,\n",
       " -1.8395,\n",
       " -1.792,\n",
       " -1.7245,\n",
       " -1.663,\n",
       " -1.61625,\n",
       " -1.5115,\n",
       " -1.43775,\n",
       " -1.3935,\n",
       " -1.3085,\n",
       " -1.2105000000000001,\n",
       " -1.1420000000000001,\n",
       " -1.0287499999999998,\n",
       " -0.9762499999999998,\n",
       " -0.9112499999999999,\n",
       " -0.7989999999999999,\n",
       " -0.712,\n",
       " -0.6447499999999999,\n",
       " -0.549,\n",
       " -0.42874999999999996]"
      ]
     },
     "execution_count": 266,
     "metadata": {},
     "output_type": "execute_result"
    }
   ],
   "source": [
    "job = service.job('cshvt4rea560008f1fjg')\n",
    "job_result = job.result()\n",
    "print(job.tags)\n",
    "print(job_result[18].data['c'].get_counts())\n",
    "sampler_to_estimator(job, 2)"
   ]
  },
  {
   "cell_type": "code",
   "execution_count": 267,
   "metadata": {},
   "outputs": [
    {
     "name": "stdout",
     "output_type": "stream",
     "text": [
      "['11', 'ecr_echo', 'l=1', '(37, 38)']\n",
      "{'11': 5674, '01': 1395, '10': 547, '00': 384}\n"
     ]
    },
    {
     "data": {
      "text/plain": [
       "[-1.8225,\n",
       " -1.7437500000000001,\n",
       " -1.69475,\n",
       " -1.6965000000000001,\n",
       " -1.6775,\n",
       " -1.6775,\n",
       " -1.67025,\n",
       " -1.60925,\n",
       " -1.58575,\n",
       " -1.5690000000000002,\n",
       " -1.5482500000000001,\n",
       " -1.526,\n",
       " -1.49575,\n",
       " -1.45775,\n",
       " -1.461,\n",
       " -1.40825,\n",
       " -1.373,\n",
       " -1.3210000000000002,\n",
       " -1.3225,\n",
       " -1.2905]"
      ]
     },
     "execution_count": 267,
     "metadata": {},
     "output_type": "execute_result"
    }
   ],
   "source": [
    "job = service.job('cshvwc11k2e0008nprn0')\n",
    "job_result = job.result()\n",
    "print(job.tags)\n",
    "print(job_result[18].data['c'].get_counts())\n",
    "sampler_to_estimator(job, 2)"
   ]
  },
  {
   "cell_type": "code",
   "execution_count": 268,
   "metadata": {},
   "outputs": [
    {
     "name": "stdout",
     "output_type": "stream",
     "text": [
      "['11', 'ecr', '(37, 38)']\n",
      "{'01': 2009, '11': 3373, '10': 1372, '00': 1246}\n"
     ]
    },
    {
     "data": {
      "text/plain": [
       "[-1.861,\n",
       " -1.823,\n",
       " -1.7627499999999998,\n",
       " -1.69225,\n",
       " -1.6484999999999999,\n",
       " -1.5605,\n",
       " -1.49275,\n",
       " -1.439,\n",
       " -1.329,\n",
       " -1.2737500000000002,\n",
       " -1.20475,\n",
       " -1.1065,\n",
       " -1.05925,\n",
       " -0.9452500000000001,\n",
       " -0.8605,\n",
       " -0.7839999999999999,\n",
       " -0.6995,\n",
       " -0.6065,\n",
       " -0.53175,\n",
       " -0.45000000000000007]"
      ]
     },
     "execution_count": 268,
     "metadata": {},
     "output_type": "execute_result"
    }
   ],
   "source": [
    "job = service.job('cshvws33fxq0008c0q8g')\n",
    "job_result = job.result()\n",
    "print(job.tags)\n",
    "print(job_result[18].data['c'].get_counts())\n",
    "sampler_to_estimator(job, 2)"
   ]
  },
  {
   "cell_type": "code",
   "execution_count": 269,
   "metadata": {},
   "outputs": [
    {
     "name": "stdout",
     "output_type": "stream",
     "text": [
      "['11', 'ecr', '(37, 38)']\n",
      "{'01': 1914, '00': 1344, '11': 3347, '10': 1395}\n"
     ]
    },
    {
     "data": {
      "text/plain": [
       "[-1.87175,\n",
       " -1.845,\n",
       " -1.7990000000000002,\n",
       " -1.72175,\n",
       " -1.66425,\n",
       " -1.605,\n",
       " -1.53525,\n",
       " -1.469,\n",
       " -1.3539999999999999,\n",
       " -1.26875,\n",
       " -1.20825,\n",
       " -1.14575,\n",
       " -1.04925,\n",
       " -0.96,\n",
       " -0.8812499999999999,\n",
       " -0.79125,\n",
       " -0.6817500000000001,\n",
       " -0.6224999999999999,\n",
       " -0.50075,\n",
       " -0.4515]"
      ]
     },
     "execution_count": 269,
     "metadata": {},
     "output_type": "execute_result"
    }
   ],
   "source": [
    "job = service.job('cshw0z3p1vzg0089wm1g')\n",
    "job_result = job.result()\n",
    "print(job.tags)\n",
    "print(job_result[18].data['c'].get_counts())\n",
    "sampler_to_estimator(job, 2)"
   ]
  },
  {
   "cell_type": "code",
   "execution_count": 278,
   "metadata": {},
   "outputs": [
    {
     "name": "stdout",
     "output_type": "stream",
     "text": [
      "['(40, 39)', '11', 'ecr_echo', 'l=1']\n",
      "{'00': 429, '11': 4487, '10': 2685, '01': 399}\n"
     ]
    },
    {
     "data": {
      "text/plain": [
       "[-1.806,\n",
       " -1.57125,\n",
       " -1.24775,\n",
       " -1.084,\n",
       " -1.058,\n",
       " -1.1179999999999999,\n",
       " -1.1742499999999998,\n",
       " -1.2862500000000001,\n",
       " -1.4004999999999999,\n",
       " -1.4514999999999998,\n",
       " -1.4195,\n",
       " -1.3679999999999999,\n",
       " -1.27875,\n",
       " -1.153,\n",
       " -1.04125,\n",
       " -1.0285,\n",
       " -0.9735,\n",
       " -1.0045,\n",
       " -1.0145,\n",
       " -1.0242499999999999]"
      ]
     },
     "execution_count": 278,
     "metadata": {},
     "output_type": "execute_result"
    }
   ],
   "source": [
    "job = service.job('cshxjhjvnxy0008cxgm0')\n",
    "job_result = job.result()\n",
    "print(job.tags)\n",
    "print(job_result[18].data['c'].get_counts())\n",
    "sampler_to_estimator(job, 2)"
   ]
  },
  {
   "cell_type": "code",
   "execution_count": 277,
   "metadata": {},
   "outputs": [
    {
     "name": "stdout",
     "output_type": "stream",
     "text": [
      "['(40, 39)', '11', 'ecr']\n",
      "{'11': 7515, '01': 86, '10': 230, '00': 169}\n"
     ]
    },
    {
     "data": {
      "text/plain": [
       "[-1.8365,\n",
       " -1.871,\n",
       " -1.75725,\n",
       " -1.79375,\n",
       " -1.745,\n",
       " -1.82175,\n",
       " -1.76125,\n",
       " -1.8027499999999999,\n",
       " -1.76,\n",
       " -1.75525,\n",
       " -1.6895,\n",
       " -1.66825,\n",
       " -1.69375,\n",
       " -1.7155,\n",
       " -1.69875,\n",
       " -1.6567500000000002,\n",
       " -1.6684999999999999,\n",
       " -1.6185,\n",
       " -1.588,\n",
       " -1.5750000000000002]"
      ]
     },
     "execution_count": 277,
     "metadata": {},
     "output_type": "execute_result"
    }
   ],
   "source": [
    "job = service.job('cshxjpt1k2e0008npxbg')\n",
    "job_result = job.result()\n",
    "print(job.tags)\n",
    "print(job_result[0].data['c'].get_counts())\n",
    "sampler_to_estimator(job, 2)"
   ]
  },
  {
   "cell_type": "code",
   "execution_count": 254,
   "metadata": {},
   "outputs": [],
   "source": [
    "from qiskit.quantum_info import Pauli, Statevector\n",
    "import numpy as np\n",
    "# 10진수 형식의 측정 결과를 2진수 형식으로 변환\n",
    "def convert_counts_to_binary(counts, num_qubits):\n",
    "    binary_counts = {}\n",
    "    for key, value in counts.items():\n",
    "        binary_key = format(key, f'0{num_qubits}b')\n",
    "        binary_counts[binary_key] = value\n",
    "    return binary_counts\n",
    "# 개별 큐비트의 기대값 계산 함수\n",
    "\n",
    "def calculate_individual_expectation_values(counts, num_qubits):\n",
    "\n",
    "    bitstrings = list(counts.keys())\n",
    "    total_counts = sum(counts.values())\n",
    "    \n",
    "    individual_expectation_values = np.zeros(num_qubits)\n",
    "    \n",
    "    for i in range(num_qubits):\n",
    "        p0 = sum(counts[bitstring] for bitstring in bitstrings if bitstring[i] == '0') / total_counts\n",
    "        p1 = sum(counts[bitstring] for bitstring in bitstrings if bitstring[i] == '1') / total_counts\n",
    "        individual_expectation_values[i] = p0 - p1  # E[Z_i] = P(0) - P(1)\n",
    "    \n",
    "    return np.sum(individual_expectation_values)\n",
    "\n",
    "def sampler_to_estimator(job, num_qubits):\n",
    "    \"\"\"Sampler job이 있을때 그 값을 expectaion value로 바꿔주는 함수\n",
    "    단 여기서는 single measure기저의 합\n",
    "\n",
    "    Args:\n",
    "        job (_type_): _{qiskit job}_\n",
    "        num_qubits (_int_): _int_\n",
    "\n",
    "    Returns:\n",
    "        _list_: _exp_list_\n",
    "    \"\"\"\n",
    "    result = []\n",
    "    for index,dist in enumerate(job.result()):\n",
    "        exp_val = calculate_individual_expectation_values(dist.data['c'].get_counts(), num_qubits)\n",
    "        result.append(exp_val)\n",
    "    return result"
   ]
  },
  {
   "cell_type": "code",
   "execution_count": 255,
   "metadata": {},
   "outputs": [
    {
     "data": {
      "text/plain": [
       "[-1.9525000000000001,\n",
       " -1.9312500000000001,\n",
       " -1.90175,\n",
       " -1.87625,\n",
       " -1.8507500000000001,\n",
       " -1.82775,\n",
       " -1.7950000000000002,\n",
       " -1.77325,\n",
       " -1.74425,\n",
       " -1.71475,\n",
       " -1.6815,\n",
       " -1.6849999999999998,\n",
       " -1.6325,\n",
       " -1.59175,\n",
       " -1.5785,\n",
       " -1.5557500000000002,\n",
       " -1.52375,\n",
       " -1.47525,\n",
       " -1.4560000000000002,\n",
       " -1.416]"
      ]
     },
     "execution_count": 255,
     "metadata": {},
     "output_type": "execute_result"
    }
   ],
   "source": [
    "sampler_to_estimator(job, 2)"
   ]
  },
  {
   "cell_type": "code",
   "execution_count": 128,
   "metadata": {},
   "outputs": [],
   "source": [
    "ecr_result_dict = {'00':[],'11':[]}\n",
    "\n",
    "for job in jobs_with_tag:\n",
    "    result = sampler_to_estimator(job,2)\n",
    "    ecr_result_dict[job.tags[0]].append(result)"
   ]
  },
  {
   "cell_type": "code",
   "execution_count": 129,
   "metadata": {},
   "outputs": [
    {
     "data": {
      "text/plain": [
       "['11', 'ecr']"
      ]
     },
     "execution_count": 129,
     "metadata": {},
     "output_type": "execute_result"
    }
   ],
   "source": [
    "job.tags"
   ]
  },
  {
   "cell_type": "code",
   "execution_count": 150,
   "metadata": {},
   "outputs": [
    {
     "name": "stderr",
     "output_type": "stream",
     "text": [
      "C:\\Users\\pop75\\AppData\\Local\\Temp\\ipykernel_25988\\638611057.py:47: OptimizeWarning: Covariance of the parameters could not be estimated\n",
      "  params, covariance = curve_fit(linear_model_11, lamb, result)\n"
     ]
    },
    {
     "name": "stdout",
     "output_type": "stream",
     "text": [
      "0.01644024494391072 ['11', 'ecr_echo']\n",
      "0.015597518739066785 ['11', 'ecr']\n"
     ]
    },
    {
     "data": {
      "image/png": "[encoded data removed]",
      "text/plain": [
       "<Figure size 2000x1600 with 1 Axes>"
      ]
     },
     "metadata": {},
     "output_type": "display_data"
    }
   ],
   "source": [
    "import matplotlib.pyplot as plt\n",
    "from scipy.optimize import curve_fit\n",
    "import numpy as np\n",
    "lamb = np.array([2*(j+1) for j in range(20)])\n",
    "color = {'ecr':'b','ecr_echo':'g'}\n",
    "\n",
    "# 선형 모델 정의\n",
    "def linear_model_00(x, a, b):\n",
    "    return a * x + 2\n",
    "\n",
    "def linear_model_00(x, a, b):\n",
    "    return a * x + 2\n",
    "def linear_model_11(x, a, b):\n",
    "    return a * x - 2\n",
    "# 지수 함수 정의\n",
    "def exp_func(x, a, b, c):\n",
    "    return b*a **(x) + c\n",
    "\n",
    "def extrapolate_values_temp(y_data,x_data):\n",
    "    # 선형 함수 피팅\n",
    "    # 지수 함수 피팅 초기 추정값 및 범위 설정\n",
    "    initial_guess = [0.9, 1, 1]\n",
    "    bounds = ([0, -2, -np.inf], [1, 2, np.inf])\n",
    "\n",
    "    params_exp, _ = curve_fit(exp_func, x_data, y_data, p0=initial_guess, bounds=bounds, maxfev=10000)\n",
    "    a_exp, b_exp, c_exp = params_exp\n",
    "    y_exp_0 = exp_func(0, a_exp, b_exp, c_exp)\n",
    "\n",
    "    return y_exp_0,params_exp\n",
    "\n",
    "\n",
    "\n",
    "\n",
    "plt.figure(figsize=(20,16))\n",
    "\n",
    "jobs_with_tag_temp = [jobs_with_tag[0],jobs_with_tag[5]]\n",
    "for job in jobs_with_tag_temp:\n",
    "    result = sampler_to_estimator(job,2)\n",
    "    \n",
    "    \n",
    "    if job.tags[0] == '00':\n",
    "        index = 1\n",
    "        params, covariance = curve_fit(linear_model_00, lamb, result)\n",
    "        a_fit, b_fit = params\n",
    "    else:\n",
    "        index= 2\n",
    "        params, covariance = curve_fit(linear_model_11, lamb, result)\n",
    "        a_fit, b_fit = params\n",
    "    _,params = extrapolate_values_temp(result,lamb)\n",
    "    print(a_fit,job.tags)\n",
    "    plt.subplot(2,2,index)\n",
    "    plt.scatter(lamb,result,label = f'{job.tags[1]}',color = color[job.tags[1]])\n",
    "    if job.tags[0] == '00':\n",
    "        plt.plot(lamb, linear_model_00(lamb, a_fit, b_fit), label=f'{job.tags[1]} Fitted function', color = color[job.tags[1]])\n",
    "    else:\n",
    "        plt.plot(lamb, linear_model_11(lamb, a_fit, b_fit), label=f'{job.tags[1]} Fitted function', color = color[job.tags[1]])\n",
    "    plt.plot(lamb,exp_func(lamb,*params), label=f'exp {job.tags[1]} Fitted function', color = color[job.tags[1]])\n",
    "    plt.title(f\"{job.tags[0]} ecr echo\")\n",
    "    plt.xlabel(r'$\\lambda$')\n",
    "    plt.ylabel(r'$E_{\\lambda}$')\n",
    "    plt.legend()"
   ]
  },
  {
   "cell_type": "code",
   "execution_count": 146,
   "metadata": {},
   "outputs": [
    {
     "data": {
      "text/plain": [
       "array([ 9.90611790e-01, -2.00000000e+00,  1.15816831e-03])"
      ]
     },
     "execution_count": 146,
     "metadata": {},
     "output_type": "execute_result"
    }
   ],
   "source": [
    "params"
   ]
  },
  {
   "cell_type": "code",
   "execution_count": 125,
   "metadata": {},
   "outputs": [
    {
     "data": {
      "text/plain": [
       "0.6520279067169085"
      ]
     },
     "execution_count": 125,
     "metadata": {},
     "output_type": "execute_result"
    }
   ],
   "source": [
    "0.008338499999435145/0.012788563056175262"
   ]
  },
  {
   "cell_type": "code",
   "execution_count": 103,
   "metadata": {},
   "outputs": [
    {
     "data": {
      "image/png": "[encoded data removed]",
      "text/plain": [
       "<Figure size 640x480 with 1 Axes>"
      ]
     },
     "metadata": {},
     "output_type": "display_data"
    },
    {
     "name": "stdout",
     "output_type": "stream",
     "text": [
      "Fitted parameters: a = 2.358837748092015, b = 2.34637053794526\n"
     ]
    },
    {
     "data": {
      "image/png": "[encoded data removed]",
      "text/plain": [
       "<Figure size 640x480 with 1 Axes>"
      ]
     },
     "metadata": {},
     "output_type": "display_data"
    }
   ],
   "source": [
    "from scipy.optimize import curve_fit\n",
    "import numpy as np\n",
    "import matplotlib.pyplot as plt\n",
    "\n",
    "# 임의의 함수 정의\n",
    "def true_function(x):\n",
    "    return 2.5 * x + 1.5  # 예: y = 2.5x + 1.5\n",
    "\n",
    "# 데이터 포인트 생성\n",
    "np.random.seed(0)\n",
    "x_data = np.linspace(0, 10, 50)\n",
    "y_data = true_function(x_data) + np.random.normal(scale=1.0, size=x_data.shape)\n",
    "\n",
    "# 데이터 시각화\n",
    "plt.scatter(x_data, y_data, label='Data')\n",
    "plt.plot(x_data, true_function(x_data), label='True function', color='green')\n",
    "plt.legend()\n",
    "plt.show()\n",
    "\n",
    "# 선형 모델 정의\n",
    "def linear_model(x, a, b):\n",
    "    return a * x + b\n",
    "\n",
    "# 선형 피팅 수행\n",
    "params, covariance = curve_fit(linear_model, x_data, y_data)\n",
    "a_fit, b_fit = params\n",
    "\n",
    "print(f\"Fitted parameters: a = {a_fit}, b = {b_fit}\")\n",
    "\n",
    "# 피팅 결과 시각화\n",
    "plt.scatter(x_data, y_data, label='Data')\n",
    "plt.plot(x_data, true_function(x_data), label='True function', color='green')\n",
    "plt.plot(x_data, linear_model(x_data, a_fit, b_fit), label='Fitted function', color='red')\n",
    "plt.legend()\n",
    "plt.show()"
   ]
  },
  {
   "cell_type": "code",
   "execution_count": 83,
   "metadata": {},
   "outputs": [],
   "source": [
    "import matplotlib.pyplot as plt\n",
    "lamb = [2*(j+1) for j in range(len(ecr_result_dict['00'][0]))]\n",
    "\n",
    "\n"
   ]
  },
  {
   "cell_type": "code",
   "execution_count": 73,
   "metadata": {},
   "outputs": [
    {
     "data": {
      "image/png": "[encoded data removed]",
      "text/plain": [
       "<Figure size 2400x1600 with 1 Axes>"
      ]
     },
     "metadata": {},
     "output_type": "display_data"
    }
   ],
   "source": [
    "plt.figure(figsize=(24*len(ecr_result_dict['00']),16))\n",
    "index = 1\n",
    "for result in ecr_result_dict['00']:\n",
    "    plt.subplot(2,2,index)\n",
    "    plt.plot(lamb,result)\n",
    "    plt.xlabel(r'$\\lambda$')\n",
    "    plt.ylabel(r'$E_{\\lambda}$')\n",
    "    index+=1"
   ]
  },
  {
   "cell_type": "code",
   "execution_count": 56,
   "metadata": {},
   "outputs": [
    {
     "data": {
      "text/plain": [
       "[-1.9007369025530434,\n",
       " -1.8556112637103002,\n",
       " -1.8034894306018519,\n",
       " -1.748254984806555,\n",
       " -1.7411291084850404,\n",
       " -1.7242331205836159,\n",
       " -1.7117755463933744,\n",
       " -1.7142036448920877,\n",
       " -1.697008627248532,\n",
       " -1.6669273236167945,\n",
       " -1.639940580717361,\n",
       " -1.6245720403668322,\n",
       " -1.5927362239128195,\n",
       " -1.5580868245140902,\n",
       " -1.510770837608284,\n",
       " -1.5132637771349018,\n",
       " -1.52034642610448,\n",
       " -1.4715930080730748,\n",
       " -1.4626154790611414,\n",
       " -1.4357151908655807]"
      ]
     },
     "execution_count": 56,
     "metadata": {},
     "output_type": "execute_result"
    }
   ],
   "source": [
    "ecr_result_dict['11'][0]"
   ]
  },
  {
   "cell_type": "code",
   "execution_count": null,
   "metadata": {},
   "outputs": [],
   "source": []
  }
 ],
 "metadata": {
  "kernelspec": {
   "display_name": "EMT",
   "language": "python",
   "name": "python3"
  },
  "language_info": {
   "codemirror_mode": {
    "name": "ipython",
    "version": 3
   },
   "file_extension": ".py",
   "mimetype": "text/x-python",
   "name": "python",
   "nbconvert_exporter": "python",
   "pygments_lexer": "ipython3",
   "version": "3.11.9"
  }
 },
 "nbformat": 4,
 "nbformat_minor": 2
}
